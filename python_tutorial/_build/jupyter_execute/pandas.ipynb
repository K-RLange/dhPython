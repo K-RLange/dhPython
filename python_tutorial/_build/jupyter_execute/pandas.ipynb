{
 "cells": [
  {
   "cell_type": "markdown",
   "id": "00bb90a1",
   "metadata": {},
   "source": [
    "# 6. pandas and numpy"
   ]
  },
  {
   "cell_type": "code",
   "execution_count": 1,
   "id": "793520d0",
   "metadata": {},
   "outputs": [
    {
     "name": "stdout",
     "output_type": "stream",
     "text": [
      "Requirement already satisfied: pandas in c:\\users\\kalange\\anaconda3\\envs\\pythontutorial\\lib\\site-packages (2.2.2)\n",
      "Requirement already satisfied: numpy in c:\\users\\kalange\\anaconda3\\envs\\pythontutorial\\lib\\site-packages (1.26.4)\n",
      "Requirement already satisfied: python-dateutil>=2.8.2 in c:\\users\\kalange\\anaconda3\\envs\\pythontutorial\\lib\\site-packages (from pandas) (2.9.0.post0)\n",
      "Requirement already satisfied: pytz>=2020.1 in c:\\users\\kalange\\anaconda3\\envs\\pythontutorial\\lib\\site-packages (from pandas) (2024.1)\n",
      "Requirement already satisfied: tzdata>=2022.7 in c:\\users\\kalange\\anaconda3\\envs\\pythontutorial\\lib\\site-packages (from pandas) (2024.1)\n",
      "Requirement already satisfied: six>=1.5 in c:\\users\\kalange\\anaconda3\\envs\\pythontutorial\\lib\\site-packages (from python-dateutil>=2.8.2->pandas) (1.16.0)\n"
     ]
    },
    {
     "name": "stdout",
     "output_type": "stream",
     "text": [
      "2.2.2\n"
     ]
    }
   ],
   "source": [
    "#:tags: [remove-cell]\n",
    "!pip install pandas numpy\n",
    "#import pip\n",
    "#pip.main([\"install\", \"pandas\"])\n",
    "import pandas\n",
    "print(pandas.__version__)"
   ]
  },
  {
   "cell_type": "markdown",
   "id": "97f13482",
   "metadata": {},
   "source": [
    "Remember the library we installed in the last chapter? That library is called pandas and is arguably the most commonly used library in Python. It allows us to turn any data into a table, which we can then plot and analyze.\n",
    "\n",
    "Let's look at it in action:"
   ]
  },
  {
   "cell_type": "code",
   "execution_count": 2,
   "id": "ff46f7a9",
   "metadata": {},
   "outputs": [
    {
     "name": "stdout",
     "output_type": "stream",
     "text": [
      "      Name  Age                        Hobby\n",
      "0    Alice   25  Completing Python tutorials\n",
      "1      Bob   30                       sports\n",
      "2  Charlie   35  Completing Python tutorials\n"
     ]
    }
   ],
   "source": [
    "import pandas as pd\n",
    "names = [\"Alice\", \"Bob\", \"Charlie\"]\n",
    "ages = [25, 30, 35]\n",
    "hobby = [\"Completing Python tutorials\", \"sports\", \"Completing Python tutorials\"]\n",
    "data = {\"Name\": names, \"Age\": ages, \"Hobby\": hobby}\n",
    "df = pd.DataFrame(data)\n",
    "print(df)"
   ]
  }
 ],
 "metadata": {
  "jupytext": {
   "formats": "md:myst",
   "text_representation": {
    "extension": ".md",
    "format_name": "myst",
    "format_version": 0.13,
    "jupytext_version": "1.11.5"
   }
  },
  "kernelspec": {
   "display_name": "Python 3",
   "language": "python",
   "name": "python3"
  },
  "language_info": {
   "codemirror_mode": {
    "name": "ipython",
    "version": 3
   },
   "file_extension": ".py",
   "mimetype": "text/x-python",
   "name": "python",
   "nbconvert_exporter": "python",
   "pygments_lexer": "ipython3",
   "version": "3.11.9"
  },
  "source_map": [
   13,
   16,
   23,
   27
  ]
 },
 "nbformat": 4,
 "nbformat_minor": 5
}