{
 "cells": [
  {
   "cell_type": "markdown",
   "id": "e8053204",
   "metadata": {},
   "source": [
    "# 1. Arithmetics and variables\n",
    "\n",
    "## Arithmetics\n",
    "In its most basic form, Python can simply be used as a calculator. You can use it to, among others, add, subtract, multiply, and divide numbers.\n",
    "\n",
    "The following cell shows you how to add two numbers in Python:"
   ]
  },
  {
   "cell_type": "code",
   "execution_count": 1,
   "id": "af5318ce",
   "metadata": {},
   "outputs": [
    {
     "name": "stdout",
     "output_type": "stream",
     "text": [
      "5\n"
     ]
    }
   ],
   "source": [
    "print(2 + 3)"
   ]
  },
  {
   "cell_type": "markdown",
   "id": "fbe83376",
   "metadata": {},
   "source": [
    "To show any object within Python in your console, you can use the print(...) command, in which you can replace \"...\" with the object that you want to display. In this case, it is the answer of 2+2.\n",
    "\n",
    "Other numeric calculations can be performed like this:"
   ]
  },
  {
   "cell_type": "code",
   "execution_count": 2,
   "id": "34377ca5",
   "metadata": {},
   "outputs": [
    {
     "name": "stdout",
     "output_type": "stream",
     "text": [
      "12\n",
      "1\n",
      "5.0\n",
      "100\n",
      "1\n"
     ]
    }
   ],
   "source": [
    "print(3 * 4)  # Multiplication\n",
    "print(3 - 2)  # Subtraction\n",
    "print(10 / 2)  # Division\n",
    "print(10 ** 2)  # Exponentiation\n",
    "print(10 % 3)  # Modulo"
   ]
  },
  {
   "cell_type": "markdown",
   "id": "0b86e066",
   "metadata": {},
   "source": [
    "The \"#\" symbol is used to comment out code. This means that the code following the # symbol will not be executed. Comments are useful to explain what the code does.\n",
    "\n",
    "## Variables\n",
    "````{margin}\n",
    "```{note}\n",
    "When naming variables, you should take care to not overwrite existing names. You should, for instance, not name a variable \"print\", because it would overwrite the meaning of the print function. This would lead to an error, when you try to use the print function later on.\n",
    "```\n",
    "````\n",
    "In Python, you can also store values in variables. This is useful when you want to use a value multiple times in your code. You can assign a value to a variable using the = operator. \n",
    "Variables can take any name. In a practical analysis, it is suggested to use meaningful names for your variables. This makes it easier for you and others to understand the code.\n",
    "\n",
    "The following cell shows how to assign a value to a variable and then print it:"
   ]
  },
  {
   "cell_type": "code",
   "execution_count": 3,
   "id": "a19b1e5e",
   "metadata": {},
   "outputs": [
    {
     "name": "stdout",
     "output_type": "stream",
     "text": [
      "5\n"
     ]
    }
   ],
   "source": [
    "x = 5\n",
    "print(x)"
   ]
  },
  {
   "cell_type": "markdown",
   "id": "a974c0be",
   "metadata": {},
   "source": [
    "If you want to alter the variable, you can also do this using the \"=\" operator:"
   ]
  },
  {
   "cell_type": "code",
   "execution_count": 4,
   "id": "e1062588",
   "metadata": {},
   "outputs": [
    {
     "name": "stdout",
     "output_type": "stream",
     "text": [
      "5\n",
      "10\n"
     ]
    }
   ],
   "source": [
    "x = 5\n",
    "print(x)\n",
    "x = x + 5\n",
    "print(x)"
   ]
  },
  {
   "cell_type": "markdown",
   "id": "c1c209a2",
   "metadata": {},
   "source": [
    "You can thus use variables as placeholders for objects. In this case, x is assigned to be an integer (a whole number). If we define another variable y to be an integer as well, we can perform calculations with these variables:"
   ]
  },
  {
   "cell_type": "code",
   "execution_count": 5,
   "id": "38d78b1e",
   "metadata": {},
   "outputs": [
    {
     "name": "stdout",
     "output_type": "stream",
     "text": [
      "17\n"
     ]
    }
   ],
   "source": [
    "x = 5\n",
    "x = x + 2\n",
    "y = 10\n",
    "z = x + y\n",
    "print(z)"
   ]
  },
  {
   "cell_type": "markdown",
   "id": "6683d69b",
   "metadata": {},
   "source": [
    "## Exercise\n",
    "Now it is your turn! Solve the following exercise and click on the hidden code cell below to view the solution.\n",
    "\n",
    "### Exercise 1\n",
    "Calculate the sum of 5 and 7 and store the result in a variable called \"var1\". Then multiply this variable with itself and store the result in a variable called \"var2\". Finally, print the result of \"var2\"."
   ]
  },
  {
   "cell_type": "code",
   "execution_count": 6,
   "id": "e0ed88ee",
   "metadata": {},
   "outputs": [],
   "source": [
    "# Your code here"
   ]
  },
  {
   "cell_type": "code",
   "execution_count": 7,
   "id": "906f1d74",
   "metadata": {
    "tags": [
     "hide-cell"
    ]
   },
   "outputs": [
    {
     "name": "stdout",
     "output_type": "stream",
     "text": [
      "144\n"
     ]
    }
   ],
   "source": [
    "var1 = 5 + 7\n",
    "var2 = var1 * var1\n",
    "print(var2)"
   ]
  },
  {
   "cell_type": "markdown",
   "id": "475e8c91",
   "metadata": {},
   "source": [
    "### Exercise 2"
   ]
  },
  {
   "cell_type": "code",
   "execution_count": 8,
   "id": "533c45d5",
   "metadata": {
    "tags": [
     "thebe-remove-input-init"
    ]
   },
   "outputs": [],
   "source": [
    "example=[{\n",
    "        \"question\": \"What is the correct syntax for multiplying 3 with 7, storing the result in a variable and printing that variable?\",\n",
    "        \"type\": \"multiple_choice\",\n",
    "        \"answers\": [\n",
    "            {\n",
    "                \"code\": \"\"\"x = 3 * 7\n",
    "print(x)\"\"\",\n",
    "                \"correct\": True,\n",
    "                \"feedback\": \"Correct.\" \n",
    "            },\n",
    "            {\n",
    "                \"code\": \"\"\"3 * 7\n",
    "print(x)\"\"\",\n",
    "                \"correct\": False,\n",
    "                \"feedback\": \"x would not be defined here, so there is nothing to print.\"\n",
    "            },\n",
    "            {\n",
    "                \"code\": \"print(3 * 7)\",\n",
    "                \"correct\": False,\n",
    "                \"feedback\": \"This does print the result of 3 * 7, but does not store it in a variable for later use.\"\n",
    "            },\n",
    "            {\n",
    "                \"code\": \"print(x = 3 * 7)\",\n",
    "                \"correct\": False,\n",
    "                \"feedback\": \"The print function would be confused, because you are trying to assign a value to x and print it at the same time. Try to separate these two steps.\"\n",
    "            }\n",
    "        ]\n",
    "    }]"
   ]
  }
 ],
 "metadata": {
  "jupytext": {
   "formats": "md:myst",
   "text_representation": {
    "extension": ".md",
    "format_name": "myst",
    "format_version": 0.13,
    "jupytext_version": "1.11.5"
   }
  },
  "kernelspec": {
   "display_name": "Python 3",
   "language": "python",
   "name": "python3"
  },
  "language_info": {
   "codemirror_mode": {
    "name": "ipython",
    "version": 3
   },
   "file_extension": ".py",
   "mimetype": "text/x-python",
   "name": "python",
   "nbconvert_exporter": "python",
   "pygments_lexer": "ipython3",
   "version": "3.11.9"
  },
  "source_map": [
   13,
   21,
   23,
   27,
   33,
   46,
   49,
   52,
   57,
   60,
   66,
   73,
   76,
   81,
   84
  ]
 },
 "nbformat": 4,
 "nbformat_minor": 5
}