{
 "cells": [
  {
   "cell_type": "markdown",
   "id": "7d73a766",
   "metadata": {},
   "source": [
    "# 3. Conditions and Loops\n",
    "Programming often does not stop at creating variables. In many cases, you want to perform certain actions only under specific conditions or you want to repeat certain actions multiple times. This is where conditions and loops come into play.\n",
    "\n",
    "## Conditions\n",
    "Conditions are used to check whether a certain statement is true or false. \n",
    "If the statement is true, a certain action is performed. If the statement is false, \n",
    "another action is performed. Such conditions are always binary and can thus be represented\n",
    "by a boolean variable.\n",
    "\n",
    "```{note} Code blocks\n",
    "In Python, the colon \":\" is used to indicate the start of a block of code. All following lines that belong to that code block are then indented by four spaces (usually one tabulator-press). This is the way, Python interprets, which lines of code belong together and is a must. Otherwise, your code will throw errors.\n",
    "This structure - a colon followed by intended lines - happens whenever you want to check for a condition, loop over something, create a function or a class. \n",
    "How these other blocks of code work will be explained in later sections, but it is important to remember that they always follow this simple structure.\n",
    "```\n",
    "We check for conditions using the \"if\" keyword and create an intended code block that is executed if and only if the condition is met.\n",
    "\n",
    "In the following cell, we define a boolean and check whether it is true or not. If it is true, we print \"The boolean is true\"."
   ]
  },
  {
   "cell_type": "code",
   "execution_count": 1,
   "id": "991215ce",
   "metadata": {},
   "outputs": [
    {
     "name": "stdout",
     "output_type": "stream",
     "text": [
      "The boolean is true\n"
     ]
    }
   ],
   "source": [
    "boolean = True\n",
    "if boolean:\n",
    "    print(\"The boolean is true\")"
   ]
  },
  {
   "cell_type": "markdown",
   "id": "ae1c6c93",
   "metadata": {},
   "source": [
    "We can also define what happens, if the condition is not met. We can do this by using the \"else\" keyword directly after the \"if\"-code block has ended. \n",
    "\n",
    "The following code cell checks if a certain number is larger than 5. If this is the case, it prints \"The number is larger than 5\". If the number is not larger than 5, it prints \"The number is not larger than 5\"."
   ]
  },
  {
   "cell_type": "code",
   "execution_count": 2,
   "id": "794dce7d",
   "metadata": {},
   "outputs": [
    {
     "name": "stdout",
     "output_type": "stream",
     "text": [
      "The number is larger than 5\n"
     ]
    }
   ],
   "source": [
    "number = 6\n",
    "if number > 5:\n",
    "    print(\"The number is larger than 5\")\n",
    "else:\n",
    "    print(\"The number is not larger than 5\")"
   ]
  },
  {
   "cell_type": "markdown",
   "id": "323df0b6",
   "metadata": {},
   "source": [
    "We can even go further and check multiple conditions. We can do this by using the \"elif\" keyword. This keyword is short for \"else if\" and is used to check another condition if the first condition is not met.\n",
    "It is different from \"else\", because it does not always execute its code block, if the original \"if\" condition wasn't met, but only if an additional condition is met..\n",
    "\n",
    "In the following cell, we check if a number is larger than 0, larger than 5 or larger than 10. We print the result of each check."
   ]
  },
  {
   "cell_type": "code",
   "execution_count": 3,
   "id": "576539be",
   "metadata": {},
   "outputs": [
    {
     "name": "stdout",
     "output_type": "stream",
     "text": [
      "The number is larger than 5 but smaller or equal to 10\n"
     ]
    }
   ],
   "source": [
    "number = 6\n",
    "if number > 10:\n",
    "    print(\"The number is larger than 10\")\n",
    "elif number > 5:\n",
    "    print(\"The number is larger than 5 but smaller or equal to 10\")\n",
    "elif number > 0:\n",
    "    print(\"The number is larger than 0 but smaller than 5\")\n",
    "else:\n",
    "    print(\"The number is smaller or equal to 0\")"
   ]
  }
 ],
 "metadata": {
  "jupytext": {
   "formats": "md:myst",
   "text_representation": {
    "extension": ".md",
    "format_name": "myst",
    "format_version": 0.13,
    "jupytext_version": "1.11.5"
   }
  },
  "kernelspec": {
   "display_name": "Python 3",
   "language": "python",
   "name": "python3"
  },
  "language_info": {
   "codemirror_mode": {
    "name": "ipython",
    "version": 3
   },
   "file_extension": ".py",
   "mimetype": "text/x-python",
   "name": "python",
   "nbconvert_exporter": "python",
   "pygments_lexer": "ipython3",
   "version": "3.11.9"
  },
  "source_map": [
   13,
   32,
   36,
   42,
   48,
   55
  ]
 },
 "nbformat": 4,
 "nbformat_minor": 5
}