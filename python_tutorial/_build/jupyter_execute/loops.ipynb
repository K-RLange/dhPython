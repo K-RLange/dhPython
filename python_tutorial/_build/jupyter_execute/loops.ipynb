{
 "cells": [
  {
   "cell_type": "markdown",
   "id": "50b8b388",
   "metadata": {},
   "source": [
    "# 3. Conditions and Loops\n",
    "Programming often does not stop at creating variables. In many cases, you want to perform certain actions only under specific conditions or you want to repeat certain actions multiple times. This is where conditions and loops come into play.\n",
    "\n",
    "## Conditions\n",
    "Conditions are used to check whether a certain statement is true or false. \n",
    "If the statement is true, a certain action is performed. If the statement is false, \n",
    "another action is performed. Such conditions are always binary and can thus be represented\n",
    "by a boolean variable.\n",
    "\n",
    "```{note} Code blocks\n",
    "In Python, the colon \":\" is used to indicate the start of a block of code. All following lines that belong to that code block are then indented by four spaces (usually one tabulator-press). This is the way, Python interprets, which lines of code belong together and is a must. Otherwise, your code will throw errors.\n",
    "This structure - a colon followed by intended lines - happens whenever you want to check for a condition, loop over something, create a function or a class. \n",
    "How these other blocks of code work will be explained in later sections, but it is important to remember that they always follow this simple structure.\n",
    "```\n",
    "\n",
    "The following code cell checks if a certain number is larger than 5. If this is the case, it prints \"The number is larger than 5\". If the number is not larger than 5, it prints \"The number is not larger than 5\"."
   ]
  },
  {
   "cell_type": "code",
   "execution_count": 1,
   "id": "0f042955",
   "metadata": {},
   "outputs": [
    {
     "name": "stdout",
     "output_type": "stream",
     "text": [
      "The number is larger than 5\n"
     ]
    }
   ],
   "source": [
    "number = 6\n",
    "if number > 5:\n",
    "    print(\"The number is larger than 5\")\n",
    "else:\n",
    "    print(\"The number is not larger than 5\")"
   ]
  }
 ],
 "metadata": {
  "jupytext": {
   "formats": "md:myst",
   "text_representation": {
    "extension": ".md",
    "format_name": "myst",
    "format_version": 0.13,
    "jupytext_version": "1.11.5"
   }
  },
  "kernelspec": {
   "display_name": "Python 3",
   "language": "python",
   "name": "python3"
  },
  "language_info": {
   "codemirror_mode": {
    "name": "ipython",
    "version": 3
   },
   "file_extension": ".py",
   "mimetype": "text/x-python",
   "name": "python",
   "nbconvert_exporter": "python",
   "pygments_lexer": "ipython3",
   "version": "3.11.9"
  },
  "source_map": [
   13,
   32
  ]
 },
 "nbformat": 4,
 "nbformat_minor": 5
}