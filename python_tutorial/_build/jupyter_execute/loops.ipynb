{
 "cells": [
  {
   "cell_type": "markdown",
   "id": "25b7c996",
   "metadata": {},
   "source": [
    "# 3. Conditions and Loops\n",
    "Programming often does not stop at creating variables. In many cases, you want to perform certain actions only under specific conditions or you want to repeat certain actions multiple times. This is where conditions and loops come into play.\n",
    "\n",
    "## Conditions\n",
    "Conditions are used to check whether a certain statement is true or false. If the statement is true, a certain action is performed. If the statement is false, another action is performed. Such conditions are always binary and can thus be represented by a boolean variable.\n",
    "\n",
    "````{margin}\n",
    "```{note}\n",
    "In Python, the colon (:) is used to indicate the start of a block of code. The block of code is then indented by four spaces. This is important, as Python uses indentation to determine which lines of code belong together.\n",
    "```\n",
    "````\n",
    "\n",
    "The following code cell checks if a certain number is larger than 5. If this is the case, it prints \"The number is larger than 5\". If the number is not larger than 5, it prints \"The number is not larger than 5\"."
   ]
  },
  {
   "cell_type": "code",
   "execution_count": 1,
   "id": "a7cf30ec",
   "metadata": {},
   "outputs": [
    {
     "name": "stdout",
     "output_type": "stream",
     "text": [
      "The number is larger than 5\n"
     ]
    }
   ],
   "source": [
    "number = 6\n",
    "if number > 5:\n",
    "    print(\"The number is larger than 5\")\n",
    "else:\n",
    "    print(\"The number is not larger than 5\")"
   ]
  }
 ],
 "metadata": {
  "jupytext": {
   "formats": "md:myst",
   "text_representation": {
    "extension": ".md",
    "format_name": "myst",
    "format_version": 0.13,
    "jupytext_version": "1.11.5"
   }
  },
  "kernelspec": {
   "display_name": "Python 3",
   "language": "python",
   "name": "python3"
  },
  "language_info": {
   "codemirror_mode": {
    "name": "ipython",
    "version": 3
   },
   "file_extension": ".py",
   "mimetype": "text/x-python",
   "name": "python",
   "nbconvert_exporter": "python",
   "pygments_lexer": "ipython3",
   "version": "3.11.9"
  },
  "source_map": [
   13,
   29
  ]
 },
 "nbformat": 4,
 "nbformat_minor": 5
}