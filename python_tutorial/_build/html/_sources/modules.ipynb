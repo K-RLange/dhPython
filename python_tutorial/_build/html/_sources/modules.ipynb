{
 "cells": [
  {
   "cell_type": "markdown",
   "id": "69168f2c",
   "metadata": {},
   "source": [
    "# 5. Modules\n",
    "While basically anything can be coded from scratch in Python, it is wise to first see if someone has already implemented what you are trying to do. That can save time and effort and the implementation is hopefully done well from someone confident enough to share their code online.\n",
    "\n",
    "To use functions, classes and other code that has been published online, you must import their respective modules.\n",
    "\n",
    "Modules are what we call code files. They are organized in libraries (also called packages), which are an organized collection of modules.\n",
    "\n",
    "## Importing modules\n",
    "To import a module or libraries, you can just use \"import module_or_library_name\" in your Python console.\n",
    "\n",
    "When you import a module, you can call the functions within it using \"module_or_library_name.function()\". Let's see how this looks like, if we want to calculate the mean of a list, for which we need to import the statistics module:"
   ]
  },
  {
   "cell_type": "code",
   "execution_count": 1,
   "id": "4cc001f3",
   "metadata": {},
   "outputs": [
    {
     "name": "stdout",
     "output_type": "stream",
     "text": [
      "2\n"
     ]
    }
   ],
   "source": [
    "import statistics\n",
    "print(statistics.mean([1, 2, 3]))"
   ]
  },
  {
   "cell_type": "markdown",
   "id": "755811e0",
   "metadata": {},
   "source": [
    "Alternatively, you can also import only certain functions from that module. To do this, you can use \"from module_or_library_name import function\"."
   ]
  },
  {
   "cell_type": "code",
   "execution_count": 2,
   "id": "0af920e5",
   "metadata": {},
   "outputs": [
    {
     "name": "stdout",
     "output_type": "stream",
     "text": [
      "2\n"
     ]
    }
   ],
   "source": [
    "from statistics import mean\n",
    "print(mean([1, 2, 3]))"
   ]
  },
  {
   "cell_type": "markdown",
   "id": "edf8e933",
   "metadata": {},
   "source": [
    "### Importing local modules\n",
    "You can import local code files in the same manner in which you import modules created by other people. If you have created a code file called \"module.py\", you can import it using:"
   ]
  },
  {
   "cell_type": "code",
   "execution_count": 3,
   "id": "bb8ceae3",
   "metadata": {
    "tags": [
     "remove-output"
    ]
   },
   "outputs": [
    {
     "ename": "ModuleNotFoundError",
     "evalue": "No module named 'module'",
     "output_type": "error",
     "traceback": [
      "\u001b[1;31m---------------------------------------------------------------------------\u001b[0m",
      "\u001b[1;31mModuleNotFoundError\u001b[0m                       Traceback (most recent call last)",
      "Cell \u001b[1;32mIn[3], line 1\u001b[0m\n\u001b[1;32m----> 1\u001b[0m \u001b[38;5;28;01mimport\u001b[39;00m \u001b[38;5;21;01mmodule\u001b[39;00m\n",
      "\u001b[1;31mModuleNotFoundError\u001b[0m: No module named 'module'"
     ]
    }
   ],
   "source": [
    "import module"
   ]
  },
  {
   "cell_type": "markdown",
   "id": "0ebd1cc9",
   "metadata": {},
   "source": [
    "When module is in a different directory, you can still import it. When the module is two directories above the current one, you need to add two dots in front of the module's name:"
   ]
  },
  {
   "cell_type": "code",
   "execution_count": null,
   "id": "a8145e40",
   "metadata": {
    "tags": [
     "remove-output"
    ]
   },
   "outputs": [],
   "source": [
    "import ..module"
   ]
  },
  {
   "cell_type": "markdown",
   "id": "43de1474",
   "metadata": {},
   "source": [
    "If you want to import a module in a subdirectory, you can import it like this:"
   ]
  },
  {
   "cell_type": "code",
   "execution_count": null,
   "id": "80f820a4",
   "metadata": {
    "tags": [
     "remove-output"
    ]
   },
   "outputs": [],
   "source": [
    "import subdirectory.module"
   ]
  },
  {
   "cell_type": "markdown",
   "id": "e26c9e04",
   "metadata": {},
   "source": [
    "## Installing libraries\n",
    "Python comes with a small number of pre-installed modules and libraries. But there are many more out there, which you will have to install first.\n",
    "\n",
    "The releases of Python libraries are usually released on the [Python Package Index (PyPi)](https://pypi.org/). \n",
    "\n",
    "To install libraries from PyPi, you can use **pip**, which comes pre-installed with every Python version from Python 3.0 onwards.\n",
    "\n",
    "You can call pip to install a certain package within Python, but it is generally recommended to call it outside of Python in a terminal.\n",
    "\n",
    "Let's say, we want to install the very popular \"pandas\" package. To install it directly from Python, you can call the \"main\" function of the pip library. This function takes a list as an input. The first object of this list is the string \"install\", denoting that we want to install a library. The second is the name of the library you want to install:"
   ]
  },
  {
   "cell_type": "code",
   "execution_count": null,
   "id": "1afb8c54",
   "metadata": {},
   "outputs": [],
   "source": [
    "import pip\n",
    "pip.main([\"install\", \"pandas\"])"
   ]
  },
  {
   "cell_type": "markdown",
   "id": "bfe22dd8",
   "metadata": {},
   "source": [
    "If you are in a terminal instead (which is what I would recommend), you can use the following command:\n",
    "```bash\n",
    "pip install pandas\n",
    "```"
   ]
  }
 ],
 "metadata": {
  "jupytext": {
   "formats": "md:myst",
   "text_representation": {
    "class": "no-execute",
    "extension": ".md",
    "format_name": "myst",
    "format_version": 0.13,
    "jupytext_version": "1.11.5"
   }
  },
  "kernelspec": {
   "display_name": "Python 3",
   "language": "python",
   "name": "python3"
  },
  "language_info": {
   "codemirror_mode": {
    "name": "ipython",
    "version": 3
   },
   "file_extension": ".py",
   "mimetype": "text/x-python",
   "name": "python",
   "nbconvert_exporter": "python",
   "pygments_lexer": "ipython3",
   "version": "3.11.9"
  },
  "source_map": [
   14,
   27,
   30,
   34,
   37,
   41,
   44,
   47,
   50,
   53,
   56,
   68,
   71
  ]
 },
 "nbformat": 4,
 "nbformat_minor": 5
}