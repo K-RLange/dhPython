{
 "cells": [
  {
   "cell_type": "markdown",
   "id": "5a6f6ca1",
   "metadata": {},
   "source": [
    "# 5. Modules\n",
    "While basically anything can be coded from scratch in Python, it is wise to first see if someone has already implemented what you are trying to do. That can save time and effort and the implementation is hopefully done well from someone confident enough to share their code online.\n",
    "\n",
    "To use functions, classes and other code that has been published online, you must import their respective modules.\n",
    "\n",
    "Modules are what we call code files. They are organized in libraries (also called packages), which are an organized collection of modules.\n",
    "\n",
    "## Importing modules\n",
    "To import a module or libraries, you can just use \"import module_or_library_name\" in your Python console.\n",
    "\n",
    "When you import a module, you can call the functions within it using \"module_or_library_name.function()\". Let's see how this looks like, if we want to calculate the mean of a list, for which we need to import the statistics module:"
   ]
  },
  {
   "cell_type": "code",
   "execution_count": 1,
   "id": "9014abce",
   "metadata": {},
   "outputs": [
    {
     "name": "stdout",
     "output_type": "stream",
     "text": [
      "2\n"
     ]
    }
   ],
   "source": [
    "import statistics\n",
    "print(statistics.mean([1, 2, 3]))"
   ]
  },
  {
   "cell_type": "markdown",
   "id": "edd4c8c3",
   "metadata": {},
   "source": [
    "Alternatively, you can also import only certain functions from that module. To do this, you can use \"from module_or_library_name import function\"."
   ]
  },
  {
   "cell_type": "code",
   "execution_count": 2,
   "id": "cd757e69",
   "metadata": {},
   "outputs": [
    {
     "name": "stdout",
     "output_type": "stream",
     "text": [
      "2\n"
     ]
    }
   ],
   "source": [
    "from statistics import mean\n",
    "print(mean([1, 2, 3]))"
   ]
  },
  {
   "cell_type": "markdown",
   "id": "c503ceed",
   "metadata": {},
   "source": [
    "### Importing local modules\n",
    "You can import local code files in the same manner in which you import modules created by other people. If you have created a code file called \"module.py\", you can import it using:\n",
    "```{code-block}\n",
    "import module\n",
    "```\n",
    "\n",
    "When module is in a different directory, you can still import it. When the module is two directories above the current one, you need to add two dots in front of the module's name:\n",
    "```{code-block}\n",
    "import ..module\n",
    "```\n",
    "\n",
    "If you want to import a module in a subdirectory, you can import it like this:\n",
    "```{code-block}\n",
    "import subdirectory.module\n",
    "```\n",
    "\n",
    "## Installing libraries\n",
    "Python comes with a small number of pre-installed modules and libraries. But there are many more out there, which you will have to install first.\n",
    "\n",
    "The releases of Python libraries are usually released on the [Python Package Index (PyPi)](https://pypi.org/). \n",
    "\n",
    "To install libraries from PyPi, you can use **pip**, which comes pre-installed with every Python version from Python 3.0 onwards.\n",
    "\n",
    "You can call pip to install a certain package within Python, but it is generally recommended to call it outside of Python in a terminal.\n",
    "\n",
    "Let's say, we want to install the very popular \"pandas\" package. To install it directly from Python, you can call the \"main\" function of the pip library. This function takes a list as an input. The first object of this list is the string \"install\", denoting that we want to install a library. The second is the name of the library you want to install:"
   ]
  },
  {
   "cell_type": "code",
   "execution_count": 3,
   "id": "3b12af38",
   "metadata": {},
   "outputs": [
    {
     "name": "stderr",
     "output_type": "stream",
     "text": [
      "WARNING: pip is being invoked by an old script wrapper. This will fail in a future version of pip.\n",
      "Please see https://github.com/pypa/pip/issues/5599 for advice on fixing the underlying issue.\n",
      "To avoid this problem you can invoke Python with '-m pip' instead of running pip directly.\n"
     ]
    },
    {
     "data": {
      "text/html": [
       "<pre style=\"white-space:pre;overflow-x:auto;line-height:normal;font-family:Menlo,'DejaVu Sans Mono',consolas,'Courier New',monospace\">Requirement already satisfied: pandas in c:\\users\\kalange\\anaconda3\\envs\\pythontutorial\\lib\\site-packages (2.2.2)\n",
       "</pre>\n"
      ],
      "text/plain": [
       "Requirement already satisfied: pandas in c:\\users\\kalange\\anaconda3\\envs\\pythontutorial\\lib\\site-packages (2.2.2)\n"
      ]
     },
     "metadata": {},
     "output_type": "display_data"
    },
    {
     "data": {
      "text/html": [
       "<pre style=\"white-space:pre;overflow-x:auto;line-height:normal;font-family:Menlo,'DejaVu Sans Mono',consolas,'Courier New',monospace\">Requirement already satisfied: numpy&gt;=1.23.2 in c:\\users\\kalange\\anaconda3\\envs\\pythontutorial\\lib\\site-packages (from pandas) (1.26.4)\n",
       "</pre>\n"
      ],
      "text/plain": [
       "Requirement already satisfied: numpy>=1.23.2 in c:\\users\\kalange\\anaconda3\\envs\\pythontutorial\\lib\\site-packages (from pandas) (1.26.4)\n"
      ]
     },
     "metadata": {},
     "output_type": "display_data"
    },
    {
     "data": {
      "text/html": [
       "<pre style=\"white-space:pre;overflow-x:auto;line-height:normal;font-family:Menlo,'DejaVu Sans Mono',consolas,'Courier New',monospace\">Requirement already satisfied: python-dateutil&gt;=2.8.2 in c:\\users\\kalange\\anaconda3\\envs\\pythontutorial\\lib\\site-packages (from pandas) (2.9.0.post0)\n",
       "</pre>\n"
      ],
      "text/plain": [
       "Requirement already satisfied: python-dateutil>=2.8.2 in c:\\users\\kalange\\anaconda3\\envs\\pythontutorial\\lib\\site-packages (from pandas) (2.9.0.post0)\n"
      ]
     },
     "metadata": {},
     "output_type": "display_data"
    },
    {
     "data": {
      "text/html": [
       "<pre style=\"white-space:pre;overflow-x:auto;line-height:normal;font-family:Menlo,'DejaVu Sans Mono',consolas,'Courier New',monospace\">Requirement already satisfied: pytz&gt;=2020.1 in c:\\users\\kalange\\anaconda3\\envs\\pythontutorial\\lib\\site-packages (from pandas) (2024.1)\n",
       "</pre>\n"
      ],
      "text/plain": [
       "Requirement already satisfied: pytz>=2020.1 in c:\\users\\kalange\\anaconda3\\envs\\pythontutorial\\lib\\site-packages (from pandas) (2024.1)\n"
      ]
     },
     "metadata": {},
     "output_type": "display_data"
    },
    {
     "data": {
      "text/html": [
       "<pre style=\"white-space:pre;overflow-x:auto;line-height:normal;font-family:Menlo,'DejaVu Sans Mono',consolas,'Courier New',monospace\">Requirement already satisfied: tzdata&gt;=2022.7 in c:\\users\\kalange\\anaconda3\\envs\\pythontutorial\\lib\\site-packages (from pandas) (2024.1)\n",
       "</pre>\n"
      ],
      "text/plain": [
       "Requirement already satisfied: tzdata>=2022.7 in c:\\users\\kalange\\anaconda3\\envs\\pythontutorial\\lib\\site-packages (from pandas) (2024.1)\n"
      ]
     },
     "metadata": {},
     "output_type": "display_data"
    },
    {
     "data": {
      "text/html": [
       "<pre style=\"white-space:pre;overflow-x:auto;line-height:normal;font-family:Menlo,'DejaVu Sans Mono',consolas,'Courier New',monospace\">Requirement already satisfied: six&gt;=1.5 in c:\\users\\kalange\\anaconda3\\envs\\pythontutorial\\lib\\site-packages (from python-dateutil&gt;=2.8.2-&gt;pandas) (1.16.0)\n",
       "</pre>\n"
      ],
      "text/plain": [
       "Requirement already satisfied: six>=1.5 in c:\\users\\kalange\\anaconda3\\envs\\pythontutorial\\lib\\site-packages (from python-dateutil>=2.8.2->pandas) (1.16.0)\n"
      ]
     },
     "metadata": {},
     "output_type": "display_data"
    },
    {
     "data": {
      "text/plain": [
       "0"
      ]
     },
     "execution_count": 3,
     "metadata": {},
     "output_type": "execute_result"
    }
   ],
   "source": [
    "import pip\n",
    "pip.main([\"install\", \"pandas\"])"
   ]
  },
  {
   "cell_type": "markdown",
   "id": "1aa0ba52",
   "metadata": {},
   "source": [
    "If you are in a terminal instead (which is what I would recommend), you can use the following command:\n",
    "```bash\n",
    "pip install pandas\n",
    "```"
   ]
  }
 ],
 "metadata": {
  "jupytext": {
   "formats": "md:myst",
   "text_representation": {
    "class": "no-execute",
    "extension": ".md",
    "format_name": "myst",
    "format_version": 0.13,
    "jupytext_version": "1.11.5"
   }
  },
  "kernelspec": {
   "display_name": "Python 3",
   "language": "python",
   "name": "python3"
  },
  "language_info": {
   "codemirror_mode": {
    "name": "ipython",
    "version": 3
   },
   "file_extension": ".py",
   "mimetype": "text/x-python",
   "name": "python",
   "nbconvert_exporter": "python",
   "pygments_lexer": "ipython3",
   "version": "3.11.9"
  },
  "source_map": [
   14,
   27,
   30,
   34,
   37,
   65,
   68
  ]
 },
 "nbformat": 4,
 "nbformat_minor": 5
}