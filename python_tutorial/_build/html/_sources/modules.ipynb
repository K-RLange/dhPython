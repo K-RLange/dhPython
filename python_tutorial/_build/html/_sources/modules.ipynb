{
 "cells": [
  {
   "cell_type": "markdown",
   "id": "17f4ea1a",
   "metadata": {},
   "source": [
    "# 5. Modules"
   ]
  }
 ],
 "metadata": {
  "jupytext": {
   "formats": "md:myst",
   "text_representation": {
    "extension": ".md",
    "format_name": "myst",
    "format_version": 0.13,
    "jupytext_version": "1.11.5"
   }
  },
  "kernelspec": {
   "display_name": "Python 3",
   "language": "python",
   "name": "python3"
  },
  "source_map": [
   13
  ]
 },
 "nbformat": 4,
 "nbformat_minor": 5
}