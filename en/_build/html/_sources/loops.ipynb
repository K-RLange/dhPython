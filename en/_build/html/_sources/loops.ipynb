{
 "cells": [
  {
   "cell_type": "markdown",
   "id": "28eb36eb",
   "metadata": {},
   "source": [
    "<div style=\"float: right;\">\n",
    "  <a href=\"../de/loops.html\" style=\"margin-left: 10px;\">🇩🇪 Deutsch</a>\n",
    "  <a href=\"../en/loops.html\">🇬🇧 English</a>\n",
    "</div>\n",
    "\n",
    "# 6. Conditions and Loops\n",
    "Programming often does not stop at creating variables. In many cases, you want to perform certain actions only under specific conditions or you want to repeat certain actions multiple times. This is where conditions and loops come into play.\n",
    "\n",
    "## Conditions\n",
    "Conditions are used to check whether a certain statement is true or false. \n",
    "If the statement is true, a certain action is performed. If the statement is false, \n",
    "another action is performed. Such conditions are always binary and can thus be represented\n",
    "by a boolean variable.\n",
    "\n",
    "````{margin}\n",
    "```{note} Code blocks\n",
    "In Python, the colon \":\" is used to indicate the start of a block of code. All following lines that belong to that code block are then indented by four spaces (usually one tabulator-press). This is the way, Python interprets, which lines of code belong together and is a must. Otherwise, your code will throw errors.\n",
    "\n",
    "This structure - a colon followed by intended lines - happens whenever you want to check for a condition, loop over something, create a function or a class. \n",
    "\n",
    "How these other blocks of code work will be explained in later sections, but it is important to remember that they always follow this simple structure.\n",
    "```\n",
    "````\n",
    "We check for conditions using the \"if\" keyword and create an intended code block that is executed if and only if the condition is met.\n",
    "\n",
    "In the following cell, we define a boolean and check whether it is true or not. If it is true, we print \"The boolean is true\"."
   ]
  },
  {
   "cell_type": "code",
   "execution_count": 1,
   "id": "0415a406",
   "metadata": {},
   "outputs": [
    {
     "name": "stdout",
     "output_type": "stream",
     "text": [
      "The boolean is true\n"
     ]
    }
   ],
   "source": [
    "boolean = True\n",
    "if boolean:\n",
    "    print(\"The boolean is true\")"
   ]
  },
  {
   "cell_type": "markdown",
   "id": "ba500c64",
   "metadata": {},
   "source": [
    "We can also define what happens, if the condition is not met. We can do this by using the \"else\" keyword directly after the \"if\"-code block has ended. \n",
    "\n",
    "The following code cell checks if a certain number is larger than 5. If this is the case, it prints \"The number is larger than 5\". If the number is not larger than 5, it prints \"The number is not larger than 5\"."
   ]
  },
  {
   "cell_type": "code",
   "execution_count": 2,
   "id": "37203f13",
   "metadata": {},
   "outputs": [
    {
     "name": "stdout",
     "output_type": "stream",
     "text": [
      "The number is not larger than 5\n"
     ]
    }
   ],
   "source": [
    "number = 4\n",
    "if number > 5:\n",
    "    print(\"The number is larger than 5\")\n",
    "else:\n",
    "    print(\"The number is not larger than 5\")"
   ]
  },
  {
   "cell_type": "markdown",
   "id": "12c17b3d",
   "metadata": {},
   "source": [
    "We can even go further and check multiple conditions. We can do this by using the \"elif\" keyword. This keyword is short for \"else if\" and is used to check another condition if the first condition is not met.\n",
    "It is different from \"else\", because it does not always execute its code block, if the original \"if\" condition wasn't met, but only if an additional condition is met.\n",
    "\n",
    "In the following cell, we check if a number is larger than 0, larger than 5 or larger than 10. We print the result of each check."
   ]
  },
  {
   "cell_type": "code",
   "execution_count": 3,
   "id": "e6b7451c",
   "metadata": {},
   "outputs": [
    {
     "name": "stdout",
     "output_type": "stream",
     "text": [
      "The number is larger than 5 but smaller or equal to 10\n"
     ]
    }
   ],
   "source": [
    "number = 6\n",
    "if number > 10:\n",
    "    print(\"The number is larger than 10\")\n",
    "elif number > 5:\n",
    "    print(\"The number is larger than 5 but smaller or equal to 10\")\n",
    "elif number > 0:\n",
    "    print(\"The number is larger than 0 but smaller than 5\")\n",
    "else:\n",
    "    print(\"The number is smaller or equal to 0\")"
   ]
  },
  {
   "cell_type": "markdown",
   "id": "7a594b54",
   "metadata": {},
   "source": [
    "#### Exercise 1\n",
    "Write a small program that asks the user for their age and prints out whether they are adult (assume the age of adulthood is 18)."
   ]
  },
  {
   "cell_type": "code",
   "execution_count": 4,
   "id": "3c77b37e",
   "metadata": {},
   "outputs": [],
   "source": [
    "age = 19\n",
    "# Your code here"
   ]
  },
  {
   "cell_type": "code",
   "execution_count": 5,
   "id": "c88c42fd",
   "metadata": {
    "tags": [
     "hide-cell"
    ]
   },
   "outputs": [
    {
     "name": "stdout",
     "output_type": "stream",
     "text": [
      "You are an adult.\n"
     ]
    }
   ],
   "source": [
    "age = 19\n",
    "if age >= 18:\n",
    "    print(\"You are an adult.\")\n",
    "else:\n",
    "    print(\"You are not adult.\")"
   ]
  },
  {
   "cell_type": "markdown",
   "id": "94cc01ca",
   "metadata": {},
   "source": [
    "## Loops\n",
    "```{note} Copy-Pasting\n",
    "When you want to repeat a certain action multiple times, you might think that just copying and pasting the code is a good idea. But this is not a good idea. \n",
    "\n",
    "Copy-Pasting is inefficient code usage. Your code will become bloated and more difficult to read for yourself and others.\n",
    "\n",
    "Also, when you made a mistake in the code you copied, you will have to correct it not just once, but you will have to correct in every copy you made.\n",
    "```\n",
    "When you want to repeat a certain action multiple times, you can use a loop.\n",
    "A loop can also be useful when you want to perform a certain action for each element in a list or other iterable object.\n",
    "\n",
    "In Python, there are two types of loops: the \"for\" loop and the \"while\" loop.\n",
    "\n",
    "### while loop\n",
    "When you use a while-loop, the code will be executed only if a certain condition is met.\n",
    "\n",
    "For instance, the while loop in the following code block checks if the variable \"number\" is smaller than 10 at the start of every iteration. If this condition is met, the code is executed, if not, the loop ends."
   ]
  },
  {
   "cell_type": "code",
   "execution_count": 6,
   "id": "cf548ccc",
   "metadata": {},
   "outputs": [
    {
     "name": "stdout",
     "output_type": "stream",
     "text": [
      "1\n",
      "2\n",
      "3\n",
      "4\n",
      "5\n",
      "6\n",
      "7\n",
      "8\n",
      "9\n",
      "10\n",
      "Loop has ended\n"
     ]
    }
   ],
   "source": [
    "number = 0\n",
    "\n",
    "while number < 10:\n",
    "    number = number + 1\n",
    "    print(number)\n",
    "print(\"Loop has ended\")"
   ]
  },
  {
   "cell_type": "markdown",
   "id": "77eb4fe6",
   "metadata": {},
   "source": [
    "When the condition is not met, the loop does not execute at all."
   ]
  },
  {
   "cell_type": "code",
   "execution_count": 7,
   "id": "225132e5",
   "metadata": {},
   "outputs": [
    {
     "name": "stdout",
     "output_type": "stream",
     "text": [
      "Loop has not been executed\n"
     ]
    }
   ],
   "source": [
    "number = 11\n",
    "\n",
    "while number < 10:\n",
    "    number = number + 1\n",
    "    print(number)\n",
    "print(\"Loop has not been executed\")"
   ]
  },
  {
   "cell_type": "markdown",
   "id": "d2b47c44",
   "metadata": {},
   "source": [
    "Sometimes you want to check a condition during the run of a while loop, not at the start of each iteration. In these cases, you can check a condition that is always true in the header of the loop and use the \"break\" command in the code block:"
   ]
  },
  {
   "cell_type": "code",
   "execution_count": 8,
   "id": "d0228d5f",
   "metadata": {},
   "outputs": [
    {
     "name": "stdout",
     "output_type": "stream",
     "text": [
      "1\n",
      "2\n",
      "3\n",
      "4\n",
      "5\n",
      "6\n",
      "7\n",
      "8\n",
      "9\n",
      "10\n",
      "Loop has ended\n"
     ]
    }
   ],
   "source": [
    "number = 0\n",
    "while True:\n",
    "    if number >= 10:\n",
    "        break\n",
    "    number = number + 1\n",
    "    print(number)\n",
    "print(\"Loop has ended\")"
   ]
  },
  {
   "cell_type": "markdown",
   "id": "814ed853",
   "metadata": {},
   "source": [
    "You can also use a combination of both:"
   ]
  },
  {
   "cell_type": "code",
   "execution_count": 9,
   "id": "fb2a280b",
   "metadata": {},
   "outputs": [
    {
     "name": "stdout",
     "output_type": "stream",
     "text": [
      "1\n",
      "2\n",
      "3\n",
      "4\n",
      "5\n",
      "6\n",
      "7\n",
      "Loop has ended\n"
     ]
    }
   ],
   "source": [
    "number = 0\n",
    "limit = 8\n",
    "\n",
    "while number < 10:\n",
    "    number = number + 1\n",
    "    if number == limit:\n",
    "        break \n",
    "    print(number)\n",
    "print(\"Loop has ended\")"
   ]
  },
  {
   "cell_type": "markdown",
   "id": "59a937e8",
   "metadata": {},
   "source": [
    "#### Exercise 2\n",
    "Write a program that uses a while loop to count from 1 to 20, but only prints even numbers (think of the modulo operator we learnt about in the arithmetics chapter!)."
   ]
  },
  {
   "cell_type": "code",
   "execution_count": 10,
   "id": "60f1bab5",
   "metadata": {},
   "outputs": [],
   "source": [
    "# Your code here"
   ]
  },
  {
   "cell_type": "code",
   "execution_count": 11,
   "id": "d1a0c8ea",
   "metadata": {
    "tags": [
     "hide-cell"
    ]
   },
   "outputs": [
    {
     "name": "stdout",
     "output_type": "stream",
     "text": [
      "2\n",
      "4\n",
      "6\n",
      "8\n",
      "10\n",
      "12\n",
      "14\n",
      "16\n",
      "18\n"
     ]
    }
   ],
   "source": [
    "for i in range(1, 20):\n",
    "    if i % 2 == 0:\n",
    "        print(i)"
   ]
  },
  {
   "cell_type": "markdown",
   "id": "f492c7d1",
   "metadata": {},
   "source": [
    "#### Exercise 3\n",
    "\n",
    "Use a while loop that runs indefinitely (`while True:`), but stops once a counter reaches 3 using the `break` command. Print the counter at each step."
   ]
  },
  {
   "cell_type": "code",
   "execution_count": 12,
   "id": "2b051228",
   "metadata": {},
   "outputs": [],
   "source": [
    "# Your code here"
   ]
  },
  {
   "cell_type": "code",
   "execution_count": 13,
   "id": "c5aab9e1",
   "metadata": {
    "tags": [
     "hide-cell"
    ]
   },
   "outputs": [
    {
     "name": "stdout",
     "output_type": "stream",
     "text": [
      "0\n",
      "1\n",
      "2\n"
     ]
    }
   ],
   "source": [
    "counter = 0\n",
    "while True:\n",
    "    if counter == 3:\n",
    "        break\n",
    "    print(counter)\n",
    "    counter += 1"
   ]
  },
  {
   "cell_type": "markdown",
   "id": "fbb739e4",
   "metadata": {},
   "source": [
    "### for loop\n",
    "When you want to iterate over a list or a different type of iterable object, you can use a for loop.\n",
    "\n",
    "For instance, if you want to iterate over the numbers from 0 to 9 and print them, you can use the following loop:"
   ]
  },
  {
   "cell_type": "code",
   "execution_count": 14,
   "id": "0adbaa35",
   "metadata": {},
   "outputs": [
    {
     "name": "stdout",
     "output_type": "stream",
     "text": [
      "0\n",
      "1\n",
      "2\n",
      "3\n",
      "4\n",
      "5\n",
      "6\n",
      "7\n",
      "8\n",
      "9\n",
      "Loop has ended\n"
     ]
    }
   ],
   "source": [
    "numbers = range(0, 10) # A quick iterable object between two numbers\n",
    "# Alternatively you can use \n",
    "# numbers = [0, 1, 2, 3, 4, 5, 6, 7, 8, 9]\n",
    "\n",
    "for number in numbers: # You iterate over a limited list, you need no end condition\n",
    "    # We also do not need to update our \"number\" parameter, because that is done in the header of the for loop \n",
    "    print(number)\n",
    "print(\"Loop has ended\")"
   ]
  },
  {
   "cell_type": "markdown",
   "id": "53e74a6a",
   "metadata": {},
   "source": [
    "The enumerate function allows you to not just iterate over the objects within the list, but also over their indexes at the same time.\n",
    "This is helpful, if you want to have two lists of the same size and want to work with both:"
   ]
  },
  {
   "cell_type": "code",
   "execution_count": 15,
   "id": "bed8f7ef",
   "metadata": {},
   "outputs": [
    {
     "name": "stdout",
     "output_type": "stream",
     "text": [
      "10\n",
      "12\n",
      "14\n",
      "16\n",
      "18\n",
      "20\n",
      "22\n",
      "24\n",
      "26\n",
      "28\n",
      "Loop has ended\n"
     ]
    }
   ],
   "source": [
    "numbers = range(0, 10) \n",
    "larger_numbers = range(10,20)\n",
    "\n",
    "for index, number in enumerate(numbers):\n",
    "    print(larger_numbers[index] + number)\n",
    "print(\"Loop has ended\")"
   ]
  },
  {
   "cell_type": "markdown",
   "id": "f44014b2",
   "metadata": {},
   "source": [
    "In the for loop, you can also use the break command to prematurely end your loop:"
   ]
  },
  {
   "cell_type": "code",
   "execution_count": 16,
   "id": "c08281c9",
   "metadata": {},
   "outputs": [
    {
     "name": "stdout",
     "output_type": "stream",
     "text": [
      "0\n",
      "1\n",
      "2\n",
      "3\n",
      "4\n",
      "5\n",
      "6\n",
      "7\n",
      "Loop has ended\n"
     ]
    }
   ],
   "source": [
    "numbers = range(0, 10) \n",
    "\n",
    "for number in numbers:\n",
    "    if number > 7:\n",
    "        break\n",
    "    print(number)\n",
    "print(\"Loop has ended\")"
   ]
  },
  {
   "cell_type": "markdown",
   "id": "4eef5a5d",
   "metadata": {},
   "source": [
    "#### Exercise 4\n",
    "Given a list of numbers, use a for loop to calculate and print the sum of the list."
   ]
  },
  {
   "cell_type": "code",
   "execution_count": 17,
   "id": "df82678a",
   "metadata": {},
   "outputs": [],
   "source": [
    "numbers = [3, 5, 7, 9, 11]\n",
    "\n",
    "# Your code here"
   ]
  },
  {
   "cell_type": "code",
   "execution_count": 18,
   "id": "b7ef803f",
   "metadata": {
    "tags": [
     "hide-cell"
    ]
   },
   "outputs": [
    {
     "name": "stdout",
     "output_type": "stream",
     "text": [
      "35\n"
     ]
    }
   ],
   "source": [
    "numbers = [3, 5, 7, 9, 11]\n",
    "sum = 0\n",
    "for i in numbers:\n",
    "    sum += i  # this is an alternative way of writing sum = sum + i\n",
    "print(sum)"
   ]
  },
  {
   "cell_type": "markdown",
   "id": "35cd51ae",
   "metadata": {},
   "source": [
    "### List comprehention\n",
    "A list comprehention is a way to create a list with a loop with just one line.\n",
    "\n",
    "A list comprehention is written in the following structure: [f(x) for x in iterable]. On the left hand side, you apply a function f to x. x is an object from an iterable that you are looping over. You surround this with square brackets to indicate that you want the results of f(x) to create a list.\n",
    "\n",
    "In practice, it might look like this:"
   ]
  },
  {
   "cell_type": "code",
   "execution_count": 19,
   "id": "d0171215",
   "metadata": {},
   "outputs": [
    {
     "name": "stdout",
     "output_type": "stream",
     "text": [
      "[10, 12, 14, 16, 18, 20, 22, 24, 26, 28]\n",
      "Loop has ended\n"
     ]
    }
   ],
   "source": [
    "numbers = range(0, 10) \n",
    "larger_numbers = range(10,20)\n",
    "\n",
    "even_larger_numbers = [number + larger_numbers[index] for index, number in enumerate(numbers)]\n",
    "print(even_larger_numbers)\n",
    "print(\"Loop has ended\")"
   ]
  },
  {
   "cell_type": "markdown",
   "id": "0cb7527b",
   "metadata": {},
   "source": [
    "````{margin}\n",
    "```{note}\n",
    "Be careful when combining list comprehentions with conditioning. The result of a list comprehention must have the same size as the list you iterate over.\n",
    "\n",
    "This means that you cannot remove parts of the list based on a condition.\n",
    "```\n",
    "````\n",
    "A list comprehention can also be combined with conditions. In the following code block, we create a list of numbers between 0 and 10. If the number is odd, we add it to the list. If it is even, we divide it by 2 instead."
   ]
  },
  {
   "cell_type": "code",
   "execution_count": 20,
   "id": "c6b75a2e",
   "metadata": {},
   "outputs": [
    {
     "data": {
      "text/plain": [
       "[0.0, 1, 1.0, 3, 2.0, 5, 3.0, 7, 4.0, 9]"
      ]
     },
     "execution_count": 20,
     "metadata": {},
     "output_type": "execute_result"
    }
   ],
   "source": [
    "[number if number % 2 == 1 else number / 2 for number in range(0, 10)]"
   ]
  },
  {
   "cell_type": "markdown",
   "id": "ba6f10a7",
   "metadata": {},
   "source": [
    "#### Exercise 5\n",
    "Use a list comprehension to create a new list that contains only the squares of the even numbers and a 0 for the odd numbers between 1 and 20."
   ]
  },
  {
   "cell_type": "code",
   "execution_count": 21,
   "id": "95bce0b1",
   "metadata": {},
   "outputs": [],
   "source": [
    "# Your code here"
   ]
  },
  {
   "cell_type": "code",
   "execution_count": 22,
   "id": "bd2dead1",
   "metadata": {
    "tags": [
     "hide-cell"
    ]
   },
   "outputs": [
    {
     "name": "stdout",
     "output_type": "stream",
     "text": [
      "[0, 4, 0, 16, 0, 36, 0, 64, 0, 100, 0, 144, 0, 196, 0, 256, 0, 324, 0]\n"
     ]
    }
   ],
   "source": [
    "new_list = [i ** 2 if i % 2 == 0 else 0 for i in range(1, 20)]\n",
    "print(new_list)"
   ]
  }
 ],
 "metadata": {
  "jupytext": {
   "formats": "md:myst",
   "text_representation": {
    "extension": ".md",
    "format_name": "myst",
    "format_version": 0.13,
    "jupytext_version": "1.11.5"
   }
  },
  "kernelspec": {
   "display_name": "Python 3",
   "language": "python",
   "name": "python3"
  },
  "language_info": {
   "codemirror_mode": {
    "name": "ipython",
    "version": 3
   },
   "file_extension": ".py",
   "mimetype": "text/x-python",
   "name": "python",
   "nbconvert_exporter": "python",
   "pygments_lexer": "ipython3",
   "version": "3.9.6"
  },
  "source_map": [
   13,
   40,
   44,
   50,
   56,
   63,
   73,
   77,
   81,
   88,
   107,
   114,
   117,
   124,
   127,
   135,
   138,
   148,
   152,
   155,
   160,
   165,
   169,
   177,
   184,
   193,
   197,
   204,
   207,
   215,
   219,
   224,
   231,
   239,
   246,
   256,
   258,
   263,
   266
  ]
 },
 "nbformat": 4,
 "nbformat_minor": 5
}