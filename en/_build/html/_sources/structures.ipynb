{
 "cells": [
  {
   "cell_type": "markdown",
   "id": "82e22442",
   "metadata": {},
   "source": [
    "<div style=\"float: right;\">\n",
    "  <a href=\"../de/structures.html\" style=\"margin-left: 10px;\">🇩🇪 Deutsch</a>\n",
    "  <a href=\"../en/structures.html\">🇬🇧 English</a>\n",
    "</div>\n",
    "\n",
    "# 2. Data types\n",
    "In the last chapter, we learned that variables can be assigned a whole number, resulting in an integer variable.\n",
    "In Python, there are different types of data that can be stored in variables, an integer is just one of many forms a variable can take.\n",
    "In this chapter, we will introduce you to the most common data types in Python.\n",
    "\n",
    "## Variable types\n",
    "### Numeric data types\n",
    "In Python, there are two important numeric data types: integers (\"int\") and floating-point numbers (\"float\").\n",
    "Integers are whole numbers, while floating-point numbers are numbers with a decimal point.\n",
    "```{note}\n",
    "Python is a dynamically typed language. This means that you do not need to declare the data type of a variable when you create one. Python will automatically infer the data type of the variable based on the value that you assign to it. This is true for all data types in Python, not just for numbers.\n",
    "```"
   ]
  },
  {
   "cell_type": "code",
   "execution_count": 1,
   "id": "22462120",
   "metadata": {},
   "outputs": [
    {
     "name": "stdout",
     "output_type": "stream",
     "text": [
      "<class 'int'>\n",
      "<class 'float'>\n"
     ]
    }
   ],
   "source": [
    "x = 5\n",
    "y = 5.5\n",
    "print(type(x))\n",
    "print(type(y))"
   ]
  },
  {
   "cell_type": "markdown",
   "id": "ad0c2030",
   "metadata": {},
   "source": [
    "````{margin} Be careful!\n",
    "Python will always try to detect what it deems to be the correct data type. This might lead to problems, when you want to have a specific data type, but Python converts your variables to a different type.\n",
    "\n",
    "Let's say, we want to only use integers in a division. But in a divison, Python always converts numbers to floating numbers. To correct this mistake Python does, we might want to type-cast the result back to an integer:\n",
    "````"
   ]
  },
  {
   "cell_type": "code",
   "execution_count": 2,
   "id": "b49d1cec",
   "metadata": {
    "tags": [
     "margin"
    ]
   },
   "outputs": [
    {
     "name": "stdout",
     "output_type": "stream",
     "text": [
      "5.0 <class 'float'>\n",
      "5 <class 'int'>\n"
     ]
    }
   ],
   "source": [
    "x = 10\n",
    "y = 2\n",
    "z = x / y\n",
    "print(z, type(z))\n",
    "z = int(z)\n",
    "print(z, type(z))"
   ]
  },
  {
   "cell_type": "markdown",
   "id": "74da0a2b",
   "metadata": {},
   "source": [
    "````{margin}\n",
    "We see that the value does not change, but only the decimal point disappears. Type-casting is an advanced technique, and should only be used if you require one specific data type.\n",
    "You can read more about it [here](https://www.geeksforgeeks.org/type-conversion-python/). \n",
    "````\n",
    "You can perform arithmetic operations on both types of numbers. \n",
    "Python will automatically convert the result to the data type, it deems to be most appropriate:"
   ]
  },
  {
   "cell_type": "code",
   "execution_count": 3,
   "id": "2a1bbaa6",
   "metadata": {},
   "outputs": [
    {
     "name": "stdout",
     "output_type": "stream",
     "text": [
      "<class 'int'>\n",
      "<class 'float'>\n",
      "<class 'float'>\n"
     ]
    }
   ],
   "source": [
    "x = 5\n",
    "y = 5.5\n",
    "print(type(x + x))\n",
    "print(type(x + y))\n",
    "print(type(y + y))"
   ]
  },
  {
   "cell_type": "markdown",
   "id": "37474d03",
   "metadata": {},
   "source": [
    "### Strings\n",
    "Strings are sequences of characters (letter, symbols, etc.). They can be created by enclosing characters in single or double quotes. You can also use triple quotes for multi-line strings.\n",
    "While these are three options to define a string, they ultimately all have the same data type:"
   ]
  },
  {
   "cell_type": "code",
   "execution_count": 4,
   "id": "cfa2e1b6",
   "metadata": {},
   "outputs": [
    {
     "name": "stdout",
     "output_type": "stream",
     "text": [
      "Hello, World! <class 'str'>\n",
      "Hello, World! <class 'str'>\n",
      "Hello,\n",
      "World! <class 'str'>\n"
     ]
    }
   ],
   "source": [
    "x = \"Hello, World!\"\n",
    "y = 'Hello, World!'\n",
    "z = \"\"\"Hello,\n",
    "World!\"\"\"\n",
    "print(x, type(x))\n",
    "print(y, type(y))\n",
    "print(z, type(z))"
   ]
  },
  {
   "cell_type": "markdown",
   "id": "91a60309",
   "metadata": {},
   "source": [
    "### Booleans\n",
    "Booleans are a data type that can only take two values: `True` or `False`. They are used to represent the truth value of an expression. You can check the data type of a boolean using the `type()` function:"
   ]
  },
  {
   "cell_type": "code",
   "execution_count": 5,
   "id": "e17cfca7",
   "metadata": {},
   "outputs": [
    {
     "name": "stdout",
     "output_type": "stream",
     "text": [
      "<class 'bool'>\n",
      "<class 'bool'>\n"
     ]
    }
   ],
   "source": [
    "x = True\n",
    "y = False\n",
    "print(type(x))\n",
    "print(type(y))"
   ]
  },
  {
   "cell_type": "markdown",
   "id": "e27c4046",
   "metadata": {},
   "source": [
    "We can also define a boolean relative to another variable. In the following code block, we define a boolean that checks if the number x is greater than 3. The result is then printed to the console:"
   ]
  },
  {
   "cell_type": "code",
   "execution_count": 6,
   "id": "2856f4a4",
   "metadata": {},
   "outputs": [
    {
     "name": "stdout",
     "output_type": "stream",
     "text": [
      "True\n"
     ]
    }
   ],
   "source": [
    "x = 5\n",
    "y = x > 3\n",
    "print(y)"
   ]
  },
  {
   "cell_type": "markdown",
   "id": "df78abaf",
   "metadata": {},
   "source": [
    "You can alter the number that is assigned to x to see how the boolean changes.\n",
    "\n",
    "Booleans are often used in conditional statements, which we will discuss in a later chapter.\n",
    "\n",
    "## Variable collection types\n",
    "To not only store single values in variables, Python also offers the possibility to store multiple values in a single variable. These are called collections. The most common collection types in Python are lists, tuples, sets, and dictionaries.\n",
    "\n",
    "### Lists\n",
    "Lists are the most flexible way to store multiple variables. You can create a list by enclosing items in square brackets and separating them with commas:\n",
    "In the following code block, we define a list x that contains the numbers 1 to 5 as integers:"
   ]
  },
  {
   "cell_type": "code",
   "execution_count": 7,
   "id": "b1e3918d",
   "metadata": {},
   "outputs": [
    {
     "name": "stdout",
     "output_type": "stream",
     "text": [
      "[1, 2, 3, 4, 5]\n"
     ]
    }
   ],
   "source": [
    "x = [1, 2, 3, 4, 5]\n",
    "print(x)"
   ]
  },
  {
   "cell_type": "markdown",
   "id": "9f0b0bcf",
   "metadata": {},
   "source": [
    "You can access items in a list by referring to the index number.\n",
    "```{attention} Indexing\n",
    "Counterintuitively, the indexing in Python starts at 0. This means that the first element in a list has the index 0, the second element has the index 1, and so on.\n",
    "```"
   ]
  },
  {
   "cell_type": "code",
   "execution_count": 8,
   "id": "6da9d2a0",
   "metadata": {},
   "outputs": [
    {
     "name": "stdout",
     "output_type": "stream",
     "text": [
      "1\n"
     ]
    }
   ],
   "source": [
    "x = [1, 2, 3, 4, 5]\n",
    "print(x[0])"
   ]
  },
  {
   "cell_type": "markdown",
   "id": "bae2fa16",
   "metadata": {},
   "source": [
    "You can also use negative indexing to get items \"from the back\" of the list. By using the index -1, you can access the last item in the list. By using -2, you can access the second-to-last item, and so on."
   ]
  },
  {
   "cell_type": "code",
   "execution_count": 9,
   "id": "ba9178dc",
   "metadata": {},
   "outputs": [
    {
     "name": "stdout",
     "output_type": "stream",
     "text": [
      "5\n",
      "4\n"
     ]
    }
   ],
   "source": [
    "x = [1, 2, 3, 4, 5]\n",
    "print(x[-1])\n",
    "print(x[-2])"
   ]
  },
  {
   "cell_type": "markdown",
   "id": "66d8748d",
   "metadata": {},
   "source": [
    "Lists are flexible. You can change a list at any time by adding, removing, or changing items. You can also add items to a list by using the `append()` method and remove items from a list by using the `remove()` method."
   ]
  },
  {
   "cell_type": "code",
   "execution_count": 10,
   "id": "78c37fe4",
   "metadata": {},
   "outputs": [
    {
     "name": "stdout",
     "output_type": "stream",
     "text": [
      "[1, 3, 4, 5, 6]\n"
     ]
    }
   ],
   "source": [
    "x = [1, 2, 3, 4, 5]\n",
    "x.append(6)\n",
    "x.remove(2)\n",
    "print(x)"
   ]
  },
  {
   "cell_type": "markdown",
   "id": "b410cae1",
   "metadata": {},
   "source": [
    "### Tuples\n",
    "Tuples are the least flexible data type. Once a tuple is created, you cannot change its values. \n",
    "You should thus only use a tuple when you are sure that the data will not change.\n",
    "\n",
    "You can create a tuple by enclosing items in parentheses and separating them with commas:"
   ]
  },
  {
   "cell_type": "code",
   "execution_count": 11,
   "id": "44c070f7",
   "metadata": {},
   "outputs": [
    {
     "name": "stdout",
     "output_type": "stream",
     "text": [
      "(1, 2, 3, 4, 5)\n"
     ]
    }
   ],
   "source": [
    "x = (1, 2, 3, 4, 5)\n",
    "print(x)"
   ]
  },
  {
   "cell_type": "markdown",
   "id": "02ff3831",
   "metadata": {},
   "source": [
    "A unique feature of tuples is the ability to assign multiple variables at once. This is called tuple unpacking:"
   ]
  },
  {
   "cell_type": "code",
   "execution_count": 12,
   "id": "9cd13901",
   "metadata": {},
   "outputs": [
    {
     "name": "stdout",
     "output_type": "stream",
     "text": [
      "1\n",
      "2\n",
      "3\n"
     ]
    }
   ],
   "source": [
    "x = (1, 2, 3)\n",
    "a, b, c = x\n",
    "print(a)\n",
    "print(b)\n",
    "print(c)"
   ]
  },
  {
   "cell_type": "markdown",
   "id": "b4a47117",
   "metadata": {},
   "source": [
    "### Sets\n",
    "Sets are unordered and unindexed. This means that you cannot access items in a set by referring to an index number.\n",
    "\n",
    "You can create a set by enclosing items in curly brackets and separating them with commas:"
   ]
  },
  {
   "cell_type": "code",
   "execution_count": 13,
   "id": "01dd219f",
   "metadata": {},
   "outputs": [
    {
     "name": "stdout",
     "output_type": "stream",
     "text": [
      "{1, 2, 3, 4, 5}\n"
     ]
    }
   ],
   "source": [
    "x = {1, 2, 3, 4, 5}\n",
    "print(x)"
   ]
  },
  {
   "cell_type": "markdown",
   "id": "1c1b2bfb",
   "metadata": {},
   "source": [
    "Set objects are always unique. You cannot have two items with the same value in a set."
   ]
  },
  {
   "cell_type": "code",
   "execution_count": 14,
   "id": "a86f8f67",
   "metadata": {},
   "outputs": [
    {
     "name": "stdout",
     "output_type": "stream",
     "text": [
      "{1, 2, 3, 4, 5}\n"
     ]
    }
   ],
   "source": [
    "x = {1, 2, 3, 4, 5, 5}\n",
    "print(x)"
   ]
  },
  {
   "cell_type": "markdown",
   "id": "d925f4ef",
   "metadata": {},
   "source": [
    "You can also use this feature to turn a list into a set and back to a list to remove duplicates:"
   ]
  },
  {
   "cell_type": "code",
   "execution_count": 15,
   "id": "196bdd83",
   "metadata": {},
   "outputs": [
    {
     "name": "stdout",
     "output_type": "stream",
     "text": [
      "[1, 2, 3, 4, 5]\n"
     ]
    }
   ],
   "source": [
    "x = [1, 2, 3, 1, 4, 5]\n",
    "x = set(x)\n",
    "x = list(x)\n",
    "print(x)"
   ]
  },
  {
   "cell_type": "markdown",
   "id": "15e10c8f",
   "metadata": {},
   "source": [
    "A second great advantage of sets is the ability to almost instantaneously search for objects within a set. The difference in speed between searching for an object in a list and a set becomes more apparent, the larger the data set becomes.\n",
    "In the following code block, we define a set and then check if the number 3 is in the set. The code \"3 in x\" returns a boolean that is printed to the console:"
   ]
  },
  {
   "cell_type": "code",
   "execution_count": 16,
   "id": "f236102b",
   "metadata": {},
   "outputs": [
    {
     "name": "stdout",
     "output_type": "stream",
     "text": [
      "True\n"
     ]
    }
   ],
   "source": [
    "x = {1, 2, 3, 4, 5}\n",
    "print(3 in x)"
   ]
  },
  {
   "cell_type": "markdown",
   "id": "fb3686e6",
   "metadata": {},
   "source": [
    "### Dictionaries\n",
    "Dictionaries extend the concept of sets. While sets only contain values, dictionaries contain key-value pairs.\n",
    "That means that you are able to give each object you are interested in a unique identifier. \n",
    "\n",
    "In the following example you want to store the age of a person. You can do this by creating a dictionary with the name of the person as the key and the age as the value.\n",
    "By indexing the dictionary with the name of the person, you can access the age of the person."
   ]
  },
  {
   "cell_type": "code",
   "execution_count": 17,
   "id": "aabee45b",
   "metadata": {},
   "outputs": [
    {
     "name": "stdout",
     "output_type": "stream",
     "text": [
      "25\n"
     ]
    }
   ],
   "source": [
    "x = {\"Alice\": 25, \"Bob\": 30, \"Charlie\": 35}\n",
    "print(x[\"Alice\"])"
   ]
  },
  {
   "cell_type": "markdown",
   "id": "ddf2f7a7",
   "metadata": {},
   "source": [
    "Dictionaries are very similar to sets: Firstly, they are unordered. This means that you cannot access items in a dictionary by referring to an index number. You must use the keys to index the elements.\n",
    "Secondly, they use a hash algorithm, just like sets, with which you can instantainously search for a key in a dictionary."
   ]
  },
  {
   "cell_type": "code",
   "execution_count": 18,
   "id": "f84f1fae",
   "metadata": {},
   "outputs": [
    {
     "name": "stdout",
     "output_type": "stream",
     "text": [
      "True\n"
     ]
    }
   ],
   "source": [
    "x = {\"Alice\": 25, \"Bob\": 30, \"Charlie\": 35}\n",
    "print(\"Alice\" in x)"
   ]
  },
  {
   "cell_type": "markdown",
   "id": "28080b27",
   "metadata": {},
   "source": [
    "Dictionaries are very flexible. You can add, remove, or change items at any time. You can also add items to a dictionary by using the key and the assignment operator and remove items from a dictionary by using the `pop()` method."
   ]
  },
  {
   "cell_type": "code",
   "execution_count": 19,
   "id": "97c3f828",
   "metadata": {},
   "outputs": [
    {
     "name": "stdout",
     "output_type": "stream",
     "text": [
      "{'Alice': 25, 'Charlie': 35, 'David': 40}\n"
     ]
    }
   ],
   "source": [
    "x = {\"Alice\": 25, \"Bob\": 30, \"Charlie\": 35}\n",
    "x[\"David\"] = 40\n",
    "x.pop(\"Bob\")\n",
    "print(x)"
   ]
  },
  {
   "cell_type": "markdown",
   "id": "61af2bd4",
   "metadata": {},
   "source": [
    "You can get all keys or all values of a dictionary by using the `keys()` and `values()` methods, respectively."
   ]
  },
  {
   "cell_type": "code",
   "execution_count": 20,
   "id": "97a404b2",
   "metadata": {},
   "outputs": [
    {
     "name": "stdout",
     "output_type": "stream",
     "text": [
      "dict_keys(['Alice', 'Bob', 'Charlie'])\n",
      "dict_values([25, 30, 35])\n"
     ]
    }
   ],
   "source": [
    "x = {\"Alice\": 25, \"Bob\": 30, \"Charlie\": 35}\n",
    "print(x.keys())\n",
    "print(x.values())"
   ]
  },
  {
   "cell_type": "markdown",
   "id": "e2b799c9",
   "metadata": {},
   "source": [
    "## Exercises\n",
    "Now it is your turn! Solve the following exercise and click on the hidden code cell below to view the solution.\n",
    "\n",
    "### Exercise 1\n",
    "Create a list that contains the numbers 1 to 10. Then, remove the number 5 from the list and add the number 11 to the list."
   ]
  },
  {
   "cell_type": "code",
   "execution_count": 21,
   "id": "9b520c84",
   "metadata": {},
   "outputs": [],
   "source": [
    "# Your code here"
   ]
  },
  {
   "cell_type": "code",
   "execution_count": 22,
   "id": "74ec1435",
   "metadata": {
    "tags": [
     "hide-cell"
    ]
   },
   "outputs": [
    {
     "name": "stdout",
     "output_type": "stream",
     "text": [
      "[1, 2, 3, 4, 6, 7, 8, 9, 10, 11]\n"
     ]
    }
   ],
   "source": [
    "x = [1, 2, 3, 4, 5, 6, 7, 8, 9, 10]\n",
    "x.remove(5)\n",
    "x.append(11)\n",
    "print(x)"
   ]
  },
  {
   "cell_type": "markdown",
   "id": "c07d4522",
   "metadata": {},
   "source": [
    "### Exercise 2\n",
    "Create a list that contains the numbers 1 to 3. Then append the String \"Four\" to the list. Finally, print the list."
   ]
  },
  {
   "cell_type": "code",
   "execution_count": 23,
   "id": "556a2876",
   "metadata": {},
   "outputs": [],
   "source": [
    "# Your code here"
   ]
  },
  {
   "cell_type": "code",
   "execution_count": 24,
   "id": "3791d64d",
   "metadata": {
    "tags": [
     "hide-cell"
    ]
   },
   "outputs": [
    {
     "name": "stdout",
     "output_type": "stream",
     "text": [
      "[1, 2, 3, 'Four']\n"
     ]
    }
   ],
   "source": [
    "x = [1, 2, 3]\n",
    "x.append(\"Four\")\n",
    "print(x)"
   ]
  },
  {
   "cell_type": "markdown",
   "id": "79f84800",
   "metadata": {},
   "source": [
    "### Exercise 3\n",
    "Create a list that contains the numbers 1 to 3 twice. Turn this list into a list with only unique elements."
   ]
  },
  {
   "cell_type": "code",
   "execution_count": 25,
   "id": "9449a844",
   "metadata": {},
   "outputs": [],
   "source": [
    "# Your code here"
   ]
  },
  {
   "cell_type": "code",
   "execution_count": 26,
   "id": "8f6691ac",
   "metadata": {
    "tags": [
     "hide-cell"
    ]
   },
   "outputs": [
    {
     "name": "stdout",
     "output_type": "stream",
     "text": [
      "[1, 2, 3]\n"
     ]
    }
   ],
   "source": [
    "x = [1, 2, 3, 1, 2, 3]\n",
    "x = set(x)\n",
    "x = list(x)\n",
    "print(x)"
   ]
  },
  {
   "cell_type": "markdown",
   "id": "7b5a8b1e",
   "metadata": {},
   "source": [
    "### Exercise 4\n",
    "Create a dictionary that contains the names \"Alice\", \"Bob\" and \"Charlie\" as keys and their ages as values. Then, add anoter person with the name \"David\" with the same age as \"Bob\" to the dictionary. Then turn the values of the dictionary into a unique list."
   ]
  },
  {
   "cell_type": "code",
   "execution_count": 27,
   "id": "b07a0a7c",
   "metadata": {},
   "outputs": [],
   "source": [
    "# Your code here"
   ]
  },
  {
   "cell_type": "code",
   "execution_count": 28,
   "id": "ce814ac4",
   "metadata": {
    "tags": [
     "hide-cell"
    ]
   },
   "outputs": [
    {
     "name": "stdout",
     "output_type": "stream",
     "text": [
      "[25, 35, 30]\n"
     ]
    }
   ],
   "source": [
    "x = {\"Alice\": 25, \"Bob\": 30, \"Charlie\": 35}\n",
    "x[\"David\"] = x[\"Bob\"]\n",
    "y = x.values()\n",
    "y = list(set(y))\n",
    "print(y)"
   ]
  }
 ],
 "metadata": {
  "jupytext": {
   "formats": "md:myst",
   "text_representation": {
    "extension": ".md",
    "format_name": "myst",
    "format_version": 0.13,
    "jupytext_version": "1.11.5"
   }
  },
  "kernelspec": {
   "display_name": "Python 3",
   "language": "python",
   "name": "python3"
  },
  "language_info": {
   "codemirror_mode": {
    "name": "ipython",
    "version": 3
   },
   "file_extension": ".py",
   "mimetype": "text/x-python",
   "name": "python",
   "nbconvert_exporter": "python",
   "pygments_lexer": "ipython3",
   "version": "3.11.9"
  },
  "source_map": [
   13,
   31,
   36,
   43,
   51,
   58,
   64,
   70,
   78,
   82,
   87,
   89,
   93,
   104,
   107,
   113,
   116,
   119,
   123,
   126,
   131,
   138,
   141,
   144,
   150,
   157,
   160,
   163,
   166,
   168,
   173,
   177,
   180,
   188,
   191,
   194,
   197,
   200,
   205,
   208,
   212,
   219,
   222,
   228,
   232,
   235,
   240,
   245,
   248,
   254,
   258,
   261
  ]
 },
 "nbformat": 4,
 "nbformat_minor": 5
}