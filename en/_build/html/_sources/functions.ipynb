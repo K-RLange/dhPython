{
 "cells": [
  {
   "cell_type": "markdown",
   "id": "1b6c44c0",
   "metadata": {},
   "source": [
    "<div style=\"float: right;\">\n",
    "  <a href=\"../../../de/functions.html\" style=\"margin-left: 10px;\">🇩🇪 Deutsch</a>\n",
    "  <a href=\"../../../en/functions.html\">🇬🇧 English</a>\n",
    "</div>\n",
    "\n",
    "# 4. Functions and Classes\n",
    "Functions and Classes are Python's primary way to store code blocks for repeated executions.\n",
    "\n",
    "## Functions\n",
    "```{note}\n",
    "## Namespaces\n",
    "```\n",
    "Functions are a way to assign a name to a certain code block so that it can be repeatedly executed with different starting values (inputs).\n",
    "\n",
    "Each function starts with a header that contains the key word \"def\" followed by the name you want to give the function. After that, there must be a pair of round brackets and the required inputs within these brackets. A double colon follows after the brackets and the corresponding function code block is intended, just like we saw for loops and conditions. The function code block usually ends with a return statement, which defines what the function gives back to the user. We can then call the function using its function name and the desired input in round brackets.\n",
    "\n",
    "For example, if we want to create a function that returns the value of x^2+2 where x is our input:"
   ]
  },
  {
   "cell_type": "code",
   "execution_count": 1,
   "id": "bacab368",
   "metadata": {},
   "outputs": [
    {
     "name": "stdout",
     "output_type": "stream",
     "text": [
      "6\n"
     ]
    }
   ],
   "source": [
    "def example_function(x):\n",
    "    result = x ** 2 + 2\n",
    "    return result\n",
    "\n",
    "function_result = example_function(2)\n",
    "print(function_result)"
   ]
  },
  {
   "cell_type": "markdown",
   "id": "871ced37",
   "metadata": {},
   "source": [
    "You can also give a function multiple inputs. For instance, if we want to calculate x^k+2 with x and k as inputs:"
   ]
  },
  {
   "cell_type": "code",
   "execution_count": 2,
   "id": "1d350843",
   "metadata": {},
   "outputs": [
    {
     "name": "stdout",
     "output_type": "stream",
     "text": [
      "10\n"
     ]
    }
   ],
   "source": [
    "def example_function(x, k):\n",
    "    result = x ** k + 2\n",
    "    return result\n",
    "\n",
    "function_result = example_function(2, 3)\n",
    "print(function_result)\n"
   ]
  },
  {
   "cell_type": "markdown",
   "id": "0b94ce11",
   "metadata": {},
   "source": [
    "We can also assign a default value to one or more inputs in the function header. Here is an example, where we use k=2 as a default value:"
   ]
  },
  {
   "cell_type": "code",
   "execution_count": 3,
   "id": "832fc05b",
   "metadata": {},
   "outputs": [
    {
     "name": "stdout",
     "output_type": "stream",
     "text": [
      "6\n",
      "10\n"
     ]
    }
   ],
   "source": [
    "def example_function(x, k=2):\n",
    "    result = x ** k + 2\n",
    "    return result\n",
    "\n",
    "# Default\n",
    "function_result = example_function(2) # We don't have to specify k\n",
    "print(function_result)\n",
    "\n",
    "# When we want something other than the default:\n",
    "function_result = example_function(2, 3) # We need to define k\n",
    "print(function_result)"
   ]
  },
  {
   "cell_type": "markdown",
   "id": "e5d721ca",
   "metadata": {},
   "source": [
    "Sometimes functions can have dozens of input variables. In these cases, we might not want to assign every single variable in the function call if we just want to change one default value. We can do that by assigning a value to that variable during the function call explicitly:"
   ]
  },
  {
   "cell_type": "code",
   "execution_count": 4,
   "id": "f4ce6b23",
   "metadata": {},
   "outputs": [
    {
     "name": "stdout",
     "output_type": "stream",
     "text": [
      "10\n"
     ]
    }
   ],
   "source": [
    "def example_function(x, a=1, b=1, c=1, d=1, e=1, f=1, k=2):\n",
    "    result = x ** k + 2\n",
    "    return result\n",
    "\n",
    "function_result = example_function(2, k=3) # We change only the default value of k\n",
    "print(function_result)"
   ]
  },
  {
   "cell_type": "markdown",
   "id": "ce55d33a",
   "metadata": {},
   "source": [
    "If we want to describe our functions, which can be helpful if other people want to use them, we can use docstrings. These are created when you create a string with three quotation marks directly after the function header:"
   ]
  },
  {
   "cell_type": "code",
   "execution_count": 5,
   "id": "ea7580e0",
   "metadata": {},
   "outputs": [
    {
     "name": "stdout",
     "output_type": "stream",
     "text": [
      "Help on function example_function in module __main__:\n",
      "\n",
      "example_function(x, k=2)\n",
      "    This is an example function. That calculates x^k + 2\n",
      "    Args:\n",
      "        x: The number to calculate the exponential + 2 for.\n",
      "        k: The exponent\n",
      "    Returns:\n",
      "        x^k + 2\n",
      "\n",
      "None\n"
     ]
    }
   ],
   "source": [
    "def example_function(x, k=2):\n",
    "    \"\"\"This is an example function. That calculates x^k + 2\n",
    "    Args:\n",
    "        x: The number to calculate the exponential + 2 for.\n",
    "        k: The exponent\n",
    "    Returns:\n",
    "        x^k + 2\n",
    "    \"\"\"\n",
    "    result = x ** k + 2\n",
    "    return result\n",
    "\n",
    "print(help(example_function))"
   ]
  },
  {
   "cell_type": "markdown",
   "id": "ec5e39f2",
   "metadata": {},
   "source": [
    "## Classes\n",
    "```{note}\n",
    "The names of classes are usually capitalized while the names of functions and variables are written in lowercase.\n",
    "```\n",
    "Classes are bigger structures that can store multiple functions and variables. This is usually done to create a coherent object that can perform complex operations that need multiple functions to work.\n",
    "\n",
    "Classes are created using a header with the structure \"class Class_Name\". Additionally, each class must contain the initialization function \"__init__(self, ...)\". \n",
    "- The underscores indicate, that the function is not to be tempered with by users. \n",
    "- The input \"self\" is used in (almost) every function in a class. Using that input, the function can call other functions and variables within the class.\n",
    "\n",
    "Let's test this. Let's first create a class that takes a variable x as an input during the initialization. Then we create two functions: One calculates x^k and the other calculates x^k+m. We call the first function during the second one to calculate x^k:"
   ]
  },
  {
   "cell_type": "code",
   "execution_count": 6,
   "id": "a6a9fca6",
   "metadata": {},
   "outputs": [
    {
     "name": "stdout",
     "output_type": "stream",
     "text": [
      "8\n",
      "12\n",
      "2\n"
     ]
    }
   ],
   "source": [
    "class Example_Class:\n",
    "    def __init__(self, x):\n",
    "        self.x = x  # use self to set a variable for the entire class\n",
    "        # Also note that we have two intends here, because we define a function within a class, so we need to use the tabulator twice\n",
    "        \n",
    "    def exponential(self, k=2):\n",
    "        result = self.x ** k  # reference the global variable x with self.x \n",
    "        return result\n",
    "        \n",
    "    def exponential_plus_m(self, k=2, m=2):\n",
    "        exponential_result = self.exponential(k)  # call the exponential function of the same class with self.exponential(...)\n",
    "        result = exponential_result + m\n",
    "        return result\n",
    "\n",
    "exponential_calculator = Example_Class(x=2)\n",
    "result1 = exponential_calculator.exponential(k=3) # Calling the first function \n",
    "print(result1)\n",
    "result2 = exponential_calculator.exponential_plus_m(k=3, m=4) # Calling the second function\n",
    "print(result2)\n",
    "# We can also directly reference variables within the class:\n",
    "print(exponential_calculator.x)"
   ]
  },
  {
   "cell_type": "markdown",
   "id": "22ae8f0e",
   "metadata": {},
   "source": [
    "As you can see, we call functions and variables within the class after creating an object of the class by simply using a \".\" after the name of our class object."
   ]
  }
 ],
 "metadata": {
  "jupytext": {
   "formats": "md:myst",
   "text_representation": {
    "extension": ".md",
    "format_name": "myst",
    "format_version": 0.13,
    "jupytext_version": "1.11.5"
   }
  },
  "kernelspec": {
   "display_name": "Python 3",
   "language": "python",
   "name": "python3"
  },
  "language_info": {
   "codemirror_mode": {
    "name": "ipython",
    "version": 3
   },
   "file_extension": ".py",
   "mimetype": "text/x-python",
   "name": "python",
   "nbconvert_exporter": "python",
   "pygments_lexer": "ipython3",
   "version": "3.11.9"
  },
  "source_map": [
   13,
   31,
   38,
   41,
   49,
   52,
   64,
   67,
   74,
   78,
   91,
   106,
   128
  ]
 },
 "nbformat": 4,
 "nbformat_minor": 5
}