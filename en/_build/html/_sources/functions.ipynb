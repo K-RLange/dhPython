{
 "cells": [
  {
   "cell_type": "markdown",
   "id": "f77ee352",
   "metadata": {},
   "source": [
    "<div style=\"float: right;\">\n",
    "  <a href=\"../de/functions.html\" style=\"margin-left: 10px;\">🇩🇪 Deutsch</a>\n",
    "  <a href=\"../en/functions.html\">🇬🇧 English</a>\n",
    "</div>\n",
    "\n",
    "# 7. Functions and Classes\n",
    "Functions and Classes are Python's primary way to store code blocks for repeated executions.\n",
    "\n",
    "## Functions\n",
    "````{margin} Namespaces\n",
    "When you create a function, it creates a new environment, where variables can be named differently. This is called a namespace. \n",
    "\n",
    "This means that the variables you define within the function are not accessible outside of it. This is important to remember, because if you try to access a variable defined within a function outside of it, you will get an error.\n",
    "\n",
    "````\n",
    "Functions are a way to assign a name to a certain code block so that it can be repeatedly executed with different starting values (inputs).\n",
    "\n",
    "Each function starts with a header that contains the key word \"def\" followed by the name you want to give the function. After that, there must be a pair of round brackets and the required inputs within these brackets. A double colon follows after the brackets and the corresponding function code block is intended, just like we saw for loops and conditions. The function code block usually ends with a return statement, which defines what the function gives back to the user. We can then call the function using its function name and the desired input in round brackets.\n",
    "\n",
    "For example, if we want to create a function that returns the value of x^2+2 where x is our input:"
   ]
  },
  {
   "cell_type": "code",
   "execution_count": 1,
   "id": "2913d578",
   "metadata": {},
   "outputs": [
    {
     "name": "stdout",
     "output_type": "stream",
     "text": [
      "6\n"
     ]
    }
   ],
   "source": [
    "def example_function(x):\n",
    "    result = x ** 2 + 2\n",
    "    return result\n",
    "\n",
    "function_result = example_function(2)\n",
    "print(function_result)"
   ]
  },
  {
   "cell_type": "markdown",
   "id": "3efffdcb",
   "metadata": {},
   "source": [
    "You can also give a function multiple inputs. For instance, if we want to calculate x^k+2 with x and k as inputs:"
   ]
  },
  {
   "cell_type": "code",
   "execution_count": 2,
   "id": "1d2932fe",
   "metadata": {},
   "outputs": [
    {
     "name": "stdout",
     "output_type": "stream",
     "text": [
      "10\n"
     ]
    }
   ],
   "source": [
    "def example_function(x, k):\n",
    "    result = x ** k + 2\n",
    "    return result\n",
    "\n",
    "function_result = example_function(2, 3)\n",
    "print(function_result)\n"
   ]
  },
  {
   "cell_type": "markdown",
   "id": "d65e5f17",
   "metadata": {},
   "source": [
    "We can also assign a default value to one or more inputs in the function header. Here is an example, where we use k=2 as a default value:"
   ]
  },
  {
   "cell_type": "code",
   "execution_count": 3,
   "id": "5cc3a245",
   "metadata": {},
   "outputs": [
    {
     "name": "stdout",
     "output_type": "stream",
     "text": [
      "6\n",
      "10\n"
     ]
    }
   ],
   "source": [
    "def example_function(x, k=2):\n",
    "    result = x ** k + 2\n",
    "    return result\n",
    "\n",
    "# Default\n",
    "function_result = example_function(2) # We don't have to specify k\n",
    "print(function_result)\n",
    "\n",
    "# When we want something other than the default:\n",
    "function_result = example_function(2, 3) # We need to define k\n",
    "print(function_result)"
   ]
  },
  {
   "cell_type": "markdown",
   "id": "51018410",
   "metadata": {},
   "source": [
    "Sometimes functions can have dozens of input variables. In these cases, we might not want to assign every single variable in the function call if we just want to change one default value. We can do that by assigning a value to that variable during the function call explicitly:"
   ]
  },
  {
   "cell_type": "code",
   "execution_count": 4,
   "id": "0f9bab1b",
   "metadata": {},
   "outputs": [
    {
     "name": "stdout",
     "output_type": "stream",
     "text": [
      "10\n"
     ]
    }
   ],
   "source": [
    "def example_function(x, a=1, b=1, c=1, d=1, e=1, f=1, k=2):\n",
    "    result = x ** k + 2\n",
    "    return result\n",
    "\n",
    "function_result = example_function(2, k=3) # We change only the default value of k\n",
    "print(function_result)"
   ]
  },
  {
   "cell_type": "markdown",
   "id": "fde3c4b3",
   "metadata": {},
   "source": [
    "If we want to describe our functions, which can be helpful if other people want to use them, we can use docstrings. These are created when you create a string with three quotation marks directly after the function header:"
   ]
  },
  {
   "cell_type": "code",
   "execution_count": 5,
   "id": "74644e1b",
   "metadata": {},
   "outputs": [
    {
     "name": "stdout",
     "output_type": "stream",
     "text": [
      "Help on function example_function in module __main__:\n",
      "\n",
      "example_function(x, k=2)\n",
      "    This is an example function. That calculates x^k + 2\n",
      "    Args:\n",
      "        x: The number to calculate the exponential + 2 for.\n",
      "        k: The exponent\n",
      "    Returns:\n",
      "        x^k + 2\n",
      "\n",
      "None\n"
     ]
    }
   ],
   "source": [
    "def example_function(x, k=2):\n",
    "    \"\"\"This is an example function. That calculates x^k + 2\n",
    "    Args:\n",
    "        x: The number to calculate the exponential + 2 for.\n",
    "        k: The exponent\n",
    "    Returns:\n",
    "        x^k + 2\n",
    "    \"\"\"\n",
    "    result = x ** k + 2\n",
    "    return result\n",
    "\n",
    "print(help(example_function))"
   ]
  },
  {
   "cell_type": "markdown",
   "id": "bc4ca6d0",
   "metadata": {},
   "source": [
    "#### Exercise 1\n",
    "\n",
    "Write a function called `add_five` that takes one number as input and returns that number plus five. Execute it with a number of your choice to see if it works."
   ]
  },
  {
   "cell_type": "code",
   "execution_count": 6,
   "id": "2302d089",
   "metadata": {},
   "outputs": [],
   "source": [
    "# Your code here"
   ]
  },
  {
   "cell_type": "code",
   "execution_count": 7,
   "id": "9510b319",
   "metadata": {
    "tags": [
     "hide-cell"
    ]
   },
   "outputs": [
    {
     "name": "stdout",
     "output_type": "stream",
     "text": [
      "15\n"
     ]
    }
   ],
   "source": [
    "def add_five(x):\n",
    "    return x + 5\n",
    "\n",
    "print(add_five(10))"
   ]
  },
  {
   "cell_type": "markdown",
   "id": "71d94f48",
   "metadata": {},
   "source": [
    "---\n",
    "\n",
    "#### Exercise 2\n",
    "\n",
    "Write a function called `power_plus_two` that takes two inputs: `x` and `k`, and returns `x` to the power of `k` plus 2.\n",
    "Call the function with values `x = 3`, `k = 2`."
   ]
  },
  {
   "cell_type": "code",
   "execution_count": 8,
   "id": "2ef4596c",
   "metadata": {},
   "outputs": [],
   "source": [
    "# Your code here"
   ]
  },
  {
   "cell_type": "code",
   "execution_count": 9,
   "id": "71a96286",
   "metadata": {
    "tags": [
     "hide-cell"
    ]
   },
   "outputs": [
    {
     "name": "stdout",
     "output_type": "stream",
     "text": [
      "11\n"
     ]
    }
   ],
   "source": [
    "def power_plus_two(x, k):\n",
    "    return x ** k + 2\n",
    "\n",
    "print(power_plus_two(3, 2))"
   ]
  },
  {
   "cell_type": "markdown",
   "id": "ba9fa994",
   "metadata": {},
   "source": [
    "## Classes\n",
    "```{note}\n",
    "The names of classes are usually capitalized while the names of functions and variables are written in lowercase.\n",
    "```\n",
    "Classes are bigger structures that can store multiple functions and variables. This is usually done to create a coherent object that can perform complex operations that need multiple functions to work.\n",
    "\n",
    "Classes are created using a header with the structure \"class Class_Name\". Additionally, each class must contain the initialization function \"__init__(self, ...)\". \n",
    "- The underscores indicate, that the function is not to be tempered with by users. \n",
    "- The input \"self\" is used in (almost) every function in a class. Using that input, the function can call other functions and variables within the class.\n",
    "\n",
    "Let's test this. Let's first create a class that takes a variable x as an input during the initialization. Then we create two functions: One calculates x^k and the other calculates x^k+m. We call the first function during the second one to calculate x^k:"
   ]
  },
  {
   "cell_type": "code",
   "execution_count": 10,
   "id": "a5654830",
   "metadata": {},
   "outputs": [
    {
     "name": "stdout",
     "output_type": "stream",
     "text": [
      "8\n",
      "12\n",
      "2\n"
     ]
    }
   ],
   "source": [
    "class Example_Class:\n",
    "    def __init__(self, x):\n",
    "        self.x = x  # use self to set a variable for the entire class\n",
    "        # Also note that we have two intends here, because we define a function within a class, so we need to use the tabulator twice\n",
    "        \n",
    "    def exponential(self, k=2):\n",
    "        result = self.x ** k  # reference the global variable x with self.x \n",
    "        return result\n",
    "        \n",
    "    def exponential_plus_m(self, k=2, m=2):\n",
    "        exponential_result = self.exponential(k)  # call the exponential function of the same class with self.exponential(...)\n",
    "        result = exponential_result + m\n",
    "        return result\n",
    "\n",
    "exponential_calculator = Example_Class(x=2)\n",
    "result1 = exponential_calculator.exponential(k=3) # Calling the first function \n",
    "print(result1)\n",
    "result2 = exponential_calculator.exponential_plus_m(k=3, m=4) # Calling the second function\n",
    "print(result2)\n",
    "# We can also directly reference variables within the class:\n",
    "print(exponential_calculator.x)"
   ]
  },
  {
   "cell_type": "markdown",
   "id": "bcc9df30",
   "metadata": {},
   "source": [
    "As you can see, we call functions and variables within the class after creating an object of the class by simply using a \".\" after the name of our class object. \n",
    "\n",
    "#### Exercise 3\n",
    "\n",
    "Write a class called `Calculator` that takes a number `x` in the `__init__` method.\n",
    "Create two methods:\n",
    "\n",
    "* `square`: returns `x` squared.\n",
    "* `add_number`: takes one argument and returns the sum of `x` and the argument.\n",
    "\n",
    "Then create an object of `Calculator` with `x = 4`, and call both methods."
   ]
  },
  {
   "cell_type": "code",
   "execution_count": 11,
   "id": "cb5a52a9",
   "metadata": {},
   "outputs": [],
   "source": [
    "# Your code here"
   ]
  },
  {
   "cell_type": "code",
   "execution_count": 12,
   "id": "855edb75",
   "metadata": {
    "tags": [
     "hide-cell"
    ]
   },
   "outputs": [
    {
     "name": "stdout",
     "output_type": "stream",
     "text": [
      "16\n",
      "10\n"
     ]
    }
   ],
   "source": [
    "class Calculator:\n",
    "    def __init__(self, x):\n",
    "        self.x = x\n",
    "\n",
    "    def square(self):\n",
    "        return self.x ** 2\n",
    "\n",
    "    def add_number(self, y):\n",
    "        return self.x + y\n",
    "\n",
    "calc = Calculator(4)\n",
    "print(calc.square())\n",
    "print(calc.add_number(6))"
   ]
  },
  {
   "cell_type": "markdown",
   "id": "747b4fb4",
   "metadata": {},
   "source": [
    "---\n",
    "\n",
    "#### Exercise 4\n",
    "\n",
    "Extend the `Calculator` class from Exercise 3 with a method `multiply_and_add` that multiplies `x` by a number `m` and adds another number `a`.\n",
    "Call it with `m = 3` and `a = 2`."
   ]
  },
  {
   "cell_type": "code",
   "execution_count": 13,
   "id": "85d234a8",
   "metadata": {},
   "outputs": [],
   "source": [
    "# Your code here"
   ]
  },
  {
   "cell_type": "code",
   "execution_count": 14,
   "id": "73d7625e",
   "metadata": {
    "tags": [
     "hide-cell"
    ]
   },
   "outputs": [
    {
     "name": "stdout",
     "output_type": "stream",
     "text": [
      "14\n"
     ]
    }
   ],
   "source": [
    "class Calculator:\n",
    "    def __init__(self, x):\n",
    "        self.x = x\n",
    "\n",
    "    def square(self):\n",
    "        return self.x ** 2\n",
    "\n",
    "    def add_number(self, y):\n",
    "        return self.x + y\n",
    "\n",
    "    def multiply_and_add(self, m, a):\n",
    "        return self.x * m + a\n",
    "\n",
    "calc = Calculator(4)\n",
    "print(calc.multiply_and_add(3, 2))"
   ]
  }
 ],
 "metadata": {
  "jupytext": {
   "formats": "md:myst",
   "text_representation": {
    "extension": ".md",
    "format_name": "myst",
    "format_version": 0.13,
    "jupytext_version": "1.11.5"
   }
  },
  "kernelspec": {
   "display_name": "Python 3",
   "language": "python",
   "name": "python3"
  },
  "language_info": {
   "codemirror_mode": {
    "name": "ipython",
    "version": 3
   },
   "file_extension": ".py",
   "mimetype": "text/x-python",
   "name": "python",
   "nbconvert_exporter": "python",
   "pygments_lexer": "ipython3",
   "version": "3.11.9"
  },
  "source_map": [
   13,
   34,
   41,
   44,
   52,
   55,
   67,
   70,
   77,
   81,
   94,
   100,
   104,
   110,
   119,
   123,
   129,
   145,
   167,
   180,
   184,
   199,
   208,
   212
  ]
 },
 "nbformat": 4,
 "nbformat_minor": 5
}