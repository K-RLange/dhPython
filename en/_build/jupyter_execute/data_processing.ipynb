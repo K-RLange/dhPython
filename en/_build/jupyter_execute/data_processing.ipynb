{
 "cells": [
  {
   "cell_type": "markdown",
   "id": "338dc241",
   "metadata": {},
   "source": [
    "<div style=\"float: right;\">\n",
    "  <a href=\"../de/data_processing.html\" style=\"margin-left: 10px;\">🇩🇪 Deutsch</a>\n",
    "  <a href=\"../en/data_processing.html\">🇬🇧 English</a>\n",
    "</div>\n",
    "\n",
    "# 7. Data Processing\n",
    "\n",
    "## What do we use Python for?\n",
    "In ‘DaLi topic 1: Basics of data evaluation’, the most important forms of visualisation and key figures required for \n",
    "data evaluation were presented.\n",
    "\n",
    "As soon as we are dealing with the processing of real data sets (usually very extensive), software can help \n",
    "us to create certain key figures and forms of visualisation. This DaLi topic is therefore about analysing and \n",
    "visualising these data sets using software (Python or R).\n",
    "\n",
    "To get a first impression of how we can use Python in this context, we use the ‘Tips’ dataset from \"DaLi Topic 1: \n",
    "Fundamentals of data analysis\" that we are already familiar with.\n",
    "\n",
    "## Brief description of the data set Tips\n",
    "A waiter recorded information on every tip he received in a restaurant over a period of several months. Several \n",
    "variables were recorded:\n",
    "- Bill amount in dollars (total_bill)\n",
    "- Tip in dollars (tip)\n",
    "- Gender of the bill payer (sex)\n",
    "- Smokers among the guests (smoker)\n",
    "- Day of the week (day)\n",
    "- Time of day (time)\n",
    "- Size of the group (size)\n",
    "\n",
    "## Get initial information about a data set\n",
    "To plot this time-dependent data, we can first turn the timestamp-column into a date format and then plot it."
   ]
  },
  {
   "cell_type": "code",
   "execution_count": 1,
   "id": "17f2daf8",
   "metadata": {},
   "outputs": [
    {
     "data": {
      "text/html": [
       "<pre style=\"white-space:pre;overflow-x:auto;line-height:normal;font-family:Menlo,'DejaVu Sans Mono',consolas,'Courier New',monospace\">╭──────────────────────────────────────────────── skimpy summary ─────────────────────────────────────────────────╮\n",
       "│ <span style=\"font-style: italic\">         Data Summary         </span> <span style=\"font-style: italic\">      Data Types       </span>                                                          │\n",
       "│ ┏━━━━━━━━━━━━━━━━━━━┳━━━━━━━━┓ ┏━━━━━━━━━━━━━┳━━━━━━━┓                                                          │\n",
       "│ ┃<span style=\"color: #008080; text-decoration-color: #008080; font-weight: bold\"> Dataframe         </span>┃<span style=\"color: #008080; text-decoration-color: #008080; font-weight: bold\"> Values </span>┃ ┃<span style=\"color: #008080; text-decoration-color: #008080; font-weight: bold\"> Column Type </span>┃<span style=\"color: #008080; text-decoration-color: #008080; font-weight: bold\"> Count </span>┃                                                          │\n",
       "│ ┡━━━━━━━━━━━━━━━━━━━╇━━━━━━━━┩ ┡━━━━━━━━━━━━━╇━━━━━━━┩                                                          │\n",
       "│ │ Number of rows    │ 244    │ │ string      │ 4     │                                                          │\n",
       "│ │ Number of columns │ 7      │ │ float64     │ 2     │                                                          │\n",
       "│ └───────────────────┴────────┘ │ int64       │ 1     │                                                          │\n",
       "│                                └─────────────┴───────┘                                                          │\n",
       "│ <span style=\"font-style: italic\">                                                    number                                                    </span>  │\n",
       "│ ┏━━━━━━━━━━━━━━━━┳━━━━━┳━━━━━━━━┳━━━━━━━━━┳━━━━━━━━━━┳━━━━━━━━┳━━━━━━━━━┳━━━━━━━━┳━━━━━━━━┳━━━━━━━━┳━━━━━━━━━┓  │\n",
       "│ ┃<span style=\"font-weight: bold\"> column         </span>┃<span style=\"font-weight: bold\"> NA  </span>┃<span style=\"font-weight: bold\"> NA %   </span>┃<span style=\"font-weight: bold\"> mean    </span>┃<span style=\"font-weight: bold\"> sd       </span>┃<span style=\"font-weight: bold\"> p0     </span>┃<span style=\"font-weight: bold\"> p25     </span>┃<span style=\"font-weight: bold\"> p50    </span>┃<span style=\"font-weight: bold\"> p75    </span>┃<span style=\"font-weight: bold\"> p100   </span>┃<span style=\"font-weight: bold\"> hist    </span>┃  │\n",
       "│ ┡━━━━━━━━━━━━━━━━╇━━━━━╇━━━━━━━━╇━━━━━━━━━╇━━━━━━━━━━╇━━━━━━━━╇━━━━━━━━━╇━━━━━━━━╇━━━━━━━━╇━━━━━━━━╇━━━━━━━━━┩  │\n",
       "│ │ <span style=\"color: #af87ff; text-decoration-color: #af87ff\">total_bill    </span> │ <span style=\"color: #008080; text-decoration-color: #008080\">  0</span> │ <span style=\"color: #008080; text-decoration-color: #008080\">     0</span> │ <span style=\"color: #008080; text-decoration-color: #008080\">  19.79</span> │ <span style=\"color: #008080; text-decoration-color: #008080\">   8.902</span> │ <span style=\"color: #008080; text-decoration-color: #008080\">  3.07</span> │ <span style=\"color: #008080; text-decoration-color: #008080\">  13.35</span> │ <span style=\"color: #008080; text-decoration-color: #008080\">  17.8</span> │ <span style=\"color: #008080; text-decoration-color: #008080\"> 24.13</span> │ <span style=\"color: #008080; text-decoration-color: #008080\"> 50.81</span> │ <span style=\"color: #008000; text-decoration-color: #008000\">▂█▄▂▁▁ </span> │  │\n",
       "│ │ <span style=\"color: #af87ff; text-decoration-color: #af87ff\">tip           </span> │ <span style=\"color: #008080; text-decoration-color: #008080\">  0</span> │ <span style=\"color: #008080; text-decoration-color: #008080\">     0</span> │ <span style=\"color: #008080; text-decoration-color: #008080\">  2.998</span> │ <span style=\"color: #008080; text-decoration-color: #008080\">   1.384</span> │ <span style=\"color: #008080; text-decoration-color: #008080\">     1</span> │ <span style=\"color: #008080; text-decoration-color: #008080\">      2</span> │ <span style=\"color: #008080; text-decoration-color: #008080\">   2.9</span> │ <span style=\"color: #008080; text-decoration-color: #008080\"> 3.562</span> │ <span style=\"color: #008080; text-decoration-color: #008080\">    10</span> │ <span style=\"color: #008000; text-decoration-color: #008000\"> ██▃▁  </span> │  │\n",
       "│ │ <span style=\"color: #af87ff; text-decoration-color: #af87ff\">size          </span> │ <span style=\"color: #008080; text-decoration-color: #008080\">  0</span> │ <span style=\"color: #008080; text-decoration-color: #008080\">     0</span> │ <span style=\"color: #008080; text-decoration-color: #008080\">   2.57</span> │ <span style=\"color: #008080; text-decoration-color: #008080\">  0.9511</span> │ <span style=\"color: #008080; text-decoration-color: #008080\">     1</span> │ <span style=\"color: #008080; text-decoration-color: #008080\">      2</span> │ <span style=\"color: #008080; text-decoration-color: #008080\">     2</span> │ <span style=\"color: #008080; text-decoration-color: #008080\">     3</span> │ <span style=\"color: #008080; text-decoration-color: #008080\">     6</span> │ <span style=\"color: #008000; text-decoration-color: #008000\">  █▂▂  </span> │  │\n",
       "│ └────────────────┴─────┴────────┴─────────┴──────────┴────────┴─────────┴────────┴────────┴────────┴─────────┘  │\n",
       "│ <span style=\"font-style: italic\">                                                    string                                                    </span>  │\n",
       "│ ┏━━━━━━━━━┳━━━━━┳━━━━━━━┳━━━━━━━━━━━┳━━━━━━━━━┳━━━━━━━━┳━━━━━━━┳━━━━━━━━━━━━━━━┳━━━━━━━━━━━━━━━┳━━━━━━━━━━━━━┓  │\n",
       "│ ┃<span style=\"font-weight: bold\"> column  </span>┃<span style=\"font-weight: bold\"> NA  </span>┃<span style=\"font-weight: bold\"> NA %  </span>┃<span style=\"font-weight: bold\"> shortest  </span>┃<span style=\"font-weight: bold\"> longest </span>┃<span style=\"font-weight: bold\"> min    </span>┃<span style=\"font-weight: bold\"> max   </span>┃<span style=\"font-weight: bold\"> chars per row </span>┃<span style=\"font-weight: bold\"> words per row </span>┃<span style=\"font-weight: bold\"> total words </span>┃  │\n",
       "│ ┡━━━━━━━━━╇━━━━━╇━━━━━━━╇━━━━━━━━━━━╇━━━━━━━━━╇━━━━━━━━╇━━━━━━━╇━━━━━━━━━━━━━━━╇━━━━━━━━━━━━━━━╇━━━━━━━━━━━━━┩  │\n",
       "│ │ <span style=\"color: #af87ff; text-decoration-color: #af87ff\">sex    </span> │ <span style=\"color: #008080; text-decoration-color: #008080\">  0</span> │ <span style=\"color: #008080; text-decoration-color: #008080\">    0</span> │ <span style=\"color: #af87ff; text-decoration-color: #af87ff\">Male     </span> │ <span style=\"color: #af87ff; text-decoration-color: #af87ff\">Female </span> │ <span style=\"color: #af87ff; text-decoration-color: #af87ff\">Female</span> │ <span style=\"color: #af87ff; text-decoration-color: #af87ff\">Male </span> │ <span style=\"color: #008080; text-decoration-color: #008080\">         4.71</span> │ <span style=\"color: #008080; text-decoration-color: #008080\">            1</span> │ <span style=\"color: #008080; text-decoration-color: #008080\">        244</span> │  │\n",
       "│ │ <span style=\"color: #af87ff; text-decoration-color: #af87ff\">smoker </span> │ <span style=\"color: #008080; text-decoration-color: #008080\">  0</span> │ <span style=\"color: #008080; text-decoration-color: #008080\">    0</span> │ <span style=\"color: #af87ff; text-decoration-color: #af87ff\">No       </span> │ <span style=\"color: #af87ff; text-decoration-color: #af87ff\">Yes    </span> │ <span style=\"color: #af87ff; text-decoration-color: #af87ff\">No    </span> │ <span style=\"color: #af87ff; text-decoration-color: #af87ff\">Yes  </span> │ <span style=\"color: #008080; text-decoration-color: #008080\">         2.38</span> │ <span style=\"color: #008080; text-decoration-color: #008080\">            1</span> │ <span style=\"color: #008080; text-decoration-color: #008080\">        244</span> │  │\n",
       "│ │ <span style=\"color: #af87ff; text-decoration-color: #af87ff\">day    </span> │ <span style=\"color: #008080; text-decoration-color: #008080\">  0</span> │ <span style=\"color: #008080; text-decoration-color: #008080\">    0</span> │ <span style=\"color: #af87ff; text-decoration-color: #af87ff\">Sun      </span> │ <span style=\"color: #af87ff; text-decoration-color: #af87ff\">Thur   </span> │ <span style=\"color: #af87ff; text-decoration-color: #af87ff\">Fri   </span> │ <span style=\"color: #af87ff; text-decoration-color: #af87ff\">Thur </span> │ <span style=\"color: #008080; text-decoration-color: #008080\">         3.25</span> │ <span style=\"color: #008080; text-decoration-color: #008080\">            1</span> │ <span style=\"color: #008080; text-decoration-color: #008080\">        244</span> │  │\n",
       "│ │ <span style=\"color: #af87ff; text-decoration-color: #af87ff\">time   </span> │ <span style=\"color: #008080; text-decoration-color: #008080\">  0</span> │ <span style=\"color: #008080; text-decoration-color: #008080\">    0</span> │ <span style=\"color: #af87ff; text-decoration-color: #af87ff\">Lunch    </span> │ <span style=\"color: #af87ff; text-decoration-color: #af87ff\">Dinner </span> │ <span style=\"color: #af87ff; text-decoration-color: #af87ff\">Dinner</span> │ <span style=\"color: #af87ff; text-decoration-color: #af87ff\">Lunch</span> │ <span style=\"color: #008080; text-decoration-color: #008080\">         5.72</span> │ <span style=\"color: #008080; text-decoration-color: #008080\">            1</span> │ <span style=\"color: #008080; text-decoration-color: #008080\">        244</span> │  │\n",
       "│ └─────────┴─────┴───────┴───────────┴─────────┴────────┴───────┴───────────────┴───────────────┴─────────────┘  │\n",
       "╰────────────────────────────────────────────────────── End ──────────────────────────────────────────────────────╯\n",
       "</pre>\n"
      ],
      "text/plain": [
       "╭──────────────────────────────────────────────── skimpy summary ─────────────────────────────────────────────────╮\n",
       "│ \u001b[3m         Data Summary         \u001b[0m \u001b[3m      Data Types       \u001b[0m                                                          │\n",
       "│ ┏━━━━━━━━━━━━━━━━━━━┳━━━━━━━━┓ ┏━━━━━━━━━━━━━┳━━━━━━━┓                                                          │\n",
       "│ ┃\u001b[1;36m \u001b[0m\u001b[1;36mDataframe        \u001b[0m\u001b[1;36m \u001b[0m┃\u001b[1;36m \u001b[0m\u001b[1;36mValues\u001b[0m\u001b[1;36m \u001b[0m┃ ┃\u001b[1;36m \u001b[0m\u001b[1;36mColumn Type\u001b[0m\u001b[1;36m \u001b[0m┃\u001b[1;36m \u001b[0m\u001b[1;36mCount\u001b[0m\u001b[1;36m \u001b[0m┃                                                          │\n",
       "│ ┡━━━━━━━━━━━━━━━━━━━╇━━━━━━━━┩ ┡━━━━━━━━━━━━━╇━━━━━━━┩                                                          │\n",
       "│ │ Number of rows    │ 244    │ │ string      │ 4     │                                                          │\n",
       "│ │ Number of columns │ 7      │ │ float64     │ 2     │                                                          │\n",
       "│ └───────────────────┴────────┘ │ int64       │ 1     │                                                          │\n",
       "│                                └─────────────┴───────┘                                                          │\n",
       "│ \u001b[3m                                                    number                                                    \u001b[0m  │\n",
       "│ ┏━━━━━━━━━━━━━━━━┳━━━━━┳━━━━━━━━┳━━━━━━━━━┳━━━━━━━━━━┳━━━━━━━━┳━━━━━━━━━┳━━━━━━━━┳━━━━━━━━┳━━━━━━━━┳━━━━━━━━━┓  │\n",
       "│ ┃\u001b[1m \u001b[0m\u001b[1mcolumn        \u001b[0m\u001b[1m \u001b[0m┃\u001b[1m \u001b[0m\u001b[1mNA \u001b[0m\u001b[1m \u001b[0m┃\u001b[1m \u001b[0m\u001b[1mNA %  \u001b[0m\u001b[1m \u001b[0m┃\u001b[1m \u001b[0m\u001b[1mmean   \u001b[0m\u001b[1m \u001b[0m┃\u001b[1m \u001b[0m\u001b[1msd      \u001b[0m\u001b[1m \u001b[0m┃\u001b[1m \u001b[0m\u001b[1mp0    \u001b[0m\u001b[1m \u001b[0m┃\u001b[1m \u001b[0m\u001b[1mp25    \u001b[0m\u001b[1m \u001b[0m┃\u001b[1m \u001b[0m\u001b[1mp50   \u001b[0m\u001b[1m \u001b[0m┃\u001b[1m \u001b[0m\u001b[1mp75   \u001b[0m\u001b[1m \u001b[0m┃\u001b[1m \u001b[0m\u001b[1mp100  \u001b[0m\u001b[1m \u001b[0m┃\u001b[1m \u001b[0m\u001b[1mhist   \u001b[0m\u001b[1m \u001b[0m┃  │\n",
       "│ ┡━━━━━━━━━━━━━━━━╇━━━━━╇━━━━━━━━╇━━━━━━━━━╇━━━━━━━━━━╇━━━━━━━━╇━━━━━━━━━╇━━━━━━━━╇━━━━━━━━╇━━━━━━━━╇━━━━━━━━━┩  │\n",
       "│ │ \u001b[38;5;141mtotal_bill    \u001b[0m │ \u001b[36m  0\u001b[0m │ \u001b[36m     0\u001b[0m │ \u001b[36m  19.79\u001b[0m │ \u001b[36m   8.902\u001b[0m │ \u001b[36m  3.07\u001b[0m │ \u001b[36m  13.35\u001b[0m │ \u001b[36m  17.8\u001b[0m │ \u001b[36m 24.13\u001b[0m │ \u001b[36m 50.81\u001b[0m │ \u001b[32m▂█▄▂▁▁ \u001b[0m │  │\n",
       "│ │ \u001b[38;5;141mtip           \u001b[0m │ \u001b[36m  0\u001b[0m │ \u001b[36m     0\u001b[0m │ \u001b[36m  2.998\u001b[0m │ \u001b[36m   1.384\u001b[0m │ \u001b[36m     1\u001b[0m │ \u001b[36m      2\u001b[0m │ \u001b[36m   2.9\u001b[0m │ \u001b[36m 3.562\u001b[0m │ \u001b[36m    10\u001b[0m │ \u001b[32m ██▃▁  \u001b[0m │  │\n",
       "│ │ \u001b[38;5;141msize          \u001b[0m │ \u001b[36m  0\u001b[0m │ \u001b[36m     0\u001b[0m │ \u001b[36m   2.57\u001b[0m │ \u001b[36m  0.9511\u001b[0m │ \u001b[36m     1\u001b[0m │ \u001b[36m      2\u001b[0m │ \u001b[36m     2\u001b[0m │ \u001b[36m     3\u001b[0m │ \u001b[36m     6\u001b[0m │ \u001b[32m  █▂▂  \u001b[0m │  │\n",
       "│ └────────────────┴─────┴────────┴─────────┴──────────┴────────┴─────────┴────────┴────────┴────────┴─────────┘  │\n",
       "│ \u001b[3m                                                    string                                                    \u001b[0m  │\n",
       "│ ┏━━━━━━━━━┳━━━━━┳━━━━━━━┳━━━━━━━━━━━┳━━━━━━━━━┳━━━━━━━━┳━━━━━━━┳━━━━━━━━━━━━━━━┳━━━━━━━━━━━━━━━┳━━━━━━━━━━━━━┓  │\n",
       "│ ┃\u001b[1m \u001b[0m\u001b[1mcolumn \u001b[0m\u001b[1m \u001b[0m┃\u001b[1m \u001b[0m\u001b[1mNA \u001b[0m\u001b[1m \u001b[0m┃\u001b[1m \u001b[0m\u001b[1mNA % \u001b[0m\u001b[1m \u001b[0m┃\u001b[1m \u001b[0m\u001b[1mshortest \u001b[0m\u001b[1m \u001b[0m┃\u001b[1m \u001b[0m\u001b[1mlongest\u001b[0m\u001b[1m \u001b[0m┃\u001b[1m \u001b[0m\u001b[1mmin   \u001b[0m\u001b[1m \u001b[0m┃\u001b[1m \u001b[0m\u001b[1mmax  \u001b[0m\u001b[1m \u001b[0m┃\u001b[1m \u001b[0m\u001b[1mchars per row\u001b[0m\u001b[1m \u001b[0m┃\u001b[1m \u001b[0m\u001b[1mwords per row\u001b[0m\u001b[1m \u001b[0m┃\u001b[1m \u001b[0m\u001b[1mtotal words\u001b[0m\u001b[1m \u001b[0m┃  │\n",
       "│ ┡━━━━━━━━━╇━━━━━╇━━━━━━━╇━━━━━━━━━━━╇━━━━━━━━━╇━━━━━━━━╇━━━━━━━╇━━━━━━━━━━━━━━━╇━━━━━━━━━━━━━━━╇━━━━━━━━━━━━━┩  │\n",
       "│ │ \u001b[38;5;141msex    \u001b[0m │ \u001b[36m  0\u001b[0m │ \u001b[36m    0\u001b[0m │ \u001b[38;5;141mMale     \u001b[0m │ \u001b[38;5;141mFemale \u001b[0m │ \u001b[38;5;141mFemale\u001b[0m │ \u001b[38;5;141mMale \u001b[0m │ \u001b[36m         4.71\u001b[0m │ \u001b[36m            1\u001b[0m │ \u001b[36m        244\u001b[0m │  │\n",
       "│ │ \u001b[38;5;141msmoker \u001b[0m │ \u001b[36m  0\u001b[0m │ \u001b[36m    0\u001b[0m │ \u001b[38;5;141mNo       \u001b[0m │ \u001b[38;5;141mYes    \u001b[0m │ \u001b[38;5;141mNo    \u001b[0m │ \u001b[38;5;141mYes  \u001b[0m │ \u001b[36m         2.38\u001b[0m │ \u001b[36m            1\u001b[0m │ \u001b[36m        244\u001b[0m │  │\n",
       "│ │ \u001b[38;5;141mday    \u001b[0m │ \u001b[36m  0\u001b[0m │ \u001b[36m    0\u001b[0m │ \u001b[38;5;141mSun      \u001b[0m │ \u001b[38;5;141mThur   \u001b[0m │ \u001b[38;5;141mFri   \u001b[0m │ \u001b[38;5;141mThur \u001b[0m │ \u001b[36m         3.25\u001b[0m │ \u001b[36m            1\u001b[0m │ \u001b[36m        244\u001b[0m │  │\n",
       "│ │ \u001b[38;5;141mtime   \u001b[0m │ \u001b[36m  0\u001b[0m │ \u001b[36m    0\u001b[0m │ \u001b[38;5;141mLunch    \u001b[0m │ \u001b[38;5;141mDinner \u001b[0m │ \u001b[38;5;141mDinner\u001b[0m │ \u001b[38;5;141mLunch\u001b[0m │ \u001b[36m         5.72\u001b[0m │ \u001b[36m            1\u001b[0m │ \u001b[36m        244\u001b[0m │  │\n",
       "│ └─────────┴─────┴───────┴───────────┴─────────┴────────┴───────┴───────────────┴───────────────┴─────────────┘  │\n",
       "╰────────────────────────────────────────────────────── End ──────────────────────────────────────────────────────╯\n"
      ]
     },
     "metadata": {},
     "output_type": "display_data"
    }
   ],
   "source": [
    "from skimpy import skim\n",
    "import pandas as pd\n",
    "tips = pd.read_csv(\"tips.csv\")\n",
    "skim(tips)"
   ]
  }
 ],
 "metadata": {
  "jupytext": {
   "formats": "md:myst",
   "text_representation": {
    "extension": ".md",
    "format_name": "myst",
    "format_version": 0.13,
    "jupytext_version": "1.11.5"
   }
  },
  "kernelspec": {
   "display_name": "Python 3",
   "language": "python",
   "name": "python3"
  },
  "language_info": {
   "codemirror_mode": {
    "name": "ipython",
    "version": 3
   },
   "file_extension": ".py",
   "mimetype": "text/x-python",
   "name": "python",
   "nbconvert_exporter": "python",
   "pygments_lexer": "ipython3",
   "version": "3.9.6"
  },
  "source_map": [
   13,
   45
  ]
 },
 "nbformat": 4,
 "nbformat_minor": 5
}