{
 "cells": [
  {
   "cell_type": "markdown",
   "id": "9b9d2b20",
   "metadata": {},
   "source": [
    "<div style=\"float: right;\">\n",
    "  <a href=\"../de/arithmetics.html\" style=\"margin-left: 10px;\">🇩🇪 Deutsch</a>\n",
    "  <a href=\"../en/arithmetics.html\">🇬🇧 English</a>\n",
    "</div>\n",
    "\n",
    "\n",
    "# 1. Arithmetics and variables\n",
    "\n",
    "## Arithmetics\n",
    "In its most basic form, Python can simply be used as a calculator. You can use it to, among others, add, subtract, multiply, and divide numbers.\n",
    "\n",
    "The following cell shows you how to add two numbers in Python:"
   ]
  },
  {
   "cell_type": "code",
   "execution_count": 1,
   "id": "778eca73",
   "metadata": {},
   "outputs": [
    {
     "name": "stdout",
     "output_type": "stream",
     "text": [
      "5\n"
     ]
    }
   ],
   "source": [
    "print(2 + 3)"
   ]
  },
  {
   "cell_type": "markdown",
   "id": "e22787ee",
   "metadata": {},
   "source": [
    "To show any object within Python in your console, you can use the print(...) command, in which you can replace \"...\" with the object that you want to display. In this case, it is the answer of 2+2.\n",
    "\n",
    "Other numeric calculations can be performed like this:"
   ]
  },
  {
   "cell_type": "code",
   "execution_count": 2,
   "id": "97d70575",
   "metadata": {},
   "outputs": [
    {
     "name": "stdout",
     "output_type": "stream",
     "text": [
      "12\n",
      "1\n",
      "5.0\n",
      "100\n",
      "1\n"
     ]
    }
   ],
   "source": [
    "print(3 * 4)  # Multiplication\n",
    "print(3 - 2)  # Subtraction\n",
    "print(10 / 2)  # Division\n",
    "print(10 ** 2)  # Exponentiation\n",
    "print(10 % 3)  # Modulo"
   ]
  },
  {
   "cell_type": "markdown",
   "id": "10af5c1b",
   "metadata": {},
   "source": [
    "The \"#\" symbol is used to comment out code. This means that the code following the # symbol will not be executed. Comments are useful to explain what the code does.\n",
    "\n",
    "## Variables\n",
    "````{margin}\n",
    "```{note}\n",
    "When naming variables, you should take care to not overwrite existing names. You should, for instance, not name a variable \"print\", because it would overwrite the meaning of the print function. This would lead to an error, when you try to use the print function later on.\n",
    "```\n",
    "````\n",
    "In Python, you can also store values in variables. This is useful when you want to use a value multiple times in your code. You can assign a value to a variable using the = operator. \n",
    "Variables can take any name. In a practical analysis, it is suggested to use meaningful names for your variables. This makes it easier for you and others to understand the code.\n",
    "\n",
    "The following cell shows how to assign a value to a variable and then print it:"
   ]
  },
  {
   "cell_type": "code",
   "execution_count": 3,
   "id": "fe5d023a",
   "metadata": {},
   "outputs": [
    {
     "name": "stdout",
     "output_type": "stream",
     "text": [
      "5\n"
     ]
    }
   ],
   "source": [
    "x = 5\n",
    "print(x)"
   ]
  },
  {
   "cell_type": "markdown",
   "id": "9c4699bf",
   "metadata": {},
   "source": [
    "If you want to alter the variable, you can also do this using the \"=\" operator:"
   ]
  },
  {
   "cell_type": "code",
   "execution_count": 4,
   "id": "74286975",
   "metadata": {},
   "outputs": [
    {
     "name": "stdout",
     "output_type": "stream",
     "text": [
      "5\n",
      "10\n"
     ]
    }
   ],
   "source": [
    "x = 5\n",
    "print(x)\n",
    "x = x + 5\n",
    "print(x)"
   ]
  },
  {
   "cell_type": "markdown",
   "id": "eef47f65",
   "metadata": {},
   "source": [
    "You can thus use variables as placeholders for objects. In this case, x is assigned to be an integer (a whole number). If we define another variable y to be an integer as well, we can perform calculations with these variables:"
   ]
  },
  {
   "cell_type": "code",
   "execution_count": 5,
   "id": "065d5b7c",
   "metadata": {},
   "outputs": [
    {
     "name": "stdout",
     "output_type": "stream",
     "text": [
      "17\n"
     ]
    }
   ],
   "source": [
    "x = 5\n",
    "x = x + 2\n",
    "y = 10\n",
    "z = x + y\n",
    "print(z)"
   ]
  },
  {
   "cell_type": "markdown",
   "id": "8a3c54da",
   "metadata": {},
   "source": [
    "## Exercise\n",
    "Now it is your turn! Solve the following exercise and click on the hidden code cell below to view the solution.\n",
    "\n",
    "### Exercise 1\n",
    "Calculate the sum of 5 and 7 and store the result in a variable called \"var1\". Then multiply this variable with itself and store the result in a variable called \"var2\". Finally, print the result of \"var2\"."
   ]
  },
  {
   "cell_type": "code",
   "execution_count": 6,
   "id": "5ba768ee",
   "metadata": {},
   "outputs": [],
   "source": [
    "# Your code here"
   ]
  },
  {
   "cell_type": "code",
   "execution_count": 7,
   "id": "ad2b20ec",
   "metadata": {
    "tags": [
     "hide-cell"
    ]
   },
   "outputs": [
    {
     "name": "stdout",
     "output_type": "stream",
     "text": [
      "144\n"
     ]
    }
   ],
   "source": [
    "var1 = 5 + 7\n",
    "var2 = var1 * var1\n",
    "print(var2)"
   ]
  },
  {
   "cell_type": "markdown",
   "id": "1853f17b",
   "metadata": {},
   "source": [
    "### Exercise 2\n",
    "```{raw} html\n",
    "<style>\n",
    "  :root {\n",
    "    --accent: #4f46e5;\n",
    "    --accent-light: #eef2ff;\n",
    "    --bg: #ffffff;\n",
    "    --border: #e5e7eb;\n",
    "    --text: #111827;\n",
    "    --gray: #6b7280;\n",
    "    --success: #16a34a;\n",
    "    --error: #dc2626;\n",
    "    --warning: #facc15;\n",
    "  }\n",
    "\n",
    "  #quiz-container {\n",
    "    background: var(--bg);\n",
    "    border: 1px solid var(--border);\n",
    "    border-radius: 16px;\n",
    "    padding: 2rem;\n",
    "    max-width: 750px;\n",
    "    font-family: \"Segoe UI\", Roboto, sans-serif;\n",
    "    color: var(--text);\n",
    "    box-shadow: 0 8px 24px rgba(0, 0, 0, 0.05);\n",
    "    transition: box-shadow 0.3s ease;\n",
    "    margin-bottom: 2rem;\n",
    "  }\n",
    "\n",
    "  #quiz-container:hover {\n",
    "    box-shadow: 0 10px 30px rgba(0, 0, 0, 0.08);\n",
    "  }\n",
    "\n",
    "  #quiz-container p.question {\n",
    "    font-size: 1.25rem;\n",
    "    font-weight: 600;\n",
    "    margin-bottom: 1.5rem;\n",
    "  }\n",
    "\n",
    "  #quiz-form label {\n",
    "    display: block;\n",
    "    margin: 0.75rem 0;\n",
    "    padding: 0.75rem 1rem;\n",
    "    border-radius: 12px;\n",
    "    border: 1px solid transparent;\n",
    "    background-color: var(--accent-light);\n",
    "    cursor: pointer;\n",
    "    transition: all 0.25s ease;\n",
    "  }\n",
    "\n",
    "  #quiz-form label:hover {\n",
    "    background-color: #e0e7ff;\n",
    "    border-color: var(--accent);\n",
    "  }\n",
    "\n",
    "  #quiz-form input[type=\"radio\"] {\n",
    "    margin-right: 0.75rem;\n",
    "    transform: scale(1.2);\n",
    "    accent-color: var(--accent);\n",
    "  }\n",
    "\n",
    "   #quiz-form pre {\n",
    "    margin: 0.2rem 0 0;\n",
    "    background-color: transparent !important;  /* no background */\n",
    "    border: none !important;                   /* no border */\n",
    "    display: inline;\n",
    "    font-size: 0.95rem;\n",
    "    white-space: pre-wrap;\n",
    "    padding: 0;                                /* no padding */\n",
    "    font-family: 'Courier New', Courier, monospace;\n",
    "  }\n",
    "\n",
    "  #quiz-form button {\n",
    "    margin-top: 1.5rem;\n",
    "    background-color: var(--accent);\n",
    "    color: white;\n",
    "    padding: 0.6rem 1.2rem;\n",
    "    border: none;\n",
    "    border-radius: 8px;\n",
    "    font-size: 1rem;\n",
    "    font-weight: 600;\n",
    "    cursor: pointer;\n",
    "    transition: background-color 0.3s ease;\n",
    "  }\n",
    "\n",
    "  #quiz-form button:hover {\n",
    "    background-color: #4338ca;\n",
    "  }\n",
    "\n",
    "  #quiz-feedback {\n",
    "    margin-top: 1.25rem;\n",
    "    padding: 0.75rem 1rem;\n",
    "    border-radius: 8px;\n",
    "    font-weight: 500;\n",
    "    font-size: 1rem;\n",
    "    display: inline-block;\n",
    "  }\n",
    "\n",
    "  .success {\n",
    "    background-color: #dcfce7;\n",
    "    color: var(--success);\n",
    "    border: 1px solid var(--success);\n",
    "  }\n",
    "\n",
    "  .error {\n",
    "    background-color: #fee2e2;\n",
    "    color: var(--error);\n",
    "    border: 1px solid var(--error);\n",
    "  }\n",
    "\n",
    "  .warning {\n",
    "    background-color: #fef9c3;\n",
    "    color: var(--warning);\n",
    "    border: 1px solid var(--warning);\n",
    "  }\n",
    "</style>\n",
    "\n",
    "<div id=\"quiz-container\">\n",
    "  <p class=\"question\">🧠 What is the correct syntax for multiplying 3 with 7, storing the result in a variable, and printing that variable?</p>\n",
    "  <form id=\"quiz-form\">\n",
    "    <label>\n",
    "      <input type=\"radio\" name=\"answer\" value=\"a\">\n",
    "      <pre><code>x = 3 * 7\n",
    "print(x)</code></pre>\n",
    "    </label>\n",
    "    <label>\n",
    "      <input type=\"radio\" name=\"answer\" value=\"b\">\n",
    "      <pre><code>3 * 7\n",
    "print(x)</code></pre>\n",
    "    </label>\n",
    "    <label>\n",
    "      <input type=\"radio\" name=\"answer\" value=\"c\">\n",
    "      <pre><code>print(3 * 7)</code></pre>\n",
    "    </label>\n",
    "    <label>\n",
    "      <input type=\"radio\" name=\"answer\" value=\"d\">\n",
    "      <pre><code>print(x = 3 * 7)</code></pre>\n",
    "    </label>\n",
    "\n",
    "    <button type=\"button\" onclick=\"checkAnswer()\">Submit Answer</button>\n",
    "    <p id=\"quiz-feedback\"></p>\n",
    "  </form>\n",
    "</div>\n",
    "\n",
    "<script>\n",
    "  function checkAnswer() {\n",
    "    const answers = {\n",
    "      a: {\n",
    "        correct: true,\n",
    "        feedback: \"✅ Correct! You assigned 3 * 7 to a variable and printed it.\"\n",
    "      },\n",
    "      b: {\n",
    "        correct: false,\n",
    "        feedback: \"❌ x would not be defined here, so there is nothing to print.\"\n",
    "      },\n",
    "      c: {\n",
    "        correct: false,\n",
    "        feedback: \"❌ This prints the result but doesn’t store it for reuse.\"\n",
    "      },\n",
    "      d: {\n",
    "        correct: false,\n",
    "        feedback: \"❌ You can’t assign and print in one step like that.\"\n",
    "      }\n",
    "    };\n",
    "\n",
    "    const selected = document.querySelector('input[name=\"answer\"]:checked');\n",
    "    const feedback = document.getElementById(\"quiz-feedback\");\n",
    "\n",
    "    if (!selected) {\n",
    "      feedback.textContent = \"⚠️ Please select an answer before submitting.\";\n",
    "      feedback.className = \"warning\";\n",
    "      return;\n",
    "    }\n",
    "\n",
    "    const result = answers[selected.value];\n",
    "    feedback.textContent = result.feedback;\n",
    "    feedback.className = result.correct ? \"success\" : \"error\";\n",
    "  }\n",
    "</script>\n",
    "```"
   ]
  }
 ],
 "metadata": {
  "jupytext": {
   "formats": "md:myst",
   "text_representation": {
    "extension": ".md",
    "format_name": "myst",
    "format_version": 0.13,
    "jupytext_version": "1.11.5"
   }
  },
  "kernelspec": {
   "display_name": "Python 3",
   "language": "python",
   "name": "python3"
  },
  "language_info": {
   "codemirror_mode": {
    "name": "ipython",
    "version": 3
   },
   "file_extension": ".py",
   "mimetype": "text/x-python",
   "name": "python",
   "nbconvert_exporter": "python",
   "pygments_lexer": "ipython3",
   "version": "3.9.6"
  },
  "source_map": [
   13,
   26,
   28,
   32,
   38,
   51,
   54,
   57,
   62,
   65,
   71,
   78,
   81,
   86
  ]
 },
 "nbformat": 4,
 "nbformat_minor": 5
}