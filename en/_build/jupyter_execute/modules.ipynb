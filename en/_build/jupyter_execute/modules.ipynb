{
 "cells": [
  {
   "cell_type": "markdown",
   "id": "ba387fbb",
   "metadata": {},
   "source": [
    "<div style=\"float: right;\">\n",
    "  <a href=\"../de/modules.html\" style=\"margin-left: 10px;\">🇩🇪 Deutsch</a>\n",
    "  <a href=\"../en/modules.html\">🇬🇧 English</a>\n",
    "</div>\n",
    "\n",
    "# 3. Modules\n",
    "While basically anything can be coded from scratch in Python, it is wise to first see if someone has already implemented what you are trying to do. That can save time and effort and the implementation is hopefully done well from someone confident enough to share their code online.\n",
    "\n",
    "To use functions, classes and other code that has been published online, you must import their respective modules.\n",
    "\n",
    "Modules are what we call code files. They are organized in libraries (also called packages), which are an organized collection of modules.\n",
    "\n",
    "\n",
    "## Installing libraries\n",
    "Python comes with a small number of pre-installed modules and libraries. But there are many more out there, which you will have to install first.\n",
    "\n",
    "The releases of Python libraries are usually released on the [Python Package Index (PyPi)](https://pypi.org/). \n",
    "\n",
    "To install libraries from PyPi, you can use **pip**, which comes pre-installed with every Python version from Python 3.0 onwards.\n",
    "\n",
    "You can call pip to install a certain package within Python, but it is generally recommended to call it outside of Python in a terminal.\n",
    "\n",
    "Let's say, we want to install the very popular \"pandas\" package. To install it directly from Python, you can call the \"main\" function of the pip library. This function takes a list as an input. The first object of this list is the string \"install\", denoting that we want to install a library. The second is the name of the library you want to install:\n",
    "```{code-block}\n",
    "import pip\n",
    "pip.main([\"install\", \"pandas\"])\n",
    "```\n",
    "\n",
    "If you are in a terminal instead (which is what I would recommend), you can use the following command:\n",
    "```bash\n",
    "pip install pandas\n",
    "```\n",
    "\n",
    "## Importing modules\n",
    "To import a module or libraries, you can just use \"import module_or_library_name\" in your Python console.\n",
    "\n",
    "When you import a module, you can call the functions within it using \"module_or_library_name.function()\". Let's see how this looks like, if we want to calculate the mean of a list, for which we need to import the statistics module:"
   ]
  },
  {
   "cell_type": "code",
   "execution_count": 1,
   "id": "6bc82111",
   "metadata": {},
   "outputs": [
    {
     "name": "stdout",
     "output_type": "stream",
     "text": [
      "2\n"
     ]
    }
   ],
   "source": [
    "import statistics\n",
    "print(statistics.mean([1, 2, 3]))"
   ]
  },
  {
   "cell_type": "markdown",
   "id": "b9a7768d",
   "metadata": {},
   "source": [
    "Alternatively, you can also import only certain functions from that module. To do this, you can use \"from module_or_library_name import function\"."
   ]
  },
  {
   "cell_type": "code",
   "execution_count": 2,
   "id": "53c1d376",
   "metadata": {},
   "outputs": [
    {
     "name": "stdout",
     "output_type": "stream",
     "text": [
      "2\n"
     ]
    }
   ],
   "source": [
    "from statistics import mean\n",
    "print(mean([1, 2, 3]))"
   ]
  },
  {
   "cell_type": "markdown",
   "id": "4d73e314",
   "metadata": {},
   "source": [
    "If we want to import the entire library but do not want to write out the full name of the library every time or if we already have a variable with the same name in your namespace, we can give the library a nickname while importing by using the key word \"as\". Here is an example for the library pandas:"
   ]
  },
  {
   "cell_type": "code",
   "execution_count": 3,
   "id": "e504a695",
   "metadata": {},
   "outputs": [],
   "source": [
    "import pandas as pd"
   ]
  },
  {
   "cell_type": "markdown",
   "id": "053eed5f",
   "metadata": {},
   "source": [
    "### Importing local modules\n",
    "You can import local code files in the same manner in which you import modules created by other people. If you have created a code file called \"module.py\", you can import it using:\n",
    "```{code-block}\n",
    "import module\n",
    "```\n",
    "\n",
    "When module is in a different directory, you can still import it. When the module is two directories above the current one, you need to add two dots in front of the module's name:\n",
    "```{code-block}\n",
    "import ..module\n",
    "```\n",
    "\n",
    "If you want to import a module in a subdirectory, you can import it like this:\n",
    "```{code-block}\n",
    "import subdirectory.module\n",
    "```"
   ]
  }
 ],
 "metadata": {
  "jupytext": {
   "formats": "md:myst",
   "text_representation": {
    "class": "no-execute",
    "extension": ".md",
    "format_name": "myst",
    "format_version": 0.13,
    "jupytext_version": "1.11.5"
   }
  },
  "kernelspec": {
   "display_name": "Python 3",
   "language": "python",
   "name": "python3"
  },
  "language_info": {
   "codemirror_mode": {
    "name": "ipython",
    "version": 3
   },
   "file_extension": ".py",
   "mimetype": "text/x-python",
   "name": "python",
   "nbconvert_exporter": "python",
   "pygments_lexer": "ipython3",
   "version": "3.11.9"
  },
  "source_map": [
   14,
   52,
   55,
   58,
   61,
   64,
   66
  ]
 },
 "nbformat": 4,
 "nbformat_minor": 5
}