{
 "cells": [
  {
   "cell_type": "markdown",
   "id": "736ca91b",
   "metadata": {},
   "source": [
    "<div style=\"float: right;\">\n",
    "  <a href=\"../de/structures.html\" style=\"margin-left: 10px;\">🇩🇪 Deutsch</a>\n",
    "  <a href=\"../en/structures.html\">🇬🇧 English</a>\n",
    "</div>\n",
    "\n",
    "\n",
    "# 2. Datentypen\n",
    "\n",
    "Im letzten Kapitel haben wir gelernt, dass Variablen eine ganze Zahl zugewiesen werden kann, was zu einer Integer-Variable führt.\n",
    "In Python gibt es verschiedene Arten von Daten, die in Variablen gespeichert werden können. Ein Integer ist nur eine von vielen Formen, die eine Variable annehmen kann.\n",
    "In diesem Kapitel stellen wir dir die gängigsten Datentypen in Python vor.\n",
    "\n",
    "## Variablentypen\n",
    "\n",
    "### Numerische Datentypen\n",
    "\n",
    "In Python gibt es zwei wichtige numerische Datentypen: Ganzzahlen (\"int\") und Fließkommazahlen (\"float\").\n",
    "Ganzzahlen sind ganze Zahlen, während Fließkommazahlen Zahlen mit einem Dezimalpunkt sind.\n",
    "\n",
    "```{note}\n",
    "Python ist eine dynamisch typisierte Sprache. Das bedeutet, dass du den Datentyp einer Variablen beim Erstellen nicht explizit angeben musst. Python erkennt automatisch den Datentyp der Variablen basierend auf dem zugewiesenen Wert. Das gilt für alle Datentypen in Python, nicht nur für Zahlen.\n",
    "```"
   ]
  },
  {
   "cell_type": "code",
   "execution_count": 1,
   "id": "140f66e1",
   "metadata": {},
   "outputs": [
    {
     "name": "stdout",
     "output_type": "stream",
     "text": [
      "<class 'int'>\n",
      "<class 'float'>\n"
     ]
    }
   ],
   "source": [
    "x = 5\n",
    "y = 5.5\n",
    "print(type(x))\n",
    "print(type(y))"
   ]
  },
  {
   "cell_type": "markdown",
   "id": "d5082864",
   "metadata": {},
   "source": [
    "```{margin} Achtung!\n",
    "Python versucht immer, den seiner Meinung nach passenden Datentyp zu erkennen. Dies kann zu Problemen führen, wenn du einen bestimmten Datentyp verwenden willst, Python aber deine Variable in einen anderen Typ umwandelt.\n",
    "\n",
    "Angenommen, wir möchten bei einer Division nur Ganzzahlen verwenden. Aber bei einer Division wandelt Python Zahlen immer in Fließkommazahlen um. Um diesen Fehler zu korrigieren, können wir das Ergebnis zurück in einen Integer casten:\n",
    "```"
   ]
  },
  {
   "cell_type": "code",
   "execution_count": 2,
   "id": "f4d0c422",
   "metadata": {
    "tags": [
     "margin"
    ]
   },
   "outputs": [
    {
     "name": "stdout",
     "output_type": "stream",
     "text": [
      "5.0 <class 'float'>\n",
      "5 <class 'int'>\n"
     ]
    }
   ],
   "source": [
    "x = 10\n",
    "y = 2\n",
    "z = x / y\n",
    "print(z, type(z))\n",
    "z = int(z)\n",
    "print(z, type(z))"
   ]
  },
  {
   "cell_type": "markdown",
   "id": "0eda510f",
   "metadata": {},
   "source": [
    "```{margin}\n",
    "Wir sehen, dass sich der Wert nicht ändert, sondern nur der Dezimalpunkt verschwindet. Type-Casting ist eine fortgeschrittene Technik und sollte nur verwendet werden, wenn du einen bestimmten Datentyp benötigst.\n",
    "Mehr dazu findest du [hier](https://www.geeksforgeeks.org/type-conversion-python/). \n",
    "```\n",
    "\n",
    "Du kannst mit beiden Zahlentypen Rechenoperationen durchführen.\n",
    "Python konvertiert das Ergebnis automatisch in den Datentyp, den es für am geeignetsten hält:"
   ]
  },
  {
   "cell_type": "code",
   "execution_count": 3,
   "id": "60c3c7ec",
   "metadata": {},
   "outputs": [
    {
     "name": "stdout",
     "output_type": "stream",
     "text": [
      "<class 'int'>\n",
      "<class 'float'>\n",
      "<class 'float'>\n"
     ]
    }
   ],
   "source": [
    "x = 5\n",
    "y = 5.5\n",
    "print(type(x + x))\n",
    "print(type(x + y))\n",
    "print(type(y + y))"
   ]
  },
  {
   "cell_type": "markdown",
   "id": "a1906c72",
   "metadata": {},
   "source": [
    "### Strings\n",
    "\n",
    "Strings sind Zeichenfolgen (Buchstaben, Symbole etc.). Sie können erstellt werden, indem man Zeichen in einfache oder doppelte Anführungszeichen einschließt. Für mehrzeilige Strings kann man auch dreifache Anführungszeichen verwenden.\n",
    "Alle drei Varianten ergeben denselben Datentyp:"
   ]
  },
  {
   "cell_type": "code",
   "execution_count": 4,
   "id": "46a8d897",
   "metadata": {},
   "outputs": [
    {
     "name": "stdout",
     "output_type": "stream",
     "text": [
      "Hello, World! <class 'str'>\n",
      "Hello, World! <class 'str'>\n",
      "Hello,\n",
      "World! <class 'str'>\n"
     ]
    }
   ],
   "source": [
    "x = \"Hello, World!\"\n",
    "y = 'Hello, World!'\n",
    "z = \"\"\"Hello,\n",
    "World!\"\"\"\n",
    "print(x, type(x))\n",
    "print(y, type(y))\n",
    "print(z, type(z))"
   ]
  },
  {
   "cell_type": "markdown",
   "id": "6b93fb7c",
   "metadata": {},
   "source": [
    "### Booleans\n",
    "\n",
    "Booleans sind ein Datentyp, der nur zwei Werte annehmen kann: `True` oder `False`. Sie repräsentieren den Wahrheitswert einer Aussage. Du kannst den Datentyp eines Booleans mit der Funktion `type()` überprüfen:"
   ]
  },
  {
   "cell_type": "code",
   "execution_count": 5,
   "id": "50d0eb54",
   "metadata": {},
   "outputs": [
    {
     "name": "stdout",
     "output_type": "stream",
     "text": [
      "<class 'bool'>\n",
      "<class 'bool'>\n"
     ]
    }
   ],
   "source": [
    "x = True\n",
    "y = False\n",
    "print(type(x))\n",
    "print(type(y))"
   ]
  },
  {
   "cell_type": "markdown",
   "id": "05c72cb2",
   "metadata": {},
   "source": [
    "Wir können auch einen Boolean relativ zu einer anderen Variablen definieren. Im folgenden Codeblock überprüfen wir, ob x größer als 3 ist:"
   ]
  },
  {
   "cell_type": "code",
   "execution_count": 6,
   "id": "26952998",
   "metadata": {},
   "outputs": [
    {
     "name": "stdout",
     "output_type": "stream",
     "text": [
      "True\n"
     ]
    }
   ],
   "source": [
    "x = 5\n",
    "y = x > 3\n",
    "print(y)"
   ]
  },
  {
   "cell_type": "markdown",
   "id": "d5ee5fd6",
   "metadata": {},
   "source": [
    "Du kannst den Wert von x ändern, um zu sehen, wie sich der Boolean-Wert ändert.\n",
    "\n",
    "Booleans werden häufig in Bedingungsanweisungen verwendet, die wir in einem späteren Kapitel behandeln.\n",
    "\n",
    "## Collections für Variablen\n",
    "\n",
    "Um nicht nur einzelne Werte in Variablen zu speichern, bietet Python die Möglichkeit, mehrere Werte in einer einzigen Variable zu speichern. Diese nennt man Collections. Die gängigsten Collection-Typen in Python sind Listen, Tupel, Sets und Dictionaries.\n",
    "\n",
    "### Listen\n",
    "\n",
    "Listen sind die flexibelste Art, mehrere Variablen zu speichern. Du kannst eine Liste erstellen, indem du Elemente in eckige Klammern setzt und mit Kommas trennst:"
   ]
  },
  {
   "cell_type": "code",
   "execution_count": 7,
   "id": "096494e6",
   "metadata": {},
   "outputs": [
    {
     "name": "stdout",
     "output_type": "stream",
     "text": [
      "[1, 2, 3, 4, 5]\n"
     ]
    }
   ],
   "source": [
    "x = [1, 2, 3, 4, 5]\n",
    "print(x)"
   ]
  },
  {
   "cell_type": "markdown",
   "id": "3bf1399a",
   "metadata": {},
   "source": [
    "Auf Elemente in einer Liste kann über den Index zugegriffen werden.\n",
    "\n",
    "```{attention}\n",
    "Ungewöhnlich ist, dass die Indexierung in Python bei 0 beginnt. Das heißt, das erste Element hat den Index 0, das zweite den Index 1 usw.\n",
    "```"
   ]
  },
  {
   "cell_type": "code",
   "execution_count": 8,
   "id": "ddf71e2c",
   "metadata": {},
   "outputs": [
    {
     "name": "stdout",
     "output_type": "stream",
     "text": [
      "1\n"
     ]
    }
   ],
   "source": [
    "x = [1, 2, 3, 4, 5]\n",
    "print(x[0])"
   ]
  },
  {
   "cell_type": "markdown",
   "id": "f337b207",
   "metadata": {},
   "source": [
    "Man kann auch negative Indizes verwenden, um Elemente \"von hinten\" zu erhalten. Mit dem Index -1 bekommst du das letzte Element, mit -2 das vorletzte usw."
   ]
  },
  {
   "cell_type": "code",
   "execution_count": 9,
   "id": "c3f70e07",
   "metadata": {},
   "outputs": [
    {
     "name": "stdout",
     "output_type": "stream",
     "text": [
      "5\n",
      "4\n"
     ]
    }
   ],
   "source": [
    "x = [1, 2, 3, 4, 5]\n",
    "print(x[-1])\n",
    "print(x[-2])"
   ]
  },
  {
   "cell_type": "markdown",
   "id": "9bbb3483",
   "metadata": {},
   "source": [
    "Listen sind flexibel. Du kannst sie jederzeit verändern, indem du Elemente hinzufügst, entfernst oder änderst. Mit `append()` fügst du Elemente hinzu, mit `remove()` entfernst du sie."
   ]
  },
  {
   "cell_type": "code",
   "execution_count": 10,
   "id": "f5623f72",
   "metadata": {},
   "outputs": [
    {
     "name": "stdout",
     "output_type": "stream",
     "text": [
      "[1, 3, 4, 5, 6]\n"
     ]
    }
   ],
   "source": [
    "x = [1, 2, 3, 4, 5]\n",
    "x.append(6)\n",
    "x.remove(2)\n",
    "print(x)"
   ]
  },
  {
   "cell_type": "markdown",
   "id": "3529306a",
   "metadata": {},
   "source": [
    "#### Übung 1\n",
    "\n",
    "Erstelle eine Liste mit den Zahlen 1 bis 10. Entferne dann die Zahl 5 und füge die Zahl 11 hinzu."
   ]
  },
  {
   "cell_type": "code",
   "execution_count": 11,
   "id": "9e6281e8",
   "metadata": {},
   "outputs": [],
   "source": [
    "# Dein Code hier"
   ]
  },
  {
   "cell_type": "code",
   "execution_count": 12,
   "id": "af005c76",
   "metadata": {
    "tags": [
     "hide-cell"
    ]
   },
   "outputs": [
    {
     "name": "stdout",
     "output_type": "stream",
     "text": [
      "[1, 2, 3, 4, 6, 7, 8, 9, 10, 11]\n"
     ]
    }
   ],
   "source": [
    "x = [1, 2, 3, 4, 5, 6, 7, 8, 9, 10]\n",
    "x.remove(5)\n",
    "x.append(11)\n",
    "print(x)"
   ]
  },
  {
   "cell_type": "markdown",
   "id": "2c0b6151",
   "metadata": {},
   "source": [
    "#### Übung 2\n",
    "\n",
    "Erstelle eine Liste mit den Zahlen 1 bis 3. Füge dann den String \"Four\" hinzu. Gib die Liste aus."
   ]
  },
  {
   "cell_type": "code",
   "execution_count": 13,
   "id": "72a8c033",
   "metadata": {},
   "outputs": [],
   "source": [
    "# Dein Code hier"
   ]
  },
  {
   "cell_type": "code",
   "execution_count": 14,
   "id": "02b44f65",
   "metadata": {
    "tags": [
     "hide-cell"
    ]
   },
   "outputs": [
    {
     "name": "stdout",
     "output_type": "stream",
     "text": [
      "[1, 2, 3, 'Four']\n"
     ]
    }
   ],
   "source": [
    "x = [1, 2, 3]\n",
    "x.append(\"Four\")\n",
    "print(x)"
   ]
  },
  {
   "cell_type": "markdown",
   "id": "b9b4a3d1",
   "metadata": {},
   "source": [
    "### Tupel\n",
    "\n",
    "Tupel sind der unflexibelste Datentyp. Einmal erstellt, können ihre Werte nicht geändert werden.\n",
    "Du solltest Tupel nur verwenden, wenn die Daten garantiert gleich bleiben.\n",
    "\n",
    "Ein Tupel wird mit runden Klammern und Kommas erstellt:"
   ]
  },
  {
   "cell_type": "code",
   "execution_count": 15,
   "id": "107623da",
   "metadata": {},
   "outputs": [
    {
     "name": "stdout",
     "output_type": "stream",
     "text": [
      "(1, 2, 3, 4, 5)\n"
     ]
    }
   ],
   "source": [
    "x = (1, 2, 3, 4, 5)\n",
    "print(x)"
   ]
  },
  {
   "cell_type": "markdown",
   "id": "bc9cabce",
   "metadata": {},
   "source": [
    "Ein einzigartiges Merkmal von Tupeln ist das sogenannte Tuple Unpacking, bei dem mehrere Variablen gleichzeitig zugewiesen werden:"
   ]
  },
  {
   "cell_type": "code",
   "execution_count": 16,
   "id": "b4b34044",
   "metadata": {},
   "outputs": [
    {
     "name": "stdout",
     "output_type": "stream",
     "text": [
      "1\n",
      "2\n",
      "3\n"
     ]
    }
   ],
   "source": [
    "x = (1, 2, 3)\n",
    "a, b, c = x\n",
    "print(a)\n",
    "print(b)\n",
    "print(c)"
   ]
  },
  {
   "cell_type": "markdown",
   "id": "5ef03840",
   "metadata": {},
   "source": [
    "### Sets\n",
    "\n",
    "Sets sind ungeordnet und nicht indexierbar. Du kannst also nicht mit einem Index auf Elemente zugreifen.\n",
    "\n",
    "Ein Set wird mit geschweiften Klammern und Kommas erstellt:"
   ]
  },
  {
   "cell_type": "code",
   "execution_count": 17,
   "id": "dbc6a979",
   "metadata": {},
   "outputs": [
    {
     "name": "stdout",
     "output_type": "stream",
     "text": [
      "{1, 2, 3, 4, 5}\n"
     ]
    }
   ],
   "source": [
    "x = {1, 2, 3, 4, 5}\n",
    "print(x)"
   ]
  },
  {
   "cell_type": "markdown",
   "id": "569b2ec3",
   "metadata": {},
   "source": [
    "Alle Elemente in einem Set sind einzigartig. Doppelte Werte werden automatisch entfernt:"
   ]
  },
  {
   "cell_type": "code",
   "execution_count": 18,
   "id": "a6f0d3e7",
   "metadata": {},
   "outputs": [
    {
     "name": "stdout",
     "output_type": "stream",
     "text": [
      "{1, 2, 3, 4, 5}\n"
     ]
    }
   ],
   "source": [
    "x = {1, 2, 3, 4, 5, 5}\n",
    "print(x)"
   ]
  },
  {
   "cell_type": "markdown",
   "id": "5d43da87",
   "metadata": {},
   "source": [
    "Du kannst das auch nutzen, um Duplikate aus einer Liste zu entfernen, indem du sie in ein Set und dann wieder in eine Liste konvertierst:"
   ]
  },
  {
   "cell_type": "code",
   "execution_count": 19,
   "id": "686a9da4",
   "metadata": {},
   "outputs": [
    {
     "name": "stdout",
     "output_type": "stream",
     "text": [
      "[1, 2, 3, 4, 5]\n"
     ]
    }
   ],
   "source": [
    "x = [1, 2, 3, 1, 4, 5]\n",
    "x = set(x)\n",
    "x = list(x)\n",
    "print(x)"
   ]
  },
  {
   "cell_type": "markdown",
   "id": "7adbc494",
   "metadata": {},
   "source": [
    "Ein zweiter großer Vorteil von Sets ist die sehr schnelle Suche nach Elementen. Der Unterschied zur Liste wird bei großen Datenmengen deutlich:"
   ]
  },
  {
   "cell_type": "code",
   "execution_count": 20,
   "id": "96ea717f",
   "metadata": {},
   "outputs": [
    {
     "name": "stdout",
     "output_type": "stream",
     "text": [
      "True\n"
     ]
    }
   ],
   "source": [
    "x = {1, 2, 3, 4, 5}\n",
    "print(3 in x)"
   ]
  },
  {
   "cell_type": "markdown",
   "id": "07d34d24",
   "metadata": {},
   "source": [
    "#### Übung 3\n",
    "\n",
    "Erstelle eine Liste, die die Zahlen 1 bis 3 zweimal enthält. Entferne die Duplikate."
   ]
  },
  {
   "cell_type": "code",
   "execution_count": 21,
   "id": "4ba3cf01",
   "metadata": {},
   "outputs": [],
   "source": [
    "# Dein Code hier"
   ]
  },
  {
   "cell_type": "code",
   "execution_count": 22,
   "id": "7fc7bcdc",
   "metadata": {
    "tags": [
     "hide-cell"
    ]
   },
   "outputs": [
    {
     "name": "stdout",
     "output_type": "stream",
     "text": [
      "[1, 2, 3]\n"
     ]
    }
   ],
   "source": [
    "x = [1, 2, 3, 1, 2, 3]\n",
    "x = set(x)\n",
    "x = list(x)\n",
    "print(x)"
   ]
  },
  {
   "cell_type": "markdown",
   "id": "f43c46c7",
   "metadata": {},
   "source": [
    "### Dictionaries\n",
    "\n",
    "Dictionaries erweitern das Konzept von Sets. Während Sets nur Werte enthalten, bestehen Dictionaries aus Schlüssel-Wert-Paaren.\n",
    "Das bedeutet, dass du jedem Objekt eine eindeutige Kennung geben kannst.\n",
    "\n",
    "Im folgenden Beispiel speichern wir das Alter einer Person. Wir erstellen ein Dictionary mit dem Namen als Schlüssel und dem Alter als Wert:"
   ]
  },
  {
   "cell_type": "code",
   "execution_count": 23,
   "id": "500626b3",
   "metadata": {},
   "outputs": [
    {
     "name": "stdout",
     "output_type": "stream",
     "text": [
      "25\n"
     ]
    }
   ],
   "source": [
    "x = {\"Alice\": 25, \"Bob\": 30, \"Charlie\": 35}\n",
    "print(x[\"Alice\"])"
   ]
  },
  {
   "cell_type": "markdown",
   "id": "1422831c",
   "metadata": {},
   "source": [
    "Dictionaries sind ähnlich wie Sets: Erstens sind sie ungeordnet. Du kannst also nicht per Index auf sie zugreifen, sondern musst den Schlüssel verwenden. Zweitens nutzen sie, wie Sets, Hashing, womit du blitzschnell auf einen Eintrag zugreifen kannst:"
   ]
  },
  {
   "cell_type": "code",
   "execution_count": 24,
   "id": "6e1bdfdd",
   "metadata": {},
   "outputs": [
    {
     "name": "stdout",
     "output_type": "stream",
     "text": [
      "True\n"
     ]
    }
   ],
   "source": [
    "x = {\"Alice\": 25, \"Bob\": 30, \"Charlie\": 35}\n",
    "print(\"Alice\" in x)"
   ]
  },
  {
   "cell_type": "markdown",
   "id": "6988f974",
   "metadata": {},
   "source": [
    "Dictionaries sind sehr flexibel. Du kannst Elemente hinzufügen, ändern oder entfernen. Mit dem Zuweisungsoperator fügst du Werte hinzu, mit der Methode `pop()` entfernst du sie:"
   ]
  },
  {
   "cell_type": "code",
   "execution_count": 25,
   "id": "18a62552",
   "metadata": {},
   "outputs": [
    {
     "name": "stdout",
     "output_type": "stream",
     "text": [
      "{'Alice': 25, 'Charlie': 35, 'David': 40}\n"
     ]
    }
   ],
   "source": [
    "x = {\"Alice\": 25, \"Bob\": 30, \"Charlie\": 35}\n",
    "x[\"David\"] = 40\n",
    "x.pop(\"Bob\")\n",
    "print(x)"
   ]
  },
  {
   "cell_type": "markdown",
   "id": "714e9a36",
   "metadata": {},
   "source": [
    "Du kannst mit `keys()` alle Schlüssel oder mit `values()` alle Werte eines Dictionaries ausgeben:"
   ]
  },
  {
   "cell_type": "code",
   "execution_count": 26,
   "id": "a9b6c8c6",
   "metadata": {},
   "outputs": [
    {
     "name": "stdout",
     "output_type": "stream",
     "text": [
      "dict_keys(['Alice', 'Bob', 'Charlie'])\n",
      "dict_values([25, 30, 35])\n"
     ]
    }
   ],
   "source": [
    "x = {\"Alice\": 25, \"Bob\": 30, \"Charlie\": 35}\n",
    "print(x.keys())\n",
    "print(x.values())"
   ]
  },
  {
   "cell_type": "markdown",
   "id": "c66e30a4",
   "metadata": {},
   "source": [
    "#### Übung 4\n",
    "\n",
    "Erstelle ein Dictionary mit den Namen \"Alice\", \"Bob\" und \"Charlie\" als Schlüssel und deren Alter als Werte. Füge dann \"David\" mit dem gleichen Alter wie \"Bob\" hinzu. Wandle anschließend die Werte des Dictionaries in eine Liste mit eindeutigen Werten um."
   ]
  },
  {
   "cell_type": "code",
   "execution_count": 27,
   "id": "9c83b804",
   "metadata": {},
   "outputs": [],
   "source": [
    "# Dein Code hier"
   ]
  },
  {
   "cell_type": "code",
   "execution_count": 28,
   "id": "7c8d47d6",
   "metadata": {
    "tags": [
     "hide-cell"
    ]
   },
   "outputs": [
    {
     "name": "stdout",
     "output_type": "stream",
     "text": [
      "[25, 35, 30]\n"
     ]
    }
   ],
   "source": [
    "x = {\"Alice\": 25, \"Bob\": 30, \"Charlie\": 35}\n",
    "x[\"David\"] = x[\"Bob\"]\n",
    "y = x.values()\n",
    "y = list(set(y))\n",
    "print(y)"
   ]
  }
 ],
 "metadata": {
  "jupytext": {
   "formats": "md:myst",
   "text_representation": {
    "extension": ".md",
    "format_name": "myst",
    "format_version": 0.13,
    "jupytext_version": "1.11.5"
   }
  },
  "kernelspec": {
   "display_name": "Python 3",
   "language": "python",
   "name": "python3"
  },
  "language_info": {
   "codemirror_mode": {
    "name": "ipython",
    "version": 3
   },
   "file_extension": ".py",
   "mimetype": "text/x-python",
   "name": "python",
   "nbconvert_exporter": "python",
   "pygments_lexer": "ipython3",
   "version": "3.11.9"
  },
  "source_map": [
   13,
   37,
   42,
   50,
   58,
   68,
   74,
   81,
   89,
   95,
   100,
   104,
   108,
   122,
   125,
   133,
   136,
   140,
   144,
   148,
   153,
   159,
   163,
   169,
   175,
   179,
   184,
   193,
   196,
   200,
   206,
   214,
   217,
   221,
   224,
   228,
   233,
   237,
   240,
   246,
   250,
   256,
   265,
   268,
   272,
   275,
   279,
   284,
   288,
   292,
   298,
   302
  ]
 },
 "nbformat": 4,
 "nbformat_minor": 5
}