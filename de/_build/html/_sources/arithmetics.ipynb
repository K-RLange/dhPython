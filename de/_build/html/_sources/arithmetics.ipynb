{
 "cells": [
  {
   "cell_type": "markdown",
   "id": "ad2fd23e",
   "metadata": {},
   "source": [
    "<div style=\"float: right;\">\n",
    "  <a href=\"../../../de/arithmetics.html\" style=\"margin-left: 10px;\">🇩🇪 Deutsch</a>\n",
    "  <a href=\"../../../en/arithmetics.html\">🇬🇧 English</a>\n",
    "</div>\n",
    "\n",
    "# 1. Arithmetik und Variablen\n",
    "\n",
    "## Arithmetik\n",
    "In seiner einfachsten Form kann Python wie ein Taschenrechner verwendet werden. Du kannst damit unter anderem Zahlen addieren, subtrahieren, multiplizieren und dividieren.\n",
    "\n",
    "Die folgende Zelle zeigt dir, wie man zwei Zahlen in Python addiert:"
   ]
  },
  {
   "cell_type": "code",
   "execution_count": 1,
   "id": "e37f28ab",
   "metadata": {},
   "outputs": [
    {
     "name": "stdout",
     "output_type": "stream",
     "text": [
      "5\n"
     ]
    }
   ],
   "source": [
    "print(2 + 3)"
   ]
  },
  {
   "cell_type": "markdown",
   "id": "c3706519",
   "metadata": {},
   "source": [
    "Um ein Objekt in der Konsole auszugeben, kannst du den Befehl print(...) verwenden, wobei du „...“ durch das Objekt ersetzt, das du anzeigen möchtest. In diesem Fall ist es das Ergebnis von 2 + 2.\n",
    "\n",
    "Weitere mathematische Operationen können wie folgt durchgeführt werden:\n",
    "```\n",
    "print(3 * 4)  # Multiplikation\n",
    "print(3 - 2)  # Subtraktion\n",
    "print(10 / 2)  # Division\n",
    "print(10 ** 2)  # Potenzierung\n",
    "print(10 % 3)  # Modulo\n",
    "```\n",
    "\n",
    "Das Symbol # wird verwendet, um Code zu kommentieren. Das bedeutet, dass der Code hinter dem #-Symbol nicht ausgeführt wird. Kommentare sind hilfreich, um zu erklären, was der Code macht.\n",
    "\n",
    "## Variablen\n",
    "````{margin}\n",
    "```{note}\n",
    "Beim Benennen von Variablen solltest du darauf achten, keine bereits verwendeten Namen zu überschreiben. Du solltest zum Beispiel keine Variable „print“ nennen, da dies die Funktion `print` überschreiben würde. Das würde später zu einem Fehler führen, wenn du versuchst, die `print`-Funktion zu verwenden.\n",
    "```\n",
    "````\n",
    "\n",
    "In Python kannst du Werte in Variablen speichern. Das ist nützlich, wenn du einen Wert mehrfach im Code verwenden möchtest. Eine Zuweisung erfolgt über den = Operator.\n",
    "Variablen können beliebige Namen haben. In einer praktischen Analyse empfiehlt es sich jedoch, aussagekräftige Namen zu verwenden. So wird der Code verständlicher – für dich und für andere.\n",
    "\n",
    "Die folgende Zelle zeigt, wie man einer Variable (hier mit dem Namen x) einen Wert zuweist und diesen dann ausgibt:"
   ]
  },
  {
   "cell_type": "code",
   "execution_count": 2,
   "id": "d253ee57",
   "metadata": {},
   "outputs": [
    {
     "name": "stdout",
     "output_type": "stream",
     "text": [
      "5\n"
     ]
    }
   ],
   "source": [
    "x = 5\n",
    "print(x)"
   ]
  },
  {
   "cell_type": "markdown",
   "id": "2c4908cb",
   "metadata": {},
   "source": [
    "Wenn du eine Variable verändern möchtest, kannst du das ebenfalls mit dem = Operator tun:"
   ]
  },
  {
   "cell_type": "code",
   "execution_count": 3,
   "id": "310f424a",
   "metadata": {},
   "outputs": [
    {
     "name": "stdout",
     "output_type": "stream",
     "text": [
      "5\n",
      "10\n"
     ]
    }
   ],
   "source": [
    "x = 5\n",
    "print(x)\n",
    "x = x + 5\n",
    "print(x)"
   ]
  },
  {
   "cell_type": "markdown",
   "id": "24bc96bd",
   "metadata": {},
   "source": [
    "Du kannst Variablen also als Platzhalter für Objekte verwenden. In diesem Fall wird x eine ganze Zahl (Integer) zugewiesen. Wenn wir eine weitere Variable y definieren, können wir Berechnungen mit diesen Variablen durchführen:"
   ]
  },
  {
   "cell_type": "code",
   "execution_count": 4,
   "id": "42a58d45",
   "metadata": {},
   "outputs": [
    {
     "name": "stdout",
     "output_type": "stream",
     "text": [
      "17\n"
     ]
    }
   ],
   "source": [
    "x = 5\n",
    "x = x + 2\n",
    "y = 10\n",
    "z = x + y\n",
    "print(z)"
   ]
  },
  {
   "cell_type": "markdown",
   "id": "bcd7ca94",
   "metadata": {},
   "source": [
    "### Übung\n",
    "\n",
    "Jetzt bist du dran! Löse die folgende Übung und klicke auf die versteckte Code-Zelle darunter, um die Lösung zu sehen.\n",
    "`````{margin}\n",
    "```{attention}\n",
    "Um den Python-Code in diesem Kurs zu bearbeiten und auszuführen, findest du dieses Symbol ![live code symbol](code_symbol.PNG) oben auf jeder Seite, die Python-Code enthält. Du kannst darauf klicken und dann „Live code“ auswählen, um den Code selbst zu bearbeiten und auszuführen. Probiere ruhig verschiedene Dinge aus und experimentiere mit dem Code. Du kannst hier nichts kaputt machen, und niemand (auch wir nicht) kann deinen Code sehen – also fühl dich frei, zu experimentieren.\n",
    "```\n",
    "`````\n",
    "\n",
    "#### Übung 1\n",
    "\n",
    "Berechne die Summe von 5 und 7 und speichere das Ergebnis in einer Variablen namens „var1“. Multipliziere dann diese Variable mit sich selbst und speichere das Ergebnis in einer Variablen namens „var2“. Gib zum Schluss das Ergebnis von „var2“ aus."
   ]
  },
  {
   "cell_type": "code",
   "execution_count": 5,
   "id": "1f4dda16",
   "metadata": {},
   "outputs": [],
   "source": [
    "# Dein Code hier"
   ]
  },
  {
   "cell_type": "code",
   "execution_count": 6,
   "id": "03923f17",
   "metadata": {
    "tags": [
     "hide-cell"
    ]
   },
   "outputs": [
    {
     "name": "stdout",
     "output_type": "stream",
     "text": [
      "144\n"
     ]
    }
   ],
   "source": [
    "var1 = 5 + 7\n",
    "var2 = var1 * var1\n",
    "print(var2)"
   ]
  },
  {
   "cell_type": "markdown",
   "id": "7f9a5c0a",
   "metadata": {},
   "source": [
    "#### Übung 2\n",
    "```{raw} html\n",
    "<style>\n",
    "  :root {\n",
    "    --accent: #4f46e5;\n",
    "    --accent-light: #eef2ff;\n",
    "    --bg: #ffffff;\n",
    "    --border: #e5e7eb;\n",
    "    --text: #111827;\n",
    "    --gray: #6b7280;\n",
    "    --success: #16a34a;\n",
    "    --error: #dc2626;\n",
    "    --warning: #facc15;\n",
    "  }\n",
    "\n",
    "  #quiz-container {\n",
    "    background: var(--bg);\n",
    "    border: 1px solid var(--border);\n",
    "    border-radius: 16px;\n",
    "    padding: 2rem;\n",
    "    max-width: 750px;\n",
    "    font-family: \"Segoe UI\", Roboto, sans-serif;\n",
    "    color: var(--text);\n",
    "    box-shadow: 0 8px 24px rgba(0, 0, 0, 0.05);\n",
    "    transition: box-shadow 0.3s ease;\n",
    "    margin-bottom: 2rem;\n",
    "  }\n",
    "\n",
    "  #quiz-container:hover {\n",
    "    box-shadow: 0 10px 30px rgba(0, 0, 0, 0.08);\n",
    "  }\n",
    "\n",
    "  #quiz-container p.question {\n",
    "    font-size: 1.25rem;\n",
    "    font-weight: 600;\n",
    "    margin-bottom: 1.5rem;\n",
    "  }\n",
    "\n",
    "  #quiz-form label {\n",
    "    display: block;\n",
    "    margin: 0.75rem 0;\n",
    "    padding: 0.75rem 1rem;\n",
    "    border-radius: 12px;\n",
    "    border: 1px solid transparent;\n",
    "    background-color: var(--accent-light);\n",
    "    cursor: pointer;\n",
    "    transition: all 0.25s ease;\n",
    "  }\n",
    "\n",
    "  #quiz-form label:hover {\n",
    "    background-color: #e0e7ff;\n",
    "    border-color: var(--accent);\n",
    "  }\n",
    "\n",
    "  #quiz-form input[type=\"radio\"] {\n",
    "    margin-right: 0.75rem;\n",
    "    transform: scale(1.2);\n",
    "    accent-color: var(--accent);\n",
    "  }\n",
    "\n",
    "   #quiz-form pre {\n",
    "    margin: 0.2rem 0 0;\n",
    "    background-color: transparent !important;  /* no background */\n",
    "    border: none !important;                   /* no border */\n",
    "    display: inline;\n",
    "    font-size: 0.95rem;\n",
    "    white-space: pre-wrap;\n",
    "    padding: 0;                                /* no padding */\n",
    "    font-family: 'Courier New', Courier, monospace;\n",
    "  }\n",
    "\n",
    "  #quiz-form button {\n",
    "    margin-top: 1.5rem;\n",
    "    background-color: var(--accent);\n",
    "    color: white;\n",
    "    padding: 0.6rem 1.2rem;\n",
    "    border: none;\n",
    "    border-radius: 8px;\n",
    "    font-size: 1rem;\n",
    "    font-weight: 600;\n",
    "    cursor: pointer;\n",
    "    transition: background-color 0.3s ease;\n",
    "  }\n",
    "\n",
    "  #quiz-form button:hover {\n",
    "    background-color: #4338ca;\n",
    "  }\n",
    "\n",
    "  #quiz-feedback {\n",
    "    margin-top: 1.25rem;\n",
    "    padding: 0.75rem 1rem;\n",
    "    border-radius: 8px;\n",
    "    font-weight: 500;\n",
    "    font-size: 1rem;\n",
    "    display: inline-block;\n",
    "  }\n",
    "\n",
    "  .success {\n",
    "    background-color: #dcfce7;\n",
    "    color: var(--success);\n",
    "    border: 1px solid var(--success);\n",
    "  }\n",
    "\n",
    "  .error {\n",
    "    background-color: #fee2e2;\n",
    "    color: var(--error);\n",
    "    border: 1px solid var(--error);\n",
    "  }\n",
    "\n",
    "  .warning {\n",
    "    background-color: #fef9c3;\n",
    "    color: var(--warning);\n",
    "    border: 1px solid var(--warning);\n",
    "  }\n",
    "</style>\n",
    "\n",
    "<div id=\"quiz-container\">\n",
    "  <p class=\"question\">🧠 Was ist die korrekte Syntax, um 3 mit 7 zu multiplizieren, das Ergebnis in einer Variable zu speichern, und diese auszugeben? </p>\n",
    "  <form id=\"quiz-form\">\n",
    "    <label>\n",
    "      <input type=\"radio\" name=\"answer\" value=\"a\">\n",
    "      <pre><code>x = 3 * 7\n",
    "print(x)</code></pre>\n",
    "    </label>\n",
    "    <label>\n",
    "      <input type=\"radio\" name=\"answer\" value=\"b\">\n",
    "      <pre><code>3 * 7\n",
    "print(x)</code></pre>\n",
    "    </label>\n",
    "    <label>\n",
    "      <input type=\"radio\" name=\"answer\" value=\"c\">\n",
    "      <pre><code>print(3 * 7)</code></pre>\n",
    "    </label>\n",
    "    <label>\n",
    "      <input type=\"radio\" name=\"answer\" value=\"d\">\n",
    "      <pre><code>print(x = 3 * 7)</code></pre>\n",
    "    </label>\n",
    "\n",
    "    <button type=\"button\" onclick=\"checkAnswer()\">Submit Answer</button>\n",
    "    <p id=\"quiz-feedback\"></p>\n",
    "  </form>\n",
    "</div>\n",
    "\n",
    "<script>\n",
    "  function checkAnswer() {\n",
    "    const answers = {\n",
    "      a: {\n",
    "        correct: true,\n",
    "        feedback: \"✅ Korrekt!\"\n",
    "      },\n",
    "      b: {\n",
    "        correct: false,\n",
    "        feedback: \"❌ x wäre hier nicht definiert, weswegen es nichts zu auszugeben gäbe.\"\n",
    "      },\n",
    "      c: {\n",
    "        correct: false,\n",
    "        feedback: \"❌ Das gibt das Resultat aus, speichert es aber nicht ab.\"\n",
    "      },\n",
    "      d: {\n",
    "        correct: false,\n",
    "        feedback: \"❌ Du kannst eine Variable nicht gleichzeitig verwenden und abspeichern.\"\n",
    "      }\n",
    "    };\n",
    "\n",
    "    const selected = document.querySelector('input[name=\"answer\"]:checked');\n",
    "    const feedback = document.getElementById(\"quiz-feedback\");\n",
    "\n",
    "    if (!selected) {\n",
    "      feedback.textContent = \"⚠️ Bitte wähle eine Antwort aus!\";\n",
    "      feedback.className = \"warning\";\n",
    "      return;\n",
    "    }\n",
    "\n",
    "    const result = answers[selected.value];\n",
    "    feedback.textContent = result.feedback;\n",
    "    feedback.className = result.correct ? \"success\" : \"error\";\n",
    "  }\n",
    "</script>\n",
    "```"
   ]
  }
 ],
 "metadata": {
  "jupytext": {
   "formats": "md:myst",
   "text_representation": {
    "extension": ".md",
    "format_name": "myst",
    "format_version": 0.13,
    "jupytext_version": "1.11.5"
   }
  },
  "kernelspec": {
   "display_name": "Python 3",
   "language": "python",
   "name": "python3"
  },
  "language_info": {
   "codemirror_mode": {
    "name": "ipython",
    "version": 3
   },
   "file_extension": ".py",
   "mimetype": "text/x-python",
   "name": "python",
   "nbconvert_exporter": "python",
   "pygments_lexer": "ipython3",
   "version": "3.9.6"
  },
  "source_map": [
   13,
   25,
   27,
   53,
   56,
   60,
   65,
   69,
   75,
   89,
   93,
   98
  ]
 },
 "nbformat": 4,
 "nbformat_minor": 5
}