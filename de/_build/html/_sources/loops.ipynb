{
 "cells": [
  {
   "cell_type": "markdown",
   "id": "8d8d656e",
   "metadata": {},
   "source": [
    "# 3. Conditions and Loops\n",
    "Programming often does not stop at creating variables. In many cases, you want to perform certain actions only under specific conditions or you want to repeat certain actions multiple times. This is where conditions and loops come into play.\n",
    "\n",
    "## Conditions\n",
    "Conditions are used to check whether a certain statement is true or false. \n",
    "If the statement is true, a certain action is performed. If the statement is false, \n",
    "another action is performed. Such conditions are always binary and can thus be represented\n",
    "by a boolean variable.\n",
    "\n",
    "```{note} Code blocks\n",
    "In Python, the colon \":\" is used to indicate the start of a block of code. All following lines that belong to that code block are then indented by four spaces (usually one tabulator-press). This is the way, Python interprets, which lines of code belong together and is a must. Otherwise, your code will throw errors.\n",
    "This structure - a colon followed by intended lines - happens whenever you want to check for a condition, loop over something, create a function or a class. \n",
    "How these other blocks of code work will be explained in later sections, but it is important to remember that they always follow this simple structure.\n",
    "```\n",
    "We check for conditions using the \"if\" keyword and create an intended code block that is executed if and only if the condition is met.\n",
    "\n",
    "In the following cell, we define a boolean and check whether it is true or not. If it is true, we print \"The boolean is true\"."
   ]
  },
  {
   "cell_type": "code",
   "execution_count": 1,
   "id": "7d14a153",
   "metadata": {},
   "outputs": [
    {
     "name": "stdout",
     "output_type": "stream",
     "text": [
      "The boolean is true\n"
     ]
    }
   ],
   "source": [
    "boolean = True\n",
    "if boolean:\n",
    "    print(\"The boolean is true\")"
   ]
  },
  {
   "cell_type": "markdown",
   "id": "946ec324",
   "metadata": {},
   "source": [
    "We can also define what happens, if the condition is not met. We can do this by using the \"else\" keyword directly after the \"if\"-code block has ended. \n",
    "\n",
    "The following code cell checks if a certain number is larger than 5. If this is the case, it prints \"The number is larger than 5\". If the number is not larger than 5, it prints \"The number is not larger than 5\"."
   ]
  },
  {
   "cell_type": "code",
   "execution_count": 2,
   "id": "c251b56b",
   "metadata": {},
   "outputs": [
    {
     "name": "stdout",
     "output_type": "stream",
     "text": [
      "The number is not larger than 5\n"
     ]
    }
   ],
   "source": [
    "number = 4\n",
    "if number > 5:\n",
    "    print(\"The number is larger than 5\")\n",
    "else:\n",
    "    print(\"The number is not larger than 5\")"
   ]
  },
  {
   "cell_type": "markdown",
   "id": "2f31027d",
   "metadata": {},
   "source": [
    "We can even go further and check multiple conditions. We can do this by using the \"elif\" keyword. This keyword is short for \"else if\" and is used to check another condition if the first condition is not met.\n",
    "It is different from \"else\", because it does not always execute its code block, if the original \"if\" condition wasn't met, but only if an additional condition is met.\n",
    "\n",
    "In the following cell, we check if a number is larger than 0, larger than 5 or larger than 10. We print the result of each check."
   ]
  },
  {
   "cell_type": "code",
   "execution_count": 3,
   "id": "fb659bfb",
   "metadata": {},
   "outputs": [
    {
     "name": "stdout",
     "output_type": "stream",
     "text": [
      "The number is larger than 5 but smaller or equal to 10\n"
     ]
    }
   ],
   "source": [
    "number = 6\n",
    "if number > 10:\n",
    "    print(\"The number is larger than 10\")\n",
    "elif number > 5:\n",
    "    print(\"The number is larger than 5 but smaller or equal to 10\")\n",
    "elif number > 0:\n",
    "    print(\"The number is larger than 0 but smaller than 5\")\n",
    "else:\n",
    "    print(\"The number is smaller or equal to 0\")"
   ]
  },
  {
   "cell_type": "markdown",
   "id": "03630ed8",
   "metadata": {},
   "source": [
    "## Loops\n",
    "```{note} Copy-Pasting\n",
    "When you want to repeat a certain action multiple times, you might think that just copying and pasting the code is a good idea. But this is not a good idea. \n",
    "\n",
    "Copy-Pasting is inefficient code usage. Your code will become bloated and more difficult to read for yourself and others.\n",
    "\n",
    "Also, when you made a mistake in the code you copied, you will have to correct it not just once, but you will have to correct in every copy you made.\n",
    "```\n",
    "When you want to repeat a certain action multiple times, you can use a loop.\n",
    "A loop can also be useful when you want to perform a certain action for each element in a list or other iterable object.\n",
    "\n",
    "In Python, there are two types of loops: the \"for\" loop and the \"while\" loop.\n",
    "\n",
    "### while loop\n",
    "When you use a while-loop, the code will be executed only if a certain condition is met.\n",
    "\n",
    "For instance, the while loop in the following code block checks if the variable \"number\" is smaller than 10 at the start of every iteration. If this condition is met, the code is executed, if not, the loop ends."
   ]
  },
  {
   "cell_type": "code",
   "execution_count": 4,
   "id": "9f092f56",
   "metadata": {},
   "outputs": [
    {
     "name": "stdout",
     "output_type": "stream",
     "text": [
      "1\n",
      "2\n",
      "3\n",
      "4\n",
      "5\n",
      "6\n",
      "7\n",
      "8\n",
      "9\n",
      "10\n",
      "Loop has ended\n"
     ]
    }
   ],
   "source": [
    "number = 0\n",
    "\n",
    "while number < 10:\n",
    "    number = number + 1\n",
    "    print(number)\n",
    "print(\"Loop has ended\")"
   ]
  },
  {
   "cell_type": "markdown",
   "id": "4e911e20",
   "metadata": {},
   "source": [
    "When the condition is not met, the loop does not execute at all."
   ]
  },
  {
   "cell_type": "code",
   "execution_count": 5,
   "id": "3694359e",
   "metadata": {},
   "outputs": [
    {
     "name": "stdout",
     "output_type": "stream",
     "text": [
      "Loop has not been executed\n"
     ]
    }
   ],
   "source": [
    "number = 11\n",
    "\n",
    "while number < 10:\n",
    "    number = number + 1\n",
    "    print(number)\n",
    "print(\"Loop has not been executed\")"
   ]
  },
  {
   "cell_type": "markdown",
   "id": "c9229697",
   "metadata": {},
   "source": [
    "Sometimes you want to check a condition during the run of a while loop, not at the start of each iteration. In these cases, you can check a condition that is always true in the header of the loop and use the \"break\" command in the code block:"
   ]
  },
  {
   "cell_type": "code",
   "execution_count": 6,
   "id": "1fa0b385",
   "metadata": {},
   "outputs": [
    {
     "name": "stdout",
     "output_type": "stream",
     "text": [
      "1\n",
      "2\n",
      "3\n",
      "4\n",
      "5\n",
      "6\n",
      "7\n",
      "8\n",
      "9\n",
      "10\n",
      "Loop has ended\n"
     ]
    }
   ],
   "source": [
    "number = 0\n",
    "while True:\n",
    "    if number >= 10:\n",
    "        break\n",
    "    number = number + 1\n",
    "    print(number)\n",
    "print(\"Loop has ended\")"
   ]
  },
  {
   "cell_type": "markdown",
   "id": "0dc864bc",
   "metadata": {},
   "source": [
    "You can also use a combination of both:"
   ]
  },
  {
   "cell_type": "code",
   "execution_count": 7,
   "id": "dcfc4172",
   "metadata": {},
   "outputs": [
    {
     "name": "stdout",
     "output_type": "stream",
     "text": [
      "1\n",
      "2\n",
      "3\n",
      "4\n",
      "5\n",
      "6\n",
      "7\n",
      "Loop has ended\n"
     ]
    }
   ],
   "source": [
    "number = 0\n",
    "limit = 8\n",
    "\n",
    "while number < 10:\n",
    "    number = number + 1\n",
    "    if number == limit:\n",
    "        break \n",
    "    print(number)\n",
    "print(\"Loop has ended\")"
   ]
  },
  {
   "cell_type": "markdown",
   "id": "b81140c8",
   "metadata": {},
   "source": [
    "### for loop\n",
    "When you want to iterate over a list or a different type of iterable object, you can use a for loop.\n",
    "\n",
    "For instance, if you want to iterate over the numbers from 0 to 9 and print them, you can use the following loop:"
   ]
  },
  {
   "cell_type": "code",
   "execution_count": 8,
   "id": "80dea5f9",
   "metadata": {},
   "outputs": [
    {
     "name": "stdout",
     "output_type": "stream",
     "text": [
      "0\n",
      "1\n",
      "2\n",
      "3\n",
      "4\n",
      "5\n",
      "6\n",
      "7\n",
      "8\n",
      "9\n",
      "Loop has ended\n"
     ]
    }
   ],
   "source": [
    "numbers = range(0, 10) # A quick iterable object between two numbers\n",
    "# Alternatively you can use \n",
    "# numbers = [0, 1, 2, 3, 4, 5, 6, 7, 8, 9]\n",
    "\n",
    "for number in numbers: # You iterate over a limited list, you need no end condition\n",
    "    # We also do not need to update our \"number\" parameter, because that is done in the header of the for loop \n",
    "    print(number)\n",
    "print(\"Loop has ended\")"
   ]
  },
  {
   "cell_type": "markdown",
   "id": "bdd4e248",
   "metadata": {},
   "source": [
    "The enumerate function allows you to not just iterate over the objects within the list, but also over their indexes at the same time.\n",
    "This is helpful, if you want to have two lists of the same size and want to work with both:"
   ]
  },
  {
   "cell_type": "code",
   "execution_count": 9,
   "id": "d19e6d59",
   "metadata": {},
   "outputs": [
    {
     "name": "stdout",
     "output_type": "stream",
     "text": [
      "10\n",
      "12\n",
      "14\n",
      "16\n",
      "18\n",
      "20\n",
      "22\n",
      "24\n",
      "26\n",
      "28\n",
      "Loop has ended\n"
     ]
    }
   ],
   "source": [
    "numbers = range(0, 10) \n",
    "larger_numbers = range(10,20)\n",
    "\n",
    "for index, number in enumerate(numbers):\n",
    "    print(larger_numbers[index] + number)\n",
    "print(\"Loop has ended\")"
   ]
  },
  {
   "cell_type": "markdown",
   "id": "70fe5db3",
   "metadata": {},
   "source": [
    "In the for loop, you can also use the break command to prematurely end your loop:"
   ]
  },
  {
   "cell_type": "code",
   "execution_count": 10,
   "id": "0d195d98",
   "metadata": {},
   "outputs": [
    {
     "name": "stdout",
     "output_type": "stream",
     "text": [
      "0\n",
      "1\n",
      "2\n",
      "3\n",
      "4\n",
      "5\n",
      "6\n",
      "7\n",
      "Loop has ended\n"
     ]
    }
   ],
   "source": [
    "numbers = range(0, 10) \n",
    "\n",
    "for number in numbers:\n",
    "    if number > 7:\n",
    "        break\n",
    "    print(number)\n",
    "print(\"Loop has ended\")"
   ]
  },
  {
   "cell_type": "markdown",
   "id": "996a3508",
   "metadata": {},
   "source": [
    "### List comprehention\n",
    "A list comprehention is a way to create a list with a loop with just one line.\n",
    "\n",
    "A list comprehention is written in the following structure: [f(x) for x in iterable]. On the left hand side, you apply a function f to x. x is an object from an iterable that you are looping over. You surround this with square brackets to indicate that you want the results of f(x) to create a list.\n",
    "\n",
    "In practice, it might look like this:"
   ]
  },
  {
   "cell_type": "code",
   "execution_count": 11,
   "id": "561f8298",
   "metadata": {},
   "outputs": [
    {
     "name": "stdout",
     "output_type": "stream",
     "text": [
      "[10, 12, 14, 16, 18, 20, 22, 24, 26, 28]\n",
      "Loop has ended\n"
     ]
    }
   ],
   "source": [
    "numbers = range(0, 10) \n",
    "larger_numbers = range(10,20)\n",
    "\n",
    "even_larger_numbers = [number + larger_numbers[index] for index, number in enumerate(numbers)]\n",
    "print(even_larger_numbers)\n",
    "print(\"Loop has ended\")"
   ]
  },
  {
   "cell_type": "markdown",
   "id": "6e140cea",
   "metadata": {},
   "source": [
    "## Exercises"
   ]
  }
 ],
 "metadata": {
  "jupytext": {
   "formats": "md:myst",
   "text_representation": {
    "extension": ".md",
    "format_name": "myst",
    "format_version": 0.13,
    "jupytext_version": "1.11.5"
   }
  },
  "kernelspec": {
   "display_name": "Python 3",
   "language": "python",
   "name": "python3"
  },
  "language_info": {
   "codemirror_mode": {
    "name": "ipython",
    "version": 3
   },
   "file_extension": ".py",
   "mimetype": "text/x-python",
   "name": "python",
   "nbconvert_exporter": "python",
   "pygments_lexer": "ipython3",
   "version": "3.11.9"
  },
  "source_map": [
   13,
   32,
   36,
   42,
   48,
   55,
   65,
   85,
   92,
   95,
   102,
   105,
   113,
   116,
   126,
   132,
   141,
   145,
   152,
   155,
   163,
   171,
   178
  ]
 },
 "nbformat": 4,
 "nbformat_minor": 5
}