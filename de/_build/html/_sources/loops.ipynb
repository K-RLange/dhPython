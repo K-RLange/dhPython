{
 "cells": [
  {
   "cell_type": "markdown",
   "id": "8ff273a0",
   "metadata": {},
   "source": [
    "<div style=\"float: right;\">\n",
    "  <a href=\"../de/loops.html\" style=\"margin-left: 10px;\">🇩🇪 Deutsch</a>\n",
    "  <a href=\"../en/loops.html\">🇬🇧 English</a>\n",
    "</div>\n",
    "\n",
    "\n",
    "# 6. Bedingungen und Schleifen\n",
    "\n",
    "In der Programmierung hört es meist nicht bei der Erstellung von Variablen auf. Häufig möchtest du bestimmte Aktionen nur unter bestimmten Bedingungen ausführen oder Aktionen mehrmals wiederholen. Hier kommen Bedingungen und Schleifen ins Spiel.\n",
    "\n",
    "## Bedingungen\n",
    "\n",
    "Bedingungen werden genutzt, um zu prüfen, ob eine Aussage wahr oder falsch ist.\n",
    "Wenn die Aussage wahr ist, wird eine bestimmte Aktion ausgeführt. Wenn die Aussage falsch ist,\n",
    "wird eine andere Aktion ausgeführt. Solche Bedingungen sind immer binär und können daher als Boolean (True oder False) dargestellt werden.\n",
    "\n",
    "````{margin}\n",
    "```{note} Codeblöcke\n",
    "In Python zeigt der Doppelpunkt \":\" den Anfang eines Codeblocks an. Alle Zeilen, die zu diesem Block gehören, werden dann um vier Leerzeichen eingerückt (normalerweise ein Tab). Nur so erkennt Python, welche Zeilen zusammengehören.\n",
    "\n",
    "Diese Struktur – ein Doppelpunkt gefolgt von eingerückten Zeilen – wird immer verwendet, wenn du Bedingungen, Schleifen, Funktionen oder Klassen erstellst.\n",
    "```\n",
    "````\n",
    "\n",
    "Wir prüfen Bedingungen mit dem Schlüsselwort `if`. Der zugehörige eingerückte Codeblock wird nur dann ausgeführt, wenn die Bedingung erfüllt ist."
   ]
  },
  {
   "cell_type": "code",
   "execution_count": 1,
   "id": "433283e8",
   "metadata": {},
   "outputs": [
    {
     "name": "stdout",
     "output_type": "stream",
     "text": [
      "The boolean is true\n"
     ]
    }
   ],
   "source": [
    "boolean = True\n",
    "if boolean:\n",
    "    print(\"The boolean is true\")"
   ]
  },
  {
   "cell_type": "markdown",
   "id": "b28a333b",
   "metadata": {},
   "source": [
    "Mit `else` kannst du definieren, was passiert, wenn die Bedingung **nicht** erfüllt ist:"
   ]
  },
  {
   "cell_type": "code",
   "execution_count": 2,
   "id": "bd528693",
   "metadata": {},
   "outputs": [
    {
     "name": "stdout",
     "output_type": "stream",
     "text": [
      "The number is not larger than 5\n"
     ]
    }
   ],
   "source": [
    "number = 4\n",
    "if number > 5:\n",
    "    print(\"The number is larger than 5\")\n",
    "else:\n",
    "    print(\"The number is not larger than 5\")"
   ]
  },
  {
   "cell_type": "markdown",
   "id": "14290490",
   "metadata": {},
   "source": [
    "Mit `elif` (else if) kannst du mehrere Bedingungen prüfen:"
   ]
  },
  {
   "cell_type": "code",
   "execution_count": 3,
   "id": "6000689a",
   "metadata": {},
   "outputs": [
    {
     "name": "stdout",
     "output_type": "stream",
     "text": [
      "The number is larger than 5 but smaller or equal to 10\n"
     ]
    }
   ],
   "source": [
    "number = 6\n",
    "if number > 10:\n",
    "    print(\"The number is larger than 10\")\n",
    "elif number > 5:\n",
    "    print(\"The number is larger than 5 but smaller or equal to 10\")\n",
    "elif number > 0:\n",
    "    print(\"The number is larger than 0 but smaller than 5\")\n",
    "else:\n",
    "    print(\"The number is smaller or equal to 0\")"
   ]
  },
  {
   "cell_type": "markdown",
   "id": "40c72fce",
   "metadata": {},
   "source": [
    "#### Übung 1\n",
    "\n",
    "Schreibe ein Programm, das nach dem Alter fragt und sagt, ob die Person volljährig ist (ab 18 Jahren)."
   ]
  },
  {
   "cell_type": "code",
   "execution_count": 4,
   "id": "0af375b8",
   "metadata": {},
   "outputs": [
    {
     "name": "stdout",
     "output_type": "stream",
     "text": [
      "You are an adult.\n"
     ]
    }
   ],
   "source": [
    "age = 19\n",
    "if age >= 18:\n",
    "    print(\"You are an adult.\")\n",
    "else:\n",
    "    print(\"You are not adult.\")"
   ]
  },
  {
   "cell_type": "markdown",
   "id": "60df54ce",
   "metadata": {},
   "source": [
    "## Schleifen\n",
    "\n",
    "```{note} Copy-Pasting\n",
    "Mehrfaches Kopieren von Code ist ineffizient und führt zu Fehlern, die an mehreren Stellen korrigiert werden müssten. Verwende stattdessen Schleifen.\n",
    "```\n",
    "\n",
    "Wenn du eine Aktion mehrfach wiederholen willst, verwende Schleifen.\n",
    "Es gibt zwei Hauptarten von Schleifen in Python: `while`-Schleife und `for`-Schleife.\n",
    "\n",
    "### while-Schleife\n",
    "\n",
    "Eine `while`-Schleife wiederholt ihren Codeblock, solange eine Bedingung erfüllt ist:"
   ]
  },
  {
   "cell_type": "code",
   "execution_count": 5,
   "id": "896dc5da",
   "metadata": {},
   "outputs": [
    {
     "name": "stdout",
     "output_type": "stream",
     "text": [
      "1\n",
      "2\n",
      "3\n",
      "4\n",
      "5\n",
      "6\n",
      "7\n",
      "8\n",
      "9\n",
      "10\n",
      "Loop has ended\n"
     ]
    }
   ],
   "source": [
    "number = 0\n",
    "while number < 10:\n",
    "    number += 1\n",
    "    print(number)\n",
    "print(\"Loop has ended\")"
   ]
  },
  {
   "cell_type": "markdown",
   "id": "b499e048",
   "metadata": {},
   "source": [
    "Wenn die Bedingung zu Beginn **nicht** erfüllt ist, wird der Codeblock gar nicht ausgeführt:"
   ]
  },
  {
   "cell_type": "code",
   "execution_count": 6,
   "id": "55dde44a",
   "metadata": {},
   "outputs": [
    {
     "name": "stdout",
     "output_type": "stream",
     "text": [
      "Loop has not been executed\n"
     ]
    }
   ],
   "source": [
    "number = 11\n",
    "while number < 10:\n",
    "    number += 1\n",
    "    print(number)\n",
    "print(\"Loop has not been executed\")"
   ]
  },
  {
   "cell_type": "markdown",
   "id": "c961f174",
   "metadata": {},
   "source": [
    "Man kann `while True:` verwenden und mit `break` gezielt abbrechen:"
   ]
  },
  {
   "cell_type": "code",
   "execution_count": 7,
   "id": "0e251922",
   "metadata": {},
   "outputs": [
    {
     "name": "stdout",
     "output_type": "stream",
     "text": [
      "1\n",
      "2\n",
      "3\n",
      "4\n",
      "5\n",
      "6\n",
      "7\n",
      "8\n",
      "9\n",
      "10\n",
      "Loop has ended\n"
     ]
    }
   ],
   "source": [
    "number = 0\n",
    "while True:\n",
    "    if number >= 10:\n",
    "        break\n",
    "    number += 1\n",
    "    print(number)\n",
    "print(\"Loop has ended\")"
   ]
  },
  {
   "cell_type": "markdown",
   "id": "dc3c2a32",
   "metadata": {},
   "source": [
    "Kombination mit Bedingungen:"
   ]
  },
  {
   "cell_type": "code",
   "execution_count": 8,
   "id": "2c9e3e70",
   "metadata": {},
   "outputs": [
    {
     "name": "stdout",
     "output_type": "stream",
     "text": [
      "1\n",
      "2\n",
      "3\n",
      "4\n",
      "5\n",
      "6\n",
      "7\n",
      "Loop has ended\n"
     ]
    }
   ],
   "source": [
    "number = 0\n",
    "limit = 8\n",
    "while number < 10:\n",
    "    number += 1\n",
    "    if number == limit:\n",
    "        break\n",
    "    print(number)\n",
    "print(\"Loop has ended\")"
   ]
  },
  {
   "cell_type": "markdown",
   "id": "ce1f911e",
   "metadata": {},
   "source": [
    "#### Übung 2\n",
    "\n",
    "Verwende eine `while`-Schleife, um von 1 bis 20 zu zählen, aber gib nur gerade Zahlen aus:"
   ]
  },
  {
   "cell_type": "code",
   "execution_count": 9,
   "id": "071b04d6",
   "metadata": {},
   "outputs": [
    {
     "name": "stdout",
     "output_type": "stream",
     "text": [
      "2\n",
      "4\n",
      "6\n",
      "8\n",
      "10\n",
      "12\n",
      "14\n",
      "16\n",
      "18\n",
      "20\n"
     ]
    }
   ],
   "source": [
    "number = 1\n",
    "while number <= 20:\n",
    "    if number % 2 == 0:\n",
    "        print(number)\n",
    "    number += 1"
   ]
  },
  {
   "cell_type": "markdown",
   "id": "436b2592",
   "metadata": {},
   "source": [
    "#### Übung 3\n",
    "\n",
    "Verwende `while True:` und `break`, um einen Zähler bis 3 zu zählen:"
   ]
  },
  {
   "cell_type": "code",
   "execution_count": 10,
   "id": "22281b09",
   "metadata": {},
   "outputs": [
    {
     "name": "stdout",
     "output_type": "stream",
     "text": [
      "0\n",
      "1\n",
      "2\n"
     ]
    }
   ],
   "source": [
    "counter = 0\n",
    "while True:\n",
    "    if counter == 3:\n",
    "        break\n",
    "    print(counter)\n",
    "    counter += 1"
   ]
  },
  {
   "cell_type": "markdown",
   "id": "20776453",
   "metadata": {},
   "source": [
    "### for-Schleife\n",
    "\n",
    "Wenn du über eine Liste oder ein iterierbares Objekt gehen willst, nutze die `for`-Schleife:"
   ]
  },
  {
   "cell_type": "code",
   "execution_count": 11,
   "id": "d062724c",
   "metadata": {},
   "outputs": [
    {
     "name": "stdout",
     "output_type": "stream",
     "text": [
      "0\n",
      "1\n",
      "2\n",
      "3\n",
      "4\n",
      "5\n",
      "6\n",
      "7\n",
      "8\n",
      "9\n",
      "Loop has ended\n"
     ]
    }
   ],
   "source": [
    "numbers = range(0, 10)\n",
    "for number in numbers:\n",
    "    print(number)\n",
    "print(\"Loop has ended\")"
   ]
  },
  {
   "cell_type": "markdown",
   "id": "dcf88e18",
   "metadata": {},
   "source": [
    "Mit `enumerate` kannst du gleichzeitig über Index und Wert iterieren:"
   ]
  },
  {
   "cell_type": "code",
   "execution_count": 12,
   "id": "5cbcc248",
   "metadata": {},
   "outputs": [
    {
     "name": "stdout",
     "output_type": "stream",
     "text": [
      "10\n",
      "12\n",
      "14\n",
      "16\n",
      "18\n",
      "20\n",
      "22\n",
      "24\n",
      "26\n",
      "28\n",
      "Loop has ended\n"
     ]
    }
   ],
   "source": [
    "numbers = range(0, 10)\n",
    "larger_numbers = range(10, 20)\n",
    "\n",
    "for index, number in enumerate(numbers):\n",
    "    print(larger_numbers[index] + number)\n",
    "print(\"Loop has ended\")"
   ]
  },
  {
   "cell_type": "markdown",
   "id": "c2272e32",
   "metadata": {},
   "source": [
    "Auch in einer `for`-Schleife kannst du mit `break` abbrechen:"
   ]
  },
  {
   "cell_type": "code",
   "execution_count": 13,
   "id": "3ab8931b",
   "metadata": {},
   "outputs": [
    {
     "name": "stdout",
     "output_type": "stream",
     "text": [
      "0\n",
      "1\n",
      "2\n",
      "3\n",
      "4\n",
      "5\n",
      "6\n",
      "7\n",
      "Loop has ended\n"
     ]
    }
   ],
   "source": [
    "for number in range(0, 10):\n",
    "    if number > 7:\n",
    "        break\n",
    "    print(number)\n",
    "print(\"Loop has ended\")"
   ]
  },
  {
   "cell_type": "markdown",
   "id": "8bcc69e1",
   "metadata": {},
   "source": [
    "#### Übung 4\n",
    "\n",
    "Berechne die Summe einer Liste von Zahlen mit einer `for`-Schleife:"
   ]
  },
  {
   "cell_type": "code",
   "execution_count": 14,
   "id": "218a273b",
   "metadata": {},
   "outputs": [
    {
     "name": "stdout",
     "output_type": "stream",
     "text": [
      "35\n"
     ]
    }
   ],
   "source": [
    "numbers = [3, 5, 7, 9, 11]\n",
    "sum = 0\n",
    "for i in numbers:\n",
    "    sum += i\n",
    "print(sum)"
   ]
  },
  {
   "cell_type": "markdown",
   "id": "d40c495a",
   "metadata": {},
   "source": [
    "### List Comprehension\n",
    "\n",
    "Mit einer **List Comprehension** kannst du Listen mit Schleifen in einer einzigen Zeile erzeugen:"
   ]
  },
  {
   "cell_type": "code",
   "execution_count": 15,
   "id": "eeada249",
   "metadata": {},
   "outputs": [
    {
     "name": "stdout",
     "output_type": "stream",
     "text": [
      "[10, 12, 14, 16, 18, 20, 22, 24, 26, 28]\n"
     ]
    }
   ],
   "source": [
    "numbers = range(0, 10)\n",
    "larger_numbers = range(10,20)\n",
    "even_larger_numbers = [number + larger_numbers[index] for index, number in enumerate(numbers)]\n",
    "print(even_larger_numbers)"
   ]
  },
  {
   "cell_type": "markdown",
   "id": "2f5ebcbb",
   "metadata": {},
   "source": [
    "````{margin}\n",
    "```{note}\n",
    "Sei vorsichtig mit Bedingungen in List Comprehensions. Die resultierende Liste sollte die gleiche Länge behalten, sonst kann es zu Fehlern kommen.\n",
    "```\n",
    "````\n",
    "\n",
    "Du kannst Bedingungen innerhalb einer List Comprehension verwenden:"
   ]
  },
  {
   "cell_type": "code",
   "execution_count": 16,
   "id": "4b027643",
   "metadata": {},
   "outputs": [
    {
     "data": {
      "text/plain": [
       "[0.0, 1, 1.0, 3, 2.0, 5, 3.0, 7, 4.0, 9]"
      ]
     },
     "execution_count": 16,
     "metadata": {},
     "output_type": "execute_result"
    }
   ],
   "source": [
    "[number if number % 2 == 1 else number / 2 for number in range(0, 10)]"
   ]
  },
  {
   "cell_type": "markdown",
   "id": "9f5dda20",
   "metadata": {},
   "source": [
    "#### Übung 5\n",
    "\n",
    "Nutze eine List Comprehension, um eine Liste zu erstellen, die die Quadrate der **geraden** Zahlen von 1 bis 20 enthält und **0** für ungerade Zahlen:"
   ]
  },
  {
   "cell_type": "code",
   "execution_count": 17,
   "id": "84899dbe",
   "metadata": {},
   "outputs": [
    {
     "name": "stdout",
     "output_type": "stream",
     "text": [
      "[0, 4, 0, 16, 0, 36, 0, 64, 0, 100, 0, 144, 0, 196, 0, 256, 0, 324, 0]\n"
     ]
    }
   ],
   "source": [
    "new_list = [i ** 2 if i % 2 == 0 else 0 for i in range(1, 20)]\n",
    "print(new_list)"
   ]
  }
 ],
 "metadata": {
  "jupytext": {
   "formats": "md:myst",
   "text_representation": {
    "extension": ".md",
    "format_name": "myst",
    "format_version": 0.13,
    "jupytext_version": "1.11.5"
   }
  },
  "kernelspec": {
   "display_name": "Python 3",
   "language": "python",
   "name": "python3"
  },
  "language_info": {
   "codemirror_mode": {
    "name": "ipython",
    "version": 3
   },
   "file_extension": ".py",
   "mimetype": "text/x-python",
   "name": "python",
   "nbconvert_exporter": "python",
   "pygments_lexer": "ipython3",
   "version": "3.11.9"
  },
  "source_map": [
   13,
   40,
   44,
   48,
   54,
   58,
   68,
   74,
   80,
   95,
   101,
   105,
   111,
   115,
   123,
   127,
   136,
   142,
   148,
   154,
   161,
   167,
   172,
   176,
   183,
   187,
   193,
   199,
   205,
   211,
   216,
   226,
   228,
   234
  ]
 },
 "nbformat": 4,
 "nbformat_minor": 5
}