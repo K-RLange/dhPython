{
 "cells": [
  {
   "cell_type": "markdown",
   "id": "0757d524",
   "metadata": {},
   "source": [
    "<div style=\"float: right;\">\n",
    "  <a href=\"../../../de/functions.html\" style=\"margin-left: 10px;\">🇩🇪 Deutsch</a>\n",
    "  <a href=\"../../../en/functions.html\">🇬🇧 English</a>\n",
    "</div>\n",
    "\n",
    "# 7. Funktionen und Klassen\n",
    "\n",
    "Funktionen und Klassen sind Pythons primäre Möglichkeit, Codeblöcke für wiederholte Ausführungen zu speichern.\n",
    "\n",
    "## Funktionen\n",
    "\n",
    "```{margin} Namensräume\n",
    "Wenn du eine Funktion erstellst, entsteht eine neue Umgebung, in der Variablen unterschiedlich benannt sein können. Das nennt man einen Namensraum.\n",
    "\n",
    "Das bedeutet, dass Variablen, die innerhalb einer Funktion definiert werden, außerhalb dieser Funktion nicht zugänglich sind. Das ist wichtig zu beachten, da du sonst beim Zugriff auf solche Variablen einen Fehler bekommst.\n",
    "```\n",
    "\n",
    "Funktionen sind eine Möglichkeit, einem bestimmten Codeblock einen Namen zu geben, sodass er wiederholt mit unterschiedlichen Startwerten (Inputs) ausgeführt werden kann.\n",
    "\n",
    "Jede Funktion beginnt mit einer Kopfzeile, die das Schlüsselwort \"def\" enthält, gefolgt vom Namen der Funktion. Danach müssen runde Klammern folgen, in denen die benötigten Eingaben stehen. Ein Doppelpunkt folgt danach, und der dazugehörige Funktions-Codeblock wird eingerückt, genauso wie bei Schleifen und Bedingungen. Der Codeblock endet normalerweise mit einem \"return\"-Statement, das angibt, was die Funktion zurückgibt. Die Funktion kann dann mit ihrem Namen und den gewünschten Eingabewerten in Klammern aufgerufen werden.\n",
    "\n",
    "Beispiel: Wenn wir eine Funktion erstellen wollen, die den Wert von x^2 + 2 zurückgibt, wobei x unser Input ist:"
   ]
  },
  {
   "cell_type": "code",
   "execution_count": 1,
   "id": "7f78a5f6",
   "metadata": {},
   "outputs": [
    {
     "name": "stdout",
     "output_type": "stream",
     "text": [
      "6\n"
     ]
    }
   ],
   "source": [
    "def example_function(x):\n",
    "    result = x ** 2 + 2\n",
    "    return result\n",
    "\n",
    "function_result = example_function(2)\n",
    "print(function_result)"
   ]
  },
  {
   "cell_type": "markdown",
   "id": "b63879ee",
   "metadata": {},
   "source": [
    "Man kann einer Funktion auch mehrere Eingabewerte geben. Wenn wir z. B. x^k + 2 berechnen wollen:"
   ]
  },
  {
   "cell_type": "code",
   "execution_count": 2,
   "id": "c981610f",
   "metadata": {},
   "outputs": [
    {
     "name": "stdout",
     "output_type": "stream",
     "text": [
      "10\n"
     ]
    }
   ],
   "source": [
    "def example_function(x, k):\n",
    "    result = x ** k + 2\n",
    "    return result\n",
    "\n",
    "function_result = example_function(2, 3)\n",
    "print(function_result)"
   ]
  },
  {
   "cell_type": "markdown",
   "id": "fa28c449",
   "metadata": {},
   "source": [
    "Wir können auch Standardwerte für Eingaben im Funktionskopf festlegen. Hier ein Beispiel mit k=2 als Standardwert:"
   ]
  },
  {
   "cell_type": "code",
   "execution_count": 3,
   "id": "e15d8f9c",
   "metadata": {},
   "outputs": [
    {
     "name": "stdout",
     "output_type": "stream",
     "text": [
      "6\n",
      "10\n"
     ]
    }
   ],
   "source": [
    "def example_function(x, k=2):\n",
    "    result = x ** k + 2\n",
    "    return result\n",
    "\n",
    "# Standardwert\n",
    "function_result = example_function(2) # k muss nicht angegeben werden\n",
    "print(function_result)\n",
    "\n",
    "# Anderer Wert als der Standard:\n",
    "function_result = example_function(2, 3) # k wird angegeben\n",
    "print(function_result)"
   ]
  },
  {
   "cell_type": "markdown",
   "id": "00eb64da",
   "metadata": {},
   "source": [
    "Wenn Funktionen viele Eingabevariablen haben, möchte man manchmal nur eine bestimmte davon ändern. Das geht, indem man die entsprechende Variable beim Funktionsaufruf explizit angibt:"
   ]
  },
  {
   "cell_type": "code",
   "execution_count": 4,
   "id": "69139cbd",
   "metadata": {},
   "outputs": [
    {
     "name": "stdout",
     "output_type": "stream",
     "text": [
      "10\n"
     ]
    }
   ],
   "source": [
    "def example_function(x, a=1, b=1, c=1, d=1, e=1, f=1, k=2):\n",
    "    result = x ** k + 2\n",
    "    return result\n",
    "\n",
    "function_result = example_function(2, k=3) # Nur k wird geändert\n",
    "print(function_result)"
   ]
  },
  {
   "cell_type": "markdown",
   "id": "11a484b5",
   "metadata": {},
   "source": [
    "Wenn man seine Funktionen beschreiben möchte (hilfreich für andere Nutzer), kann man Docstrings verwenden. Diese werden direkt nach dem Funktionskopf mit drei Anführungszeichen erstellt:"
   ]
  },
  {
   "cell_type": "code",
   "execution_count": 5,
   "id": "fa5a354f",
   "metadata": {},
   "outputs": [
    {
     "name": "stdout",
     "output_type": "stream",
     "text": [
      "Help on function example_function in module __main__:\n",
      "\n",
      "example_function(x, k=2)\n",
      "    Dies ist eine Beispiel-Funktion. Sie berechnet x^k + 2\n",
      "    Args:\n",
      "        x: Die Zahl, für die der Ausdruck berechnet wird.\n",
      "        k: Der Exponent\n",
      "    Returns:\n",
      "        x^k + 2\n",
      "\n",
      "None\n"
     ]
    }
   ],
   "source": [
    "def example_function(x, k=2):\n",
    "    \"\"\"Dies ist eine Beispiel-Funktion. Sie berechnet x^k + 2\n",
    "    Args:\n",
    "        x: Die Zahl, für die der Ausdruck berechnet wird.\n",
    "        k: Der Exponent\n",
    "    Returns:\n",
    "        x^k + 2\n",
    "    \"\"\"\n",
    "    result = x ** k + 2\n",
    "    return result\n",
    "\n",
    "print(help(example_function))"
   ]
  },
  {
   "cell_type": "markdown",
   "id": "06608c66",
   "metadata": {},
   "source": [
    "#### Übung 1\n",
    "\n",
    "Schreibe eine Funktion namens `add_five`, die eine Zahl als Eingabe nimmt und diese Zahl plus fünf zurückgibt. Führe sie mit einer beliebigen Zahl aus, um zu testen, ob sie funktioniert."
   ]
  },
  {
   "cell_type": "code",
   "execution_count": 6,
   "id": "9b49dacc",
   "metadata": {},
   "outputs": [],
   "source": [
    "# Dein Code hier"
   ]
  },
  {
   "cell_type": "code",
   "execution_count": 7,
   "id": "9a2f0583",
   "metadata": {
    "tags": [
     "hide-cell"
    ]
   },
   "outputs": [
    {
     "name": "stdout",
     "output_type": "stream",
     "text": [
      "15\n"
     ]
    }
   ],
   "source": [
    "def add_five(x):\n",
    "    return x + 5\n",
    "\n",
    "print(add_five(10))"
   ]
  },
  {
   "cell_type": "markdown",
   "id": "98e42261",
   "metadata": {},
   "source": [
    "---\n",
    "\n",
    "#### Übung 2\n",
    "\n",
    "Schreibe eine Funktion namens `power_plus_two`, die zwei Eingaben `x` und `k` nimmt und `x` hoch `k` plus 2 zurückgibt.\n",
    "Rufe die Funktion mit den Werten `x = 3`, `k = 2` auf."
   ]
  },
  {
   "cell_type": "code",
   "execution_count": 8,
   "id": "465d9652",
   "metadata": {},
   "outputs": [],
   "source": [
    "# Dein Code hier"
   ]
  },
  {
   "cell_type": "code",
   "execution_count": 9,
   "id": "b80a3ff7",
   "metadata": {
    "tags": [
     "hide-cell"
    ]
   },
   "outputs": [
    {
     "name": "stdout",
     "output_type": "stream",
     "text": [
      "11\n"
     ]
    }
   ],
   "source": [
    "def power_plus_two(x, k):\n",
    "    return x ** k + 2\n",
    "\n",
    "print(power_plus_two(3, 2))"
   ]
  },
  {
   "cell_type": "markdown",
   "id": "9d337ba5",
   "metadata": {},
   "source": [
    "## Klassen\n",
    "\n",
    "```{note}\n",
    "Die Namen von Klassen werden normalerweise großgeschrieben, während Funktions- und Variablennamen klein geschrieben werden.\n",
    "```\n",
    "\n",
    "Klassen sind größere Strukturen, die mehrere Funktionen und Variablen speichern können. Dies dient oft dazu, ein zusammenhängendes Objekt zu erstellen, das komplexe Operationen mit mehreren Funktionen durchführen kann.\n",
    "\n",
    "Klassen werden mit einer Kopfzeile wie \"class Klassen\\_Name\" erstellt. Jede Klasse muss eine Initialisierungsfunktion \"**init**(self, ...)\" enthalten.\n",
    "\n",
    "* Die Unterstriche deuten darauf hin, dass diese Funktion nicht direkt vom Nutzer verändert werden soll.\n",
    "* Der Parameter \"self\" wird in (fast) jeder Funktion einer Klasse verwendet. Damit kann man innerhalb der Klasse auf andere Funktionen und Variablen zugreifen.\n",
    "\n",
    "Beispiel: Wir erstellen eine Klasse, die bei der Initialisierung eine Variable x als Input nimmt. Dann definieren wir zwei Funktionen: Eine berechnet x^k, die andere x^k+m. Die zweite ruft die erste auf:"
   ]
  },
  {
   "cell_type": "code",
   "execution_count": 10,
   "id": "ed0d675c",
   "metadata": {},
   "outputs": [
    {
     "name": "stdout",
     "output_type": "stream",
     "text": [
      "8\n",
      "12\n",
      "2\n"
     ]
    }
   ],
   "source": [
    "class Example_Class:\n",
    "    def __init__(self, x):\n",
    "        self.x = x  # self setzt eine Klassenvariable\n",
    "\n",
    "    def exponential(self, k=2):\n",
    "        result = self.x ** k  # Zugriff auf self.x\n",
    "        return result\n",
    "\n",
    "    def exponential_plus_m(self, k=2, m=2):\n",
    "        exponential_result = self.exponential(k)  # Aufruf interner Funktion\n",
    "        result = exponential_result + m\n",
    "        return result\n",
    "\n",
    "exponential_calculator = Example_Class(x=2)\n",
    "result1 = exponential_calculator.exponential(k=3)\n",
    "print(result1)\n",
    "result2 = exponential_calculator.exponential_plus_m(k=3, m=4)\n",
    "print(result2)\n",
    "print(exponential_calculator.x)"
   ]
  },
  {
   "cell_type": "markdown",
   "id": "27f78775",
   "metadata": {},
   "source": [
    "Wie du siehst, rufen wir Funktionen und Variablen innerhalb der Klasse über einen Punkt-Zugriff auf das Objekt auf.\n",
    "\n",
    "#### Übung 3\n",
    "\n",
    "Schreibe eine Klasse namens `Calculator`, die eine Zahl `x` in der Methode `__init__` übernimmt.\n",
    "Erstelle zwei Methoden:\n",
    "\n",
    "* `square`: gibt `x` zum Quadrat zurück.\n",
    "* `add_number`: nimmt ein Argument und gibt die Summe von `x` und diesem Argument zurück.\n",
    "\n",
    "Erzeuge dann ein Objekt von `Calculator` mit `x = 4` und rufe beide Methoden auf."
   ]
  },
  {
   "cell_type": "code",
   "execution_count": 11,
   "id": "baf75957",
   "metadata": {},
   "outputs": [],
   "source": [
    "# Dein Code hier"
   ]
  },
  {
   "cell_type": "code",
   "execution_count": 12,
   "id": "b0d859a2",
   "metadata": {
    "tags": [
     "hide-cell"
    ]
   },
   "outputs": [
    {
     "name": "stdout",
     "output_type": "stream",
     "text": [
      "16\n",
      "10\n"
     ]
    }
   ],
   "source": [
    "class Calculator:\n",
    "    def __init__(self, x):\n",
    "        self.x = x\n",
    "\n",
    "    def square(self):\n",
    "        return self.x ** 2\n",
    "\n",
    "    def add_number(self, y):\n",
    "        return self.x + y\n",
    "\n",
    "calc = Calculator(4)\n",
    "print(calc.square())\n",
    "print(calc.add_number(6))"
   ]
  },
  {
   "cell_type": "markdown",
   "id": "1e1b07ea",
   "metadata": {},
   "source": [
    "---\n",
    "\n",
    "#### Übung 4\n",
    "\n",
    "Erweitere die `Calculator`-Klasse aus Übung 3 um eine Methode `multiply_and_add`, die `x` mit einer Zahl `m` multipliziert und eine weitere Zahl `a` addiert.\n",
    "Rufe sie mit `m = 3` und `a = 2` auf."
   ]
  },
  {
   "cell_type": "code",
   "execution_count": 13,
   "id": "d498619e",
   "metadata": {},
   "outputs": [],
   "source": [
    "# Dein Code hier"
   ]
  },
  {
   "cell_type": "code",
   "execution_count": 14,
   "id": "4c5ee815",
   "metadata": {
    "tags": [
     "hide-cell"
    ]
   },
   "outputs": [
    {
     "name": "stdout",
     "output_type": "stream",
     "text": [
      "14\n"
     ]
    }
   ],
   "source": [
    "class Calculator:\n",
    "    def __init__(self, x):\n",
    "        self.x = x\n",
    "\n",
    "    def square(self):\n",
    "        return self.x ** 2\n",
    "\n",
    "    def add_number(self, y):\n",
    "        return self.x + y\n",
    "\n",
    "    def multiply_and_add(self, m, a):\n",
    "        return self.x * m + a\n",
    "\n",
    "calc = Calculator(4)\n",
    "print(calc.multiply_and_add(3, 2))"
   ]
  }
 ],
 "metadata": {
  "jupytext": {
   "formats": "md:myst",
   "text_representation": {
    "extension": ".md",
    "format_name": "myst",
    "format_version": 0.13,
    "jupytext_version": "1.11.5"
   }
  },
  "kernelspec": {
   "display_name": "Python 3",
   "language": "python",
   "name": "python3"
  },
  "language_info": {
   "codemirror_mode": {
    "name": "ipython",
    "version": 3
   },
   "file_extension": ".py",
   "mimetype": "text/x-python",
   "name": "python",
   "nbconvert_exporter": "python",
   "pygments_lexer": "ipython3",
   "version": "3.9.6"
  },
  "source_map": [
   13,
   37,
   44,
   48,
   55,
   59,
   71,
   75,
   82,
   86,
   99,
   105,
   109,
   115,
   124,
   128,
   134,
   151,
   171,
   185,
   189,
   204,
   213,
   217
  ]
 },
 "nbformat": 4,
 "nbformat_minor": 5
}